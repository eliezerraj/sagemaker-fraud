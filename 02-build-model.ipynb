{
 "cells": [
  {
   "cell_type": "markdown",
   "id": "0ea3a942-a7ec-4dd3-b1da-147a717bbf50",
   "metadata": {},
   "source": [
    "# Load libraries"
   ]
  },
  {
   "cell_type": "code",
   "execution_count": 1,
   "id": "2cb1b4b5-3c3d-4dad-b7e0-6925e4c4e4f7",
   "metadata": {},
   "outputs": [
    {
     "name": "stdout",
     "output_type": "stream",
     "text": [
      "sagemaker.config INFO - Not applying SDK defaults from location: /etc/xdg/sagemaker/config.yaml\n",
      "sagemaker.config INFO - Not applying SDK defaults from location: /home/sagemaker-user/.config/sagemaker/config.yaml\n"
     ]
    }
   ],
   "source": [
    "# pip3 install s3fs\n",
    "from sagemaker import Session\n",
    "import sagemaker\n",
    "import boto3\n",
    "import re\n",
    "from sagemaker import get_execution_role\n",
    "import numpy as np\n",
    "import pandas as pd\n",
    "import os"
   ]
  },
  {
   "cell_type": "code",
   "execution_count": 6,
   "id": "05f1ef51-0e53-4620-b4e4-3f5cba0e2c45",
   "metadata": {},
   "outputs": [
    {
     "name": "stdout",
     "output_type": "stream",
     "text": [
      "sagemaker.config INFO - Not applying SDK defaults from location: /etc/xdg/sagemaker/config.yaml\n",
      "sagemaker.config INFO - Not applying SDK defaults from location: /home/sagemaker-user/.config/sagemaker/config.yaml\n",
      "s3://eliezerraj-908671954593-dataset/payment/notebook/output/train/train_data.csv\n",
      "s3://eliezerraj-908671954593-dataset/payment/notebook/output/validation/validation_data.csv\n",
      "---------------------------------\n",
      "bucket_name 'eliezerraj-908671954593-dataset':\n",
      "prefix_name 'payment/notebook/output':\n",
      "x_train_data_file 's3://eliezerraj-908671954593-dataset/payment/notebook/output/train/train_data.csv':\n",
      "validation_data_file 's3://eliezerraj-908671954593-dataset/payment/notebook/output/validation/validation_data.csv':\n"
     ]
    }
   ],
   "source": [
    "role = get_execution_role()\n",
    "\n",
    "bucket_name = 'eliezerraj-908671954593-dataset'\n",
    "prefix_name = 'payment/notebook/output'\n",
    "\n",
    "train_path = f\"s3://{bucket_name}/{prefix_name}/train\"\n",
    "validation_path = f\"s3://{bucket_name}/{prefix_name}/validation\"\n",
    "test_path = f\"s3://{bucket_name}/{prefix_name}/test\"\n",
    "\n",
    "x_train_data_file = f's3://{bucket_name}/{prefix_name}/train/train_data.csv'\n",
    "x_train_input = sagemaker.inputs.TrainingInput(x_train_data_file, content_type='csv')\n",
    "validation_data_file = f's3://{bucket_name}/{prefix_name}/validation/validation_data.csv'\n",
    "validation_input = sagemaker.inputs.TrainingInput(validation_data_file, content_type='text/csv')\n",
    "\n",
    "print(\"---------------------------------\")\n",
    "print(f\"bucket_name '{bucket_name}':\")\n",
    "print(f\"prefix_name '{prefix_name}':\")\n",
    "\n",
    "print(f\"x_train_data_file '{x_train_data_file}':\")\n",
    "print(f\"validation_data_file '{validation_data_file}':\")"
   ]
  },
  {
   "cell_type": "markdown",
   "id": "489dbfcd-3f5a-491d-a51a-1bb7d6dc90b2",
   "metadata": {},
   "source": [
    "# Prepare the model"
   ]
  },
  {
   "cell_type": "code",
   "execution_count": 8,
   "id": "d6282ec8-0eb0-4872-a37b-b36b57077124",
   "metadata": {},
   "outputs": [],
   "source": [
    "container = sagemaker.image_uris.retrieve(region=boto3.Session().region_name,\n",
    "                                          framework='xgboost',\n",
    "                                          version='latest')"
   ]
  },
  {
   "cell_type": "code",
   "execution_count": 9,
   "id": "3f5bfdec-705f-4355-8d54-b18cb68ba370",
   "metadata": {},
   "outputs": [
    {
     "name": "stdout",
     "output_type": "stream",
     "text": [
      "sagemaker.config INFO - Not applying SDK defaults from location: /etc/xdg/sagemaker/config.yaml\n",
      "sagemaker.config INFO - Not applying SDK defaults from location: /home/sagemaker-user/.config/sagemaker/config.yaml\n"
     ]
    },
    {
     "name": "stderr",
     "output_type": "stream",
     "text": [
      "INFO:sagemaker:Creating training-job with name: xgboost-2024-04-22-00-30-16-096\n"
     ]
    },
    {
     "name": "stdout",
     "output_type": "stream",
     "text": [
      "2024-04-22 00:30:16 Starting - Starting the training job...\n",
      "2024-04-22 00:30:30 Starting - Preparing the instances for training......\n",
      "2024-04-22 00:31:38 Downloading - Downloading input data......\n",
      "2024-04-22 00:32:18 Downloading - Downloading the training image...\n",
      "2024-04-22 00:33:09 Training - Training image download completed. Training in progress.\n",
      "2024-04-22 00:33:09 Uploading - Uploading generated training model\u001b[34mArguments: train\u001b[0m\n",
      "\u001b[34m[2024-04-22:00:33:05:INFO] Running standalone xgboost training.\u001b[0m\n",
      "\u001b[34m[2024-04-22:00:33:05:INFO] File size need to be processed in the node: 2.04mb. Available memory size in the node: 8483.96mb\u001b[0m\n",
      "\u001b[34m[2024-04-22:00:33:05:INFO] Determined delimiter of CSV input is ','\u001b[0m\n",
      "\u001b[34m[00:33:05] S3DistributionType set as FullyReplicated\u001b[0m\n",
      "\u001b[34m[00:33:05] 36256x12 matrix with 435072 entries loaded from /opt/ml/input/data/train?format=csv&label_column=0&delimiter=,\u001b[0m\n",
      "\u001b[34m[2024-04-22:00:33:05:INFO] Determined delimiter of CSV input is ','\u001b[0m\n",
      "\u001b[34m[00:33:05] S3DistributionType set as FullyReplicated\u001b[0m\n",
      "\u001b[34m[00:33:05] 10359x12 matrix with 124308 entries loaded from /opt/ml/input/data/validation?format=csv&label_column=0&delimiter=,\u001b[0m\n",
      "\u001b[34m[00:33:05] src/tree/updater_prune.cc:74: tree pruning end, 1 roots, 28 extra nodes, 0 pruned nodes, max_depth=5\u001b[0m\n",
      "\u001b[34m[0]#011train-error:0.027857#011validation-error:0.028478\u001b[0m\n",
      "\u001b[34m[00:33:05] src/tree/updater_prune.cc:74: tree pruning end, 1 roots, 30 extra nodes, 0 pruned nodes, max_depth=5\u001b[0m\n",
      "\u001b[34m[1]#011train-error:0.027389#011validation-error:0.028092\u001b[0m\n",
      "\u001b[34m[00:33:05] src/tree/updater_prune.cc:74: tree pruning end, 1 roots, 28 extra nodes, 0 pruned nodes, max_depth=5\u001b[0m\n",
      "\u001b[34m[2]#011train-error:0.023803#011validation-error:0.023651\u001b[0m\n",
      "\u001b[34m[00:33:05] src/tree/updater_prune.cc:74: tree pruning end, 1 roots, 24 extra nodes, 2 pruned nodes, max_depth=5\u001b[0m\n",
      "\u001b[34m[3]#011train-error:0.023693#011validation-error:0.023458\u001b[0m\n",
      "\u001b[34m[00:33:05] src/tree/updater_prune.cc:74: tree pruning end, 1 roots, 30 extra nodes, 0 pruned nodes, max_depth=5\u001b[0m\n",
      "\u001b[34m[4]#011train-error:0.022838#011validation-error:0.022493\u001b[0m\n",
      "\u001b[34m[00:33:05] src/tree/updater_prune.cc:74: tree pruning end, 1 roots, 24 extra nodes, 0 pruned nodes, max_depth=5\u001b[0m\n",
      "\u001b[34m[5]#011train-error:0.022782#011validation-error:0.022493\u001b[0m\n",
      "\u001b[34m[00:33:05] src/tree/updater_prune.cc:74: tree pruning end, 1 roots, 30 extra nodes, 0 pruned nodes, max_depth=5\u001b[0m\n",
      "\u001b[34m[6]#011train-error:0.022948#011validation-error:0.022396\u001b[0m\n",
      "\u001b[34m[00:33:05] src/tree/updater_prune.cc:74: tree pruning end, 1 roots, 28 extra nodes, 2 pruned nodes, max_depth=5\u001b[0m\n",
      "\u001b[34m[7]#011train-error:0.02281#011validation-error:0.022493\u001b[0m\n",
      "\u001b[34m[00:33:05] src/tree/updater_prune.cc:74: tree pruning end, 1 roots, 28 extra nodes, 0 pruned nodes, max_depth=5\u001b[0m\n",
      "\u001b[34m[8]#011train-error:0.022451#011validation-error:0.021817\u001b[0m\n",
      "\u001b[34m[00:33:05] src/tree/updater_prune.cc:74: tree pruning end, 1 roots, 26 extra nodes, 0 pruned nodes, max_depth=5\u001b[0m\n",
      "\u001b[34m[9]#011train-error:0.022424#011validation-error:0.021527\u001b[0m\n",
      "\u001b[34m[00:33:05] src/tree/updater_prune.cc:74: tree pruning end, 1 roots, 26 extra nodes, 0 pruned nodes, max_depth=5\u001b[0m\n",
      "\u001b[34m[10]#011train-error:0.021983#011validation-error:0.021334\u001b[0m\n",
      "\u001b[34m[00:33:05] src/tree/updater_prune.cc:74: tree pruning end, 1 roots, 24 extra nodes, 0 pruned nodes, max_depth=5\u001b[0m\n",
      "\u001b[34m[11]#011train-error:0.0219#011validation-error:0.020658\u001b[0m\n",
      "\u001b[34m[00:33:05] src/tree/updater_prune.cc:74: tree pruning end, 1 roots, 24 extra nodes, 2 pruned nodes, max_depth=5\u001b[0m\n",
      "\u001b[34m[12]#011train-error:0.021955#011validation-error:0.020851\u001b[0m\n",
      "\u001b[34m[00:33:05] src/tree/updater_prune.cc:74: tree pruning end, 1 roots, 20 extra nodes, 4 pruned nodes, max_depth=5\u001b[0m\n",
      "\u001b[34m[13]#011train-error:0.021321#011validation-error:0.020079\u001b[0m\n",
      "\u001b[34m[00:33:05] src/tree/updater_prune.cc:74: tree pruning end, 1 roots, 24 extra nodes, 2 pruned nodes, max_depth=5\u001b[0m\n",
      "\u001b[34m[14]#011train-error:0.021376#011validation-error:0.020272\u001b[0m\n",
      "\u001b[34m[00:33:05] src/tree/updater_prune.cc:74: tree pruning end, 1 roots, 26 extra nodes, 0 pruned nodes, max_depth=5\u001b[0m\n",
      "\u001b[34m[15]#011train-error:0.021183#011validation-error:0.019886\u001b[0m\n",
      "\u001b[34m[00:33:05] src/tree/updater_prune.cc:74: tree pruning end, 1 roots, 24 extra nodes, 2 pruned nodes, max_depth=5\u001b[0m\n",
      "\u001b[34m[16]#011train-error:0.02041#011validation-error:0.018535\u001b[0m\n",
      "\u001b[34m[00:33:05] src/tree/updater_prune.cc:74: tree pruning end, 1 roots, 26 extra nodes, 2 pruned nodes, max_depth=5\u001b[0m\n",
      "\u001b[34m[17]#011train-error:0.020548#011validation-error:0.0195\u001b[0m\n",
      "\u001b[34m[00:33:05] src/tree/updater_prune.cc:74: tree pruning end, 1 roots, 16 extra nodes, 0 pruned nodes, max_depth=5\u001b[0m\n",
      "\u001b[34m[18]#011train-error:0.02019#011validation-error:0.018245\u001b[0m\n",
      "\u001b[34m[00:33:05] src/tree/updater_prune.cc:74: tree pruning end, 1 roots, 20 extra nodes, 2 pruned nodes, max_depth=5\u001b[0m\n",
      "\u001b[34m[19]#011train-error:0.020052#011validation-error:0.018438\u001b[0m\n",
      "\u001b[34m[00:33:05] src/tree/updater_prune.cc:74: tree pruning end, 1 roots, 16 extra nodes, 2 pruned nodes, max_depth=5\u001b[0m\n",
      "\u001b[34m[20]#011train-error:0.019997#011validation-error:0.018535\u001b[0m\n",
      "\u001b[34m[00:33:05] src/tree/updater_prune.cc:74: tree pruning end, 1 roots, 16 extra nodes, 2 pruned nodes, max_depth=5\u001b[0m\n",
      "\u001b[34m[21]#011train-error:0.019638#011validation-error:0.018052\u001b[0m\n",
      "\u001b[34m[00:33:05] src/tree/updater_prune.cc:74: tree pruning end, 1 roots, 16 extra nodes, 2 pruned nodes, max_depth=5\u001b[0m\n",
      "\u001b[34m[22]#011train-error:0.019473#011validation-error:0.017762\u001b[0m\n",
      "\u001b[34m[00:33:05] src/tree/updater_prune.cc:74: tree pruning end, 1 roots, 12 extra nodes, 0 pruned nodes, max_depth=5\u001b[0m\n",
      "\u001b[34m[23]#011train-error:0.01939#011validation-error:0.017859\u001b[0m\n",
      "\u001b[34m[00:33:05] src/tree/updater_prune.cc:74: tree pruning end, 1 roots, 30 extra nodes, 0 pruned nodes, max_depth=5\u001b[0m\n",
      "\u001b[34m[24]#011train-error:0.019224#011validation-error:0.017569\u001b[0m\n",
      "\u001b[34m[00:33:05] src/tree/updater_prune.cc:74: tree pruning end, 1 roots, 18 extra nodes, 2 pruned nodes, max_depth=5\u001b[0m\n",
      "\u001b[34m[25]#011train-error:0.019031#011validation-error:0.018052\u001b[0m\n",
      "\u001b[34m[00:33:05] src/tree/updater_prune.cc:74: tree pruning end, 1 roots, 16 extra nodes, 0 pruned nodes, max_depth=5\u001b[0m\n",
      "\u001b[34m[26]#011train-error:0.018866#011validation-error:0.017859\u001b[0m\n",
      "\u001b[34m[00:33:05] src/tree/updater_prune.cc:74: tree pruning end, 1 roots, 12 extra nodes, 4 pruned nodes, max_depth=5\u001b[0m\n",
      "\u001b[34m[27]#011train-error:0.018866#011validation-error:0.017859\u001b[0m\n",
      "\u001b[34m[00:33:05] src/tree/updater_prune.cc:74: tree pruning end, 1 roots, 28 extra nodes, 2 pruned nodes, max_depth=5\u001b[0m\n",
      "\u001b[34m[28]#011train-error:0.018397#011validation-error:0.018052\u001b[0m\n",
      "\u001b[34m[00:33:05] src/tree/updater_prune.cc:74: tree pruning end, 1 roots, 16 extra nodes, 2 pruned nodes, max_depth=5\u001b[0m\n",
      "\u001b[34m[29]#011train-error:0.018452#011validation-error:0.018052\u001b[0m\n",
      "\u001b[34m[00:33:05] src/tree/updater_prune.cc:74: tree pruning end, 1 roots, 30 extra nodes, 10 pruned nodes, max_depth=5\u001b[0m\n",
      "\u001b[34m[30]#011train-error:0.018204#011validation-error:0.018148\u001b[0m\n",
      "\u001b[34m[00:33:05] src/tree/updater_prune.cc:74: tree pruning end, 1 roots, 22 extra nodes, 6 pruned nodes, max_depth=5\u001b[0m\n",
      "\u001b[34m[31]#011train-error:0.018121#011validation-error:0.017569\u001b[0m\n",
      "\u001b[34m[00:33:05] src/tree/updater_prune.cc:74: tree pruning end, 1 roots, 10 extra nodes, 0 pruned nodes, max_depth=5\u001b[0m\n",
      "\u001b[34m[32]#011train-error:0.018121#011validation-error:0.017569\u001b[0m\n",
      "\u001b[34m[00:33:05] src/tree/updater_prune.cc:74: tree pruning end, 1 roots, 24 extra nodes, 18 pruned nodes, max_depth=5\u001b[0m\n",
      "\u001b[34m[33]#011train-error:0.018038#011validation-error:0.017569\u001b[0m\n",
      "\u001b[34m[00:33:05] src/tree/updater_prune.cc:74: tree pruning end, 1 roots, 12 extra nodes, 0 pruned nodes, max_depth=5\u001b[0m\n",
      "\u001b[34m[34]#011train-error:0.0179#011validation-error:0.017473\u001b[0m\n",
      "\u001b[34m[00:33:05] src/tree/updater_prune.cc:74: tree pruning end, 1 roots, 26 extra nodes, 6 pruned nodes, max_depth=5\u001b[0m\n",
      "\u001b[34m[35]#011train-error:0.017763#011validation-error:0.018052\u001b[0m\n",
      "\u001b[34m[00:33:06] src/tree/updater_prune.cc:74: tree pruning end, 1 roots, 24 extra nodes, 2 pruned nodes, max_depth=5\u001b[0m\n",
      "\u001b[34m[36]#011train-error:0.017625#011validation-error:0.017762\u001b[0m\n",
      "\u001b[34m[00:33:06] src/tree/updater_prune.cc:74: tree pruning end, 1 roots, 28 extra nodes, 18 pruned nodes, max_depth=5\u001b[0m\n",
      "\u001b[34m[37]#011train-error:0.017432#011validation-error:0.01728\u001b[0m\n",
      "\u001b[34m[00:33:06] src/tree/updater_prune.cc:74: tree pruning end, 1 roots, 28 extra nodes, 14 pruned nodes, max_depth=5\u001b[0m\n",
      "\u001b[34m[38]#011train-error:0.017432#011validation-error:0.017473\u001b[0m\n",
      "\u001b[34m[00:33:06] src/tree/updater_prune.cc:74: tree pruning end, 1 roots, 14 extra nodes, 2 pruned nodes, max_depth=5\u001b[0m\n",
      "\u001b[34m[39]#011train-error:0.017211#011validation-error:0.017569\u001b[0m\n",
      "\u001b[34m[00:33:06] src/tree/updater_prune.cc:74: tree pruning end, 1 roots, 22 extra nodes, 8 pruned nodes, max_depth=5\u001b[0m\n",
      "\u001b[34m[40]#011train-error:0.017101#011validation-error:0.017666\u001b[0m\n",
      "\u001b[34m[00:33:06] src/tree/updater_prune.cc:74: tree pruning end, 1 roots, 32 extra nodes, 4 pruned nodes, max_depth=5\u001b[0m\n",
      "\u001b[34m[41]#011train-error:0.017018#011validation-error:0.017859\u001b[0m\n",
      "\u001b[34m[00:33:06] src/tree/updater_prune.cc:74: tree pruning end, 1 roots, 26 extra nodes, 12 pruned nodes, max_depth=5\u001b[0m\n",
      "\u001b[34m[42]#011train-error:0.016632#011validation-error:0.017666\u001b[0m\n",
      "\u001b[34m[00:33:06] src/tree/updater_prune.cc:74: tree pruning end, 1 roots, 16 extra nodes, 4 pruned nodes, max_depth=5\u001b[0m\n",
      "\u001b[34m[43]#011train-error:0.016466#011validation-error:0.017666\u001b[0m\n",
      "\u001b[34m[00:33:06] src/tree/updater_prune.cc:74: tree pruning end, 1 roots, 16 extra nodes, 16 pruned nodes, max_depth=5\u001b[0m\n",
      "\u001b[34m[44]#011train-error:0.016356#011validation-error:0.017666\u001b[0m\n",
      "\u001b[34m[00:33:06] src/tree/updater_prune.cc:74: tree pruning end, 1 roots, 20 extra nodes, 16 pruned nodes, max_depth=5\u001b[0m\n",
      "\u001b[34m[45]#011train-error:0.016383#011validation-error:0.017666\u001b[0m\n",
      "\u001b[34m[00:33:06] src/tree/updater_prune.cc:74: tree pruning end, 1 roots, 18 extra nodes, 2 pruned nodes, max_depth=5\u001b[0m\n",
      "\u001b[34m[46]#011train-error:0.016301#011validation-error:0.017569\u001b[0m\n",
      "\u001b[34m[00:33:06] src/tree/updater_prune.cc:74: tree pruning end, 1 roots, 24 extra nodes, 20 pruned nodes, max_depth=5\u001b[0m\n",
      "\u001b[34m[47]#011train-error:0.01608#011validation-error:0.01728\u001b[0m\n",
      "\u001b[34m[00:33:06] src/tree/updater_prune.cc:74: tree pruning end, 1 roots, 20 extra nodes, 14 pruned nodes, max_depth=5\u001b[0m\n",
      "\u001b[34m[48]#011train-error:0.016025#011validation-error:0.017569\u001b[0m\n",
      "\u001b[34m[00:33:06] src/tree/updater_prune.cc:74: tree pruning end, 1 roots, 20 extra nodes, 4 pruned nodes, max_depth=5\u001b[0m\n",
      "\u001b[34m[49]#011train-error:0.015997#011validation-error:0.017376\u001b[0m\n",
      "\u001b[34m[00:33:06] src/tree/updater_prune.cc:74: tree pruning end, 1 roots, 18 extra nodes, 8 pruned nodes, max_depth=5\u001b[0m\n",
      "\u001b[34m[50]#011train-error:0.015915#011validation-error:0.017376\u001b[0m\n",
      "\u001b[34m[00:33:06] src/tree/updater_prune.cc:74: tree pruning end, 1 roots, 20 extra nodes, 6 pruned nodes, max_depth=5\u001b[0m\n",
      "\u001b[34m[51]#011train-error:0.015887#011validation-error:0.01728\u001b[0m\n",
      "\u001b[34m[00:33:06] src/tree/updater_prune.cc:74: tree pruning end, 1 roots, 20 extra nodes, 10 pruned nodes, max_depth=5\u001b[0m\n",
      "\u001b[34m[52]#011train-error:0.015915#011validation-error:0.017473\u001b[0m\n",
      "\u001b[34m[00:33:06] src/tree/updater_prune.cc:74: tree pruning end, 1 roots, 18 extra nodes, 16 pruned nodes, max_depth=5\u001b[0m\n",
      "\u001b[34m[53]#011train-error:0.015887#011validation-error:0.017762\u001b[0m\n",
      "\u001b[34m[00:33:06] src/tree/updater_prune.cc:74: tree pruning end, 1 roots, 10 extra nodes, 20 pruned nodes, max_depth=4\u001b[0m\n",
      "\u001b[34m[54]#011train-error:0.015804#011validation-error:0.017762\u001b[0m\n",
      "\u001b[34m[00:33:06] src/tree/updater_prune.cc:74: tree pruning end, 1 roots, 22 extra nodes, 16 pruned nodes, max_depth=5\u001b[0m\n",
      "\u001b[34m[55]#011train-error:0.015749#011validation-error:0.017666\u001b[0m\n",
      "\u001b[34m[00:33:06] src/tree/updater_prune.cc:74: tree pruning end, 1 roots, 18 extra nodes, 10 pruned nodes, max_depth=5\u001b[0m\n",
      "\u001b[34m[56]#011train-error:0.015832#011validation-error:0.017666\u001b[0m\n",
      "\u001b[34m[00:33:06] src/tree/updater_prune.cc:74: tree pruning end, 1 roots, 18 extra nodes, 4 pruned nodes, max_depth=5\u001b[0m\n",
      "\u001b[34m[57]#011train-error:0.015832#011validation-error:0.017666\u001b[0m\n",
      "\u001b[34m[00:33:06] src/tree/updater_prune.cc:74: tree pruning end, 1 roots, 10 extra nodes, 12 pruned nodes, max_depth=5\u001b[0m\n",
      "\u001b[34m[58]#011train-error:0.015694#011validation-error:0.017569\u001b[0m\n",
      "\u001b[34m[00:33:06] src/tree/updater_prune.cc:74: tree pruning end, 1 roots, 18 extra nodes, 22 pruned nodes, max_depth=4\u001b[0m\n",
      "\u001b[34m[59]#011train-error:0.015804#011validation-error:0.017762\u001b[0m\n",
      "\u001b[34m[00:33:06] src/tree/updater_prune.cc:74: tree pruning end, 1 roots, 16 extra nodes, 6 pruned nodes, max_depth=5\u001b[0m\n",
      "\u001b[34m[60]#011train-error:0.015694#011validation-error:0.017859\u001b[0m\n",
      "\u001b[34m[00:33:06] src/tree/updater_prune.cc:74: tree pruning end, 1 roots, 16 extra nodes, 10 pruned nodes, max_depth=5\u001b[0m\n",
      "\u001b[34m[61]#011train-error:0.015556#011validation-error:0.017473\u001b[0m\n",
      "\u001b[34m[00:33:06] src/tree/updater_prune.cc:74: tree pruning end, 1 roots, 18 extra nodes, 20 pruned nodes, max_depth=5\u001b[0m\n",
      "\u001b[34m[62]#011train-error:0.015611#011validation-error:0.017087\u001b[0m\n",
      "\u001b[34m[00:33:06] src/tree/updater_prune.cc:74: tree pruning end, 1 roots, 6 extra nodes, 6 pruned nodes, max_depth=3\u001b[0m\n",
      "\u001b[34m[63]#011train-error:0.015556#011validation-error:0.017087\u001b[0m\n",
      "\u001b[34m[00:33:06] src/tree/updater_prune.cc:74: tree pruning end, 1 roots, 14 extra nodes, 12 pruned nodes, max_depth=4\u001b[0m\n",
      "\u001b[34m[64]#011train-error:0.015584#011validation-error:0.017087\u001b[0m\n",
      "\u001b[34m[00:33:06] src/tree/updater_prune.cc:74: tree pruning end, 1 roots, 12 extra nodes, 14 pruned nodes, max_depth=5\u001b[0m\n",
      "\u001b[34m[65]#011train-error:0.015584#011validation-error:0.01699\u001b[0m\n",
      "\u001b[34m[00:33:06] src/tree/updater_prune.cc:74: tree pruning end, 1 roots, 10 extra nodes, 12 pruned nodes, max_depth=4\u001b[0m\n",
      "\u001b[34m[66]#011train-error:0.015446#011validation-error:0.017087\u001b[0m\n",
      "\u001b[34m[00:33:06] src/tree/updater_prune.cc:74: tree pruning end, 1 roots, 12 extra nodes, 10 pruned nodes, max_depth=5\u001b[0m\n",
      "\u001b[34m[67]#011train-error:0.015418#011validation-error:0.017376\u001b[0m\n",
      "\u001b[34m[00:33:06] src/tree/updater_prune.cc:74: tree pruning end, 1 roots, 16 extra nodes, 12 pruned nodes, max_depth=5\u001b[0m\n",
      "\u001b[34m[68]#011train-error:0.015253#011validation-error:0.01728\u001b[0m\n",
      "\u001b[34m[00:33:06] src/tree/updater_prune.cc:74: tree pruning end, 1 roots, 10 extra nodes, 22 pruned nodes, max_depth=3\u001b[0m\n",
      "\u001b[34m[69]#011train-error:0.015197#011validation-error:0.01728\u001b[0m\n",
      "\u001b[34m[00:33:06] src/tree/updater_prune.cc:74: tree pruning end, 1 roots, 18 extra nodes, 16 pruned nodes, max_depth=5\u001b[0m\n",
      "\u001b[34m[70]#011train-error:0.015032#011validation-error:0.017183\u001b[0m\n",
      "\u001b[34m[00:33:06] src/tree/updater_prune.cc:74: tree pruning end, 1 roots, 14 extra nodes, 4 pruned nodes, max_depth=5\u001b[0m\n",
      "\u001b[34m[71]#011train-error:0.014949#011validation-error:0.017473\u001b[0m\n",
      "\u001b[34m[00:33:06] src/tree/updater_prune.cc:74: tree pruning end, 1 roots, 10 extra nodes, 6 pruned nodes, max_depth=4\u001b[0m\n",
      "\u001b[34m[72]#011train-error:0.014949#011validation-error:0.017473\u001b[0m\n",
      "\u001b[34m[00:33:07] src/tree/updater_prune.cc:74: tree pruning end, 1 roots, 20 extra nodes, 6 pruned nodes, max_depth=5\u001b[0m\n",
      "\u001b[34m[73]#011train-error:0.014811#011validation-error:0.01728\u001b[0m\n",
      "\u001b[34m[00:33:07] src/tree/updater_prune.cc:74: tree pruning end, 1 roots, 16 extra nodes, 10 pruned nodes, max_depth=4\u001b[0m\n",
      "\u001b[34m[74]#011train-error:0.014756#011validation-error:0.017087\u001b[0m\n",
      "\u001b[34m[00:33:07] src/tree/updater_prune.cc:74: tree pruning end, 1 roots, 22 extra nodes, 4 pruned nodes, max_depth=5\u001b[0m\n",
      "\u001b[34m[75]#011train-error:0.014811#011validation-error:0.017087\u001b[0m\n",
      "\u001b[34m[00:33:07] src/tree/updater_prune.cc:74: tree pruning end, 1 roots, 6 extra nodes, 8 pruned nodes, max_depth=3\u001b[0m\n",
      "\u001b[34m[76]#011train-error:0.014867#011validation-error:0.017183\u001b[0m\n",
      "\u001b[34m[00:33:07] src/tree/updater_prune.cc:74: tree pruning end, 1 roots, 10 extra nodes, 10 pruned nodes, max_depth=5\u001b[0m\n",
      "\u001b[34m[77]#011train-error:0.014867#011validation-error:0.017183\u001b[0m\n",
      "\u001b[34m[00:33:07] src/tree/updater_prune.cc:74: tree pruning end, 1 roots, 20 extra nodes, 20 pruned nodes, max_depth=5\u001b[0m\n",
      "\u001b[34m[78]#011train-error:0.014701#011validation-error:0.017087\u001b[0m\n",
      "\u001b[34m[00:33:07] src/tree/updater_prune.cc:74: tree pruning end, 1 roots, 4 extra nodes, 10 pruned nodes, max_depth=2\u001b[0m\n",
      "\u001b[34m[79]#011train-error:0.014646#011validation-error:0.017183\u001b[0m\n",
      "\u001b[34m[00:33:07] src/tree/updater_prune.cc:74: tree pruning end, 1 roots, 24 extra nodes, 14 pruned nodes, max_depth=5\u001b[0m\n",
      "\u001b[34m[80]#011train-error:0.014673#011validation-error:0.017183\u001b[0m\n",
      "\u001b[34m[00:33:07] src/tree/updater_prune.cc:74: tree pruning end, 1 roots, 8 extra nodes, 4 pruned nodes, max_depth=4\u001b[0m\n",
      "\u001b[34m[81]#011train-error:0.014618#011validation-error:0.017183\u001b[0m\n",
      "\u001b[34m[00:33:07] src/tree/updater_prune.cc:74: tree pruning end, 1 roots, 18 extra nodes, 20 pruned nodes, max_depth=5\u001b[0m\n",
      "\u001b[34m[82]#011train-error:0.014563#011validation-error:0.017183\u001b[0m\n",
      "\u001b[34m[00:33:07] src/tree/updater_prune.cc:74: tree pruning end, 1 roots, 26 extra nodes, 8 pruned nodes, max_depth=5\u001b[0m\n",
      "\u001b[34m[83]#011train-error:0.014508#011validation-error:0.016894\u001b[0m\n",
      "\u001b[34m[00:33:07] src/tree/updater_prune.cc:74: tree pruning end, 1 roots, 26 extra nodes, 12 pruned nodes, max_depth=5\u001b[0m\n",
      "\u001b[34m[84]#011train-error:0.01448#011validation-error:0.016797\u001b[0m\n",
      "\u001b[34m[00:33:07] src/tree/updater_prune.cc:74: tree pruning end, 1 roots, 8 extra nodes, 18 pruned nodes, max_depth=3\u001b[0m\n",
      "\u001b[34m[85]#011train-error:0.014591#011validation-error:0.016894\u001b[0m\n",
      "\u001b[34m[00:33:07] src/tree/updater_prune.cc:74: tree pruning end, 1 roots, 20 extra nodes, 14 pruned nodes, max_depth=5\u001b[0m\n",
      "\u001b[34m[86]#011train-error:0.014398#011validation-error:0.01699\u001b[0m\n",
      "\u001b[34m[00:33:07] src/tree/updater_prune.cc:74: tree pruning end, 1 roots, 4 extra nodes, 28 pruned nodes, max_depth=2\u001b[0m\n",
      "\u001b[34m[87]#011train-error:0.014398#011validation-error:0.017087\u001b[0m\n",
      "\u001b[34m[00:33:07] src/tree/updater_prune.cc:74: tree pruning end, 1 roots, 0 extra nodes, 16 pruned nodes, max_depth=0\u001b[0m\n",
      "\u001b[34m[88]#011train-error:0.014398#011validation-error:0.017087\u001b[0m\n",
      "\u001b[34m[00:33:07] src/tree/updater_prune.cc:74: tree pruning end, 1 roots, 14 extra nodes, 22 pruned nodes, max_depth=5\u001b[0m\n",
      "\u001b[34m[89]#011train-error:0.014425#011validation-error:0.017087\u001b[0m\n",
      "\u001b[34m[00:33:07] src/tree/updater_prune.cc:74: tree pruning end, 1 roots, 0 extra nodes, 16 pruned nodes, max_depth=0\u001b[0m\n",
      "\u001b[34m[90]#011train-error:0.014425#011validation-error:0.017087\u001b[0m\n",
      "\u001b[34m[00:33:07] src/tree/updater_prune.cc:74: tree pruning end, 1 roots, 18 extra nodes, 8 pruned nodes, max_depth=5\u001b[0m\n",
      "\u001b[34m[91]#011train-error:0.014453#011validation-error:0.017183\u001b[0m\n",
      "\u001b[34m[00:33:07] src/tree/updater_prune.cc:74: tree pruning end, 1 roots, 4 extra nodes, 26 pruned nodes, max_depth=2\u001b[0m\n",
      "\u001b[34m[92]#011train-error:0.01437#011validation-error:0.01699\u001b[0m\n",
      "\u001b[34m[00:33:07] src/tree/updater_prune.cc:74: tree pruning end, 1 roots, 6 extra nodes, 12 pruned nodes, max_depth=3\u001b[0m\n",
      "\u001b[34m[93]#011train-error:0.014425#011validation-error:0.01699\u001b[0m\n",
      "\u001b[34m[00:33:07] src/tree/updater_prune.cc:74: tree pruning end, 1 roots, 14 extra nodes, 8 pruned nodes, max_depth=5\u001b[0m\n",
      "\u001b[34m[94]#011train-error:0.014453#011validation-error:0.017087\u001b[0m\n",
      "\u001b[34m[00:33:07] src/tree/updater_prune.cc:74: tree pruning end, 1 roots, 8 extra nodes, 8 pruned nodes, max_depth=4\u001b[0m\n",
      "\u001b[34m[95]#011train-error:0.014425#011validation-error:0.016894\u001b[0m\n",
      "\u001b[34m[00:33:07] src/tree/updater_prune.cc:74: tree pruning end, 1 roots, 16 extra nodes, 20 pruned nodes, max_depth=5\u001b[0m\n",
      "\u001b[34m[96]#011train-error:0.014398#011validation-error:0.016894\u001b[0m\n",
      "\u001b[34m[00:33:07] src/tree/updater_prune.cc:74: tree pruning end, 1 roots, 0 extra nodes, 16 pruned nodes, max_depth=0\u001b[0m\n",
      "\u001b[34m[97]#011train-error:0.01437#011validation-error:0.016894\u001b[0m\n",
      "\u001b[34m[00:33:07] src/tree/updater_prune.cc:74: tree pruning end, 1 roots, 6 extra nodes, 10 pruned nodes, max_depth=3\u001b[0m\n",
      "\u001b[34m[98]#011train-error:0.014398#011validation-error:0.016894\u001b[0m\n",
      "\u001b[34m[00:33:07] src/tree/updater_prune.cc:74: tree pruning end, 1 roots, 22 extra nodes, 8 pruned nodes, max_depth=5\u001b[0m\n",
      "\u001b[34m[99]#011train-error:0.01426#011validation-error:0.016894\u001b[0m\n",
      "\n",
      "2024-04-22 00:33:25 Completed - Training job completed\n",
      "Training seconds: 108\n",
      "Billable seconds: 108\n"
     ]
    }
   ],
   "source": [
    "sess = sagemaker.Session()\n",
    "\n",
    "xgb = sagemaker.estimator.Estimator(container,\n",
    "                                    role,\n",
    "                                    instance_count=1,\n",
    "                                    instance_type='ml.m4.xlarge',\n",
    "                                    output_path='s3://{}/{}'.format(bucket_name,\n",
    "                                                                    prefix_name),\n",
    "                                    sagemaker_session=sess)\n",
    "\n",
    "xgb.set_hyperparameters(max_depth=5,\n",
    "                        eta=0.2,\n",
    "                        gamma=4,\n",
    "                        min_child_weight=6,\n",
    "                        subsample=0.8,\n",
    "                        silent=0,\n",
    "                        objective='binary:logistic',\n",
    "                        num_round=100)\n",
    "\n",
    "xgb.fit({'train': x_train_input,\n",
    "         'validation': validation_data_file})"
   ]
  },
  {
   "cell_type": "markdown",
   "id": "f80dd3a9-0c8d-424c-a7a8-c633f2903636",
   "metadata": {},
   "source": [
    "# Model Validation"
   ]
  },
  {
   "cell_type": "code",
   "execution_count": 10,
   "id": "3bb2ef0d-805d-4a2a-8e7c-d0e5940cdc2f",
   "metadata": {},
   "outputs": [
    {
     "name": "stderr",
     "output_type": "stream",
     "text": [
      "INFO:sagemaker:Creating model with name: xgboost-2024-04-22-00-43-07-882\n",
      "INFO:sagemaker:Creating endpoint-config with name xgboost-2024-04-22-00-43-07-882\n",
      "INFO:sagemaker:Creating endpoint with name xgboost-2024-04-22-00-43-07-882\n"
     ]
    },
    {
     "name": "stdout",
     "output_type": "stream",
     "text": [
      "-----!"
     ]
    }
   ],
   "source": [
    "# Deploy Model\n",
    "xgb_predictor = xgb.deploy(initial_instance_count=1,\n",
    "                           instance_type='ml.m4.xlarge')"
   ]
  },
  {
   "cell_type": "code",
   "execution_count": 11,
   "id": "9c763dd1-6093-4507-ac4f-f41f872128ce",
   "metadata": {},
   "outputs": [],
   "source": [
    "# Save model\n",
    "xgb_predictor.serializer = sagemaker.serializers.CSVSerializer()"
   ]
  },
  {
   "cell_type": "code",
   "execution_count": 16,
   "id": "4befc103-db5c-45bc-9d94-bc5e1e0f537f",
   "metadata": {},
   "outputs": [
    {
     "name": "stdout",
     "output_type": "stream",
     "text": [
      "---------------------------------\n",
      "df_test_data '(5180, 13)':\n"
     ]
    }
   ],
   "source": [
    "test_data_file = f's3://{bucket_name}/{prefix_name}/test/test_data.csv'\n",
    "df_test_data = pd.read_csv(test_data_file, header=None)\n",
    "\n",
    "print(\"---------------------------------\")\n",
    "print(f\"df_test_data '{df_test_data.shape}':\")"
   ]
  },
  {
   "cell_type": "code",
   "execution_count": 17,
   "id": "988b219c-e159-418e-993b-d4abc4593630",
   "metadata": {},
   "outputs": [],
   "source": [
    "df_test_data_x = df_test_data.iloc[:, 1:]\n",
    "df_test_data_y = df_test_data.iloc[:, :1]"
   ]
  },
  {
   "cell_type": "code",
   "execution_count": 18,
   "id": "35606421-169f-4663-bd30-6b144ca166fa",
   "metadata": {},
   "outputs": [
    {
     "data": {
      "text/html": [
       "<div>\n",
       "<style scoped>\n",
       "    .dataframe tbody tr th:only-of-type {\n",
       "        vertical-align: middle;\n",
       "    }\n",
       "\n",
       "    .dataframe tbody tr th {\n",
       "        vertical-align: top;\n",
       "    }\n",
       "\n",
       "    .dataframe thead th {\n",
       "        text-align: right;\n",
       "    }\n",
       "</style>\n",
       "<table border=\"1\" class=\"dataframe\">\n",
       "  <thead>\n",
       "    <tr style=\"text-align: right;\">\n",
       "      <th></th>\n",
       "      <th>1</th>\n",
       "      <th>2</th>\n",
       "      <th>3</th>\n",
       "      <th>4</th>\n",
       "      <th>5</th>\n",
       "      <th>6</th>\n",
       "      <th>7</th>\n",
       "      <th>8</th>\n",
       "      <th>9</th>\n",
       "      <th>10</th>\n",
       "      <th>11</th>\n",
       "      <th>12</th>\n",
       "    </tr>\n",
       "  </thead>\n",
       "  <tbody>\n",
       "    <tr>\n",
       "      <th>0</th>\n",
       "      <td>67</td>\n",
       "      <td>1</td>\n",
       "      <td>0</td>\n",
       "      <td>1</td>\n",
       "      <td>121.0</td>\n",
       "      <td>2</td>\n",
       "      <td>206.0</td>\n",
       "      <td>2</td>\n",
       "      <td>206.0</td>\n",
       "      <td>3</td>\n",
       "      <td>179.67</td>\n",
       "      <td>1762</td>\n",
       "    </tr>\n",
       "    <tr>\n",
       "      <th>1</th>\n",
       "      <td>71</td>\n",
       "      <td>1</td>\n",
       "      <td>0</td>\n",
       "      <td>1</td>\n",
       "      <td>102.0</td>\n",
       "      <td>2</td>\n",
       "      <td>378.0</td>\n",
       "      <td>2</td>\n",
       "      <td>378.0</td>\n",
       "      <td>9</td>\n",
       "      <td>287.78</td>\n",
       "      <td>0</td>\n",
       "    </tr>\n",
       "    <tr>\n",
       "      <th>2</th>\n",
       "      <td>331</td>\n",
       "      <td>0</td>\n",
       "      <td>1</td>\n",
       "      <td>1</td>\n",
       "      <td>729.0</td>\n",
       "      <td>4</td>\n",
       "      <td>609.0</td>\n",
       "      <td>6</td>\n",
       "      <td>525.0</td>\n",
       "      <td>16</td>\n",
       "      <td>354.19</td>\n",
       "      <td>0</td>\n",
       "    </tr>\n",
       "  </tbody>\n",
       "</table>\n",
       "</div>"
      ],
      "text/plain": [
       "    1   2   3   4      5   6      7   8      9   10      11    12\n",
       "0   67   1   0   1  121.0   2  206.0   2  206.0   3  179.67  1762\n",
       "1   71   1   0   1  102.0   2  378.0   2  378.0   9  287.78     0\n",
       "2  331   0   1   1  729.0   4  609.0   6  525.0  16  354.19     0"
      ]
     },
     "execution_count": 18,
     "metadata": {},
     "output_type": "execute_result"
    }
   ],
   "source": [
    "df_test_data_x.head(3)"
   ]
  },
  {
   "cell_type": "code",
   "execution_count": 19,
   "id": "68da0838-9540-4ce7-ab56-d6aa08ba2002",
   "metadata": {},
   "outputs": [
    {
     "data": {
      "text/html": [
       "<div>\n",
       "<style scoped>\n",
       "    .dataframe tbody tr th:only-of-type {\n",
       "        vertical-align: middle;\n",
       "    }\n",
       "\n",
       "    .dataframe tbody tr th {\n",
       "        vertical-align: top;\n",
       "    }\n",
       "\n",
       "    .dataframe thead th {\n",
       "        text-align: right;\n",
       "    }\n",
       "</style>\n",
       "<table border=\"1\" class=\"dataframe\">\n",
       "  <thead>\n",
       "    <tr style=\"text-align: right;\">\n",
       "      <th></th>\n",
       "      <th>0</th>\n",
       "    </tr>\n",
       "  </thead>\n",
       "  <tbody>\n",
       "    <tr>\n",
       "      <th>0</th>\n",
       "      <td>0</td>\n",
       "    </tr>\n",
       "    <tr>\n",
       "      <th>1</th>\n",
       "      <td>0</td>\n",
       "    </tr>\n",
       "    <tr>\n",
       "      <th>2</th>\n",
       "      <td>1</td>\n",
       "    </tr>\n",
       "  </tbody>\n",
       "</table>\n",
       "</div>"
      ],
      "text/plain": [
       "   0\n",
       "0  0\n",
       "1  0\n",
       "2  1"
      ]
     },
     "execution_count": 19,
     "metadata": {},
     "output_type": "execute_result"
    }
   ],
   "source": [
    "df_test_data_y.head(3)"
   ]
  },
  {
   "cell_type": "code",
   "execution_count": 20,
   "id": "bc7d343c-86f1-44a7-95a7-ed3fddad0669",
   "metadata": {},
   "outputs": [],
   "source": [
    "def predict(data, predictor, rows=500 ):\n",
    "    split_array = np.array_split(data, int(data.shape[0] / float(rows) + 1))\n",
    "    predictions = ''\n",
    "    for array in split_array:\n",
    "        predictions = ','.join([predictions, predictor.predict(array).decode('utf-8')])\n",
    "\n",
    "    return np.fromstring(predictions[1:], sep=',')"
   ]
  },
  {
   "cell_type": "code",
   "execution_count": 21,
   "id": "6e15b327-42df-41ad-bdb0-bc4865053f51",
   "metadata": {},
   "outputs": [
    {
     "name": "stderr",
     "output_type": "stream",
     "text": [
      "/opt/conda/lib/python3.10/site-packages/numpy/core/fromnumeric.py:59: FutureWarning: 'DataFrame.swapaxes' is deprecated and will be removed in a future version. Please use 'DataFrame.transpose' instead.\n",
      "  return bound(*args, **kwds)\n"
     ]
    }
   ],
   "source": [
    "predictions = predict(df_test_data_x, xgb_predictor)"
   ]
  },
  {
   "cell_type": "code",
   "execution_count": 22,
   "id": "83201b05-a343-4cc3-8657-2b77bced00f0",
   "metadata": {},
   "outputs": [
    {
     "data": {
      "text/plain": [
       "array([0., 0., 1., ..., 0., 0., 0.])"
      ]
     },
     "execution_count": 22,
     "metadata": {},
     "output_type": "execute_result"
    }
   ],
   "source": [
    "np.round(predictions)"
   ]
  },
  {
   "cell_type": "code",
   "execution_count": 45,
   "id": "c8a3800b-10a9-48ce-8420-fd93181fa493",
   "metadata": {},
   "outputs": [
    {
     "data": {
      "text/html": [
       "<div>\n",
       "<style scoped>\n",
       "    .dataframe tbody tr th:only-of-type {\n",
       "        vertical-align: middle;\n",
       "    }\n",
       "\n",
       "    .dataframe tbody tr th {\n",
       "        vertical-align: top;\n",
       "    }\n",
       "\n",
       "    .dataframe thead th {\n",
       "        text-align: right;\n",
       "    }\n",
       "</style>\n",
       "<table border=\"1\" class=\"dataframe\">\n",
       "  <thead>\n",
       "    <tr style=\"text-align: right;\">\n",
       "      <th>predictions</th>\n",
       "      <th>0.0</th>\n",
       "      <th>1.0</th>\n",
       "    </tr>\n",
       "    <tr>\n",
       "      <th>actuals</th>\n",
       "      <th></th>\n",
       "      <th></th>\n",
       "    </tr>\n",
       "  </thead>\n",
       "  <tbody>\n",
       "    <tr>\n",
       "      <th>0</th>\n",
       "      <td>4023</td>\n",
       "      <td>18</td>\n",
       "    </tr>\n",
       "    <tr>\n",
       "      <th>1</th>\n",
       "      <td>61</td>\n",
       "      <td>1078</td>\n",
       "    </tr>\n",
       "  </tbody>\n",
       "</table>\n",
       "</div>"
      ],
      "text/plain": [
       "predictions   0.0   1.0\n",
       "actuals                \n",
       "0            4023    18\n",
       "1              61  1078"
      ]
     },
     "execution_count": 45,
     "metadata": {},
     "output_type": "execute_result"
    }
   ],
   "source": [
    "pd.crosstab(index = df_test_data_y[0], \n",
    "            columns=np.round(predictions), \n",
    "            rownames=['actuals'], colnames=['predictions'])"
   ]
  },
  {
   "cell_type": "markdown",
   "id": "917c8d1e-71c8-48b7-9ea5-9cfdcaae1100",
   "metadata": {},
   "source": [
    "# Make a Prediction"
   ]
  },
  {
   "cell_type": "code",
   "execution_count": 46,
   "id": "fced15d7-1d2d-430d-99ca-c8514192e8cf",
   "metadata": {},
   "outputs": [
    {
     "data": {
      "text/html": [
       "<div>\n",
       "<style scoped>\n",
       "    .dataframe tbody tr th:only-of-type {\n",
       "        vertical-align: middle;\n",
       "    }\n",
       "\n",
       "    .dataframe tbody tr th {\n",
       "        vertical-align: top;\n",
       "    }\n",
       "\n",
       "    .dataframe thead th {\n",
       "        text-align: right;\n",
       "    }\n",
       "</style>\n",
       "<table border=\"1\" class=\"dataframe\">\n",
       "  <thead>\n",
       "    <tr style=\"text-align: right;\">\n",
       "      <th></th>\n",
       "      <th>distance</th>\n",
       "      <th>card_model_CHIP</th>\n",
       "      <th>card_model_VIRTUAL</th>\n",
       "      <th>card_type_CREDIT</th>\n",
       "      <th>amount</th>\n",
       "      <th>tx_1d</th>\n",
       "      <th>avg_1d</th>\n",
       "      <th>tx_7d</th>\n",
       "      <th>avg_7d</th>\n",
       "      <th>tx_30d</th>\n",
       "      <th>avg_30d</th>\n",
       "      <th>time_btw_cc_tx</th>\n",
       "    </tr>\n",
       "  </thead>\n",
       "  <tbody>\n",
       "    <tr>\n",
       "      <th>0</th>\n",
       "      <td>100</td>\n",
       "      <td>0.0</td>\n",
       "      <td>1.0</td>\n",
       "      <td>1.0</td>\n",
       "      <td>2000</td>\n",
       "      <td>9</td>\n",
       "      <td>1365.0</td>\n",
       "      <td>17</td>\n",
       "      <td>263.529412</td>\n",
       "      <td>28</td>\n",
       "      <td>238.714286</td>\n",
       "      <td>97582.0</td>\n",
       "    </tr>\n",
       "  </tbody>\n",
       "</table>\n",
       "</div>"
      ],
      "text/plain": [
       "   distance  card_model_CHIP  card_model_VIRTUAL  card_type_CREDIT  amount  \\\n",
       "0       100              0.0                 1.0               1.0    2000   \n",
       "\n",
       "   tx_1d  avg_1d  tx_7d      avg_7d  tx_30d     avg_30d  time_btw_cc_tx  \n",
       "0      9  1365.0     17  263.529412      28  238.714286         97582.0  "
      ]
     },
     "execution_count": 46,
     "metadata": {},
     "output_type": "execute_result"
    }
   ],
   "source": [
    "payment_data = [{'distance': 100,\n",
    "                 'card_model_CHIP': 0.,\n",
    "                 'card_model_VIRTUAL': 1.,\n",
    "                 'card_type_CREDIT': 1.,\n",
    "                 'amount': 2000,\n",
    "                 'tx_1d': 9,\n",
    "                 'avg_1d': 1365.00,\n",
    "                 'tx_7d': 17,\n",
    "                 'avg_7d': 263.529412,\n",
    "                 'tx_30d': 28,\n",
    "                 'avg_30d': 238.714286,\n",
    "                 'time_btw_cc_tx': 97582.0}]\n",
    "df_predict = pd.DataFrame(payment_data)\n",
    "df_predict"
   ]
  },
  {
   "cell_type": "code",
   "execution_count": 47,
   "id": "66536e60-1cab-4366-978a-6539a8badeec",
   "metadata": {},
   "outputs": [
    {
     "name": "stdout",
     "output_type": "stream",
     "text": [
      "0.9611890316009521\n",
      "1.0\n"
     ]
    }
   ],
   "source": [
    "y_pred = xgb_predictor.predict(df_predict).decode('utf-8')\n",
    "print(y_pred)\n",
    "print(np.round(float(y_pred)))"
   ]
  },
  {
   "cell_type": "code",
   "execution_count": 48,
   "id": "6c32f1de-41fc-4db6-aeea-ac40903e4341",
   "metadata": {},
   "outputs": [],
   "source": [
    "import boto3\n",
    "client = boto3.client(service_name=\"sagemaker\")\n",
    "runtime = boto3.client(service_name=\"sagemaker-runtime\")\n",
    "endpoint_name='xgboost-2024-04-22-00-43-07-882'"
   ]
  },
  {
   "cell_type": "code",
   "execution_count": 49,
   "id": "c79d8482-dd5a-4463-bc13-ed3cc73816d7",
   "metadata": {},
   "outputs": [
    {
     "name": "stdout",
     "output_type": "stream",
     "text": [
      "0.25696900486946106\n",
      "0.0\n"
     ]
    }
   ],
   "source": [
    "# Endpoint invocation\n",
    "payload = b\"100., 0., 1., 1., 400., 365.0, 17., 263.529412, 28., 238.714286, 97582.0\"\n",
    "\n",
    "response = runtime.invoke_endpoint(\n",
    "    EndpointName=endpoint_name,\n",
    "    Body=payload,\n",
    "    ContentType=\"text/csv\",\n",
    ")\n",
    "\n",
    "y_predict = response[\"Body\"].read().decode()\n",
    "print(y_predict)\n",
    "print(np.round(float(y_predict)))"
   ]
  },
  {
   "cell_type": "markdown",
   "id": "b831b383-6f34-4fa6-81ed-213b3aa6bd63",
   "metadata": {},
   "source": [
    "# Make Validation"
   ]
  },
  {
   "cell_type": "code",
   "execution_count": 50,
   "id": "4cdb3361-109e-41f8-b70c-831274670b0a",
   "metadata": {},
   "outputs": [],
   "source": [
    "from sagemaker.tuner import IntegerParameter, CategoricalParameter, ContinuousParameter, HyperparameterTuner\n",
    "\n",
    "hyperparameter_ranges = {'eta': ContinuousParameter(0, 1),\n",
    "                         'min_child_weight': ContinuousParameter(1, 10),\n",
    "                         'alpha': ContinuousParameter(0, 2),\n",
    "                         'max_depth': IntegerParameter(1, 10)}\n",
    "\n",
    "objective_metric_name = 'validation:auc'"
   ]
  },
  {
   "cell_type": "code",
   "execution_count": 52,
   "id": "23bcc1bd-072b-4cac-998b-e2622ef5620a",
   "metadata": {},
   "outputs": [],
   "source": [
    "tuner = HyperparameterTuner(xgb,\n",
    "                            objective_metric_name,\n",
    "                            hyperparameter_ranges,\n",
    "                            max_jobs=20,\n",
    "                            max_parallel_jobs=3)"
   ]
  },
  {
   "cell_type": "code",
   "execution_count": 53,
   "id": "a313bb95-2e6e-4a19-bdf3-1c7a0c7e48f6",
   "metadata": {},
   "outputs": [
    {
     "name": "stderr",
     "output_type": "stream",
     "text": [
      "INFO:sagemaker:Creating hyperparameter tuning job with name: xgboost-240422-0109\n"
     ]
    },
    {
     "name": "stdout",
     "output_type": "stream",
     "text": [
      "..............................................................................................................!\n"
     ]
    }
   ],
   "source": [
    "tuner.fit({'train': x_train_input, 'validation': validation_data_file})"
   ]
  },
  {
   "cell_type": "code",
   "execution_count": 54,
   "id": "55ac5240-bb9f-40c2-a03d-7a37e0d16706",
   "metadata": {},
   "outputs": [
    {
     "data": {
      "text/plain": [
       "'Completed'"
      ]
     },
     "execution_count": 54,
     "metadata": {},
     "output_type": "execute_result"
    }
   ],
   "source": [
    "boto3.client('sagemaker').describe_hyper_parameter_tuning_job(\n",
    "HyperParameterTuningJobName=tuner.latest_tuning_job.job_name)['HyperParameterTuningJobStatus']"
   ]
  },
  {
   "cell_type": "code",
   "execution_count": 55,
   "id": "d6f46f26-04f5-42aa-a326-b8f9ebbe1fbb",
   "metadata": {},
   "outputs": [
    {
     "data": {
      "text/plain": [
       "'xgboost-240422-0109-014-09dcfba9'"
      ]
     },
     "execution_count": 55,
     "metadata": {},
     "output_type": "execute_result"
    }
   ],
   "source": [
    "tuner.best_training_job()"
   ]
  },
  {
   "cell_type": "code",
   "execution_count": 56,
   "id": "661c3abe-eaab-4009-9133-d72f0b35319b",
   "metadata": {},
   "outputs": [
    {
     "name": "stdout",
     "output_type": "stream",
     "text": [
      "\n",
      "2024-04-22 01:17:23 Starting - Found matching resource for reuse\n",
      "2024-04-22 01:17:23 Downloading - Downloading the training image\n",
      "2024-04-22 01:17:23 Training - Training image download completed. Training in progress.\n",
      "2024-04-22 01:17:23 Uploading - Uploading generated training model\n",
      "2024-04-22 01:17:23 Completed - Resource reused by training job: xgboost-240422-0109-017-071c1130"
     ]
    },
    {
     "name": "stderr",
     "output_type": "stream",
     "text": [
      "INFO:sagemaker:Creating model with name: xgboost-2024-04-22-01-20-54-832\n"
     ]
    },
    {
     "name": "stdout",
     "output_type": "stream",
     "text": [
      "\n"
     ]
    },
    {
     "name": "stderr",
     "output_type": "stream",
     "text": [
      "INFO:sagemaker:Creating endpoint-config with name xgboost-240422-0109-014-09dcfba9\n",
      "INFO:sagemaker:Creating endpoint with name xgboost-240422-0109-014-09dcfba9\n"
     ]
    },
    {
     "name": "stdout",
     "output_type": "stream",
     "text": [
      "-----!"
     ]
    }
   ],
   "source": [
    "tuner_predictor = tuner.deploy(initial_instance_count=1,\n",
    "                           instance_type='ml.m4.xlarge')"
   ]
  },
  {
   "cell_type": "code",
   "execution_count": 57,
   "id": "309d9e0f-e704-49b5-8495-91c08110cf82",
   "metadata": {},
   "outputs": [],
   "source": [
    "tuner_predictor.serializer = sagemaker.serializers.CSVSerializer()"
   ]
  },
  {
   "cell_type": "code",
   "execution_count": 59,
   "id": "e9cd4c4a-8d09-4ba2-8784-6cf9a058899a",
   "metadata": {},
   "outputs": [
    {
     "name": "stdout",
     "output_type": "stream",
     "text": [
      "---------------------------------\n",
      "df_test_data '(5180, 13)':\n"
     ]
    }
   ],
   "source": [
    "test_data_file = f's3://{bucket_name}/{prefix_name}/test/test_data.csv'\n",
    "df_test_data = pd.read_csv(test_data_file, header=None)\n",
    "df_test_data_x = df_test_data.iloc[:, 1:]\n",
    "df_test_data_y = df_test_data.iloc[:, :1]\n",
    "\n",
    "print(\"---------------------------------\")\n",
    "print(f\"df_test_data '{df_test_data.shape}':\")"
   ]
  },
  {
   "cell_type": "code",
   "execution_count": 60,
   "id": "0acf45fd-2c60-4534-a09d-ed642a4d72fd",
   "metadata": {},
   "outputs": [
    {
     "data": {
      "text/html": [
       "<div>\n",
       "<style scoped>\n",
       "    .dataframe tbody tr th:only-of-type {\n",
       "        vertical-align: middle;\n",
       "    }\n",
       "\n",
       "    .dataframe tbody tr th {\n",
       "        vertical-align: top;\n",
       "    }\n",
       "\n",
       "    .dataframe thead th {\n",
       "        text-align: right;\n",
       "    }\n",
       "</style>\n",
       "<table border=\"1\" class=\"dataframe\">\n",
       "  <thead>\n",
       "    <tr style=\"text-align: right;\">\n",
       "      <th>predictions</th>\n",
       "      <th>0.0</th>\n",
       "      <th>1.0</th>\n",
       "    </tr>\n",
       "    <tr>\n",
       "      <th>actuals</th>\n",
       "      <th></th>\n",
       "      <th></th>\n",
       "    </tr>\n",
       "  </thead>\n",
       "  <tbody>\n",
       "    <tr>\n",
       "      <th>0</th>\n",
       "      <td>4023</td>\n",
       "      <td>18</td>\n",
       "    </tr>\n",
       "    <tr>\n",
       "      <th>1</th>\n",
       "      <td>61</td>\n",
       "      <td>1078</td>\n",
       "    </tr>\n",
       "  </tbody>\n",
       "</table>\n",
       "</div>"
      ],
      "text/plain": [
       "predictions   0.0   1.0\n",
       "actuals                \n",
       "0            4023    18\n",
       "1              61  1078"
      ]
     },
     "execution_count": 60,
     "metadata": {},
     "output_type": "execute_result"
    }
   ],
   "source": [
    "pd.crosstab(index=df_test_data_y[0], columns=np.round(predictions), rownames=['actuals'], colnames=['predictions'])"
   ]
  },
  {
   "cell_type": "code",
   "execution_count": 61,
   "id": "c7d25b93-9c9b-40c0-b0ae-2f72c817329d",
   "metadata": {},
   "outputs": [
    {
     "name": "stderr",
     "output_type": "stream",
     "text": [
      "INFO:sagemaker:Deleting endpoint configuration with name: xgboost-2024-04-22-00-43-07-882\n",
      "INFO:sagemaker:Deleting endpoint with name: xgboost-2024-04-22-00-43-07-882\n",
      "INFO:sagemaker:Deleting endpoint configuration with name: xgboost-240422-0109-014-09dcfba9\n",
      "INFO:sagemaker:Deleting endpoint with name: xgboost-240422-0109-014-09dcfba9\n"
     ]
    }
   ],
   "source": [
    "xgb_predictor.delete_endpoint(delete_endpoint_config=True)\n",
    "tuner_predictor.delete_endpoint(delete_endpoint_config=True)"
   ]
  },
  {
   "cell_type": "code",
   "execution_count": null,
   "id": "938e854c-4e44-4014-a897-985340143fa5",
   "metadata": {},
   "outputs": [],
   "source": []
  }
 ],
 "metadata": {
  "kernelspec": {
   "display_name": "Python 3 (ipykernel)",
   "language": "python",
   "name": "python3"
  },
  "language_info": {
   "codemirror_mode": {
    "name": "ipython",
    "version": 3
   },
   "file_extension": ".py",
   "mimetype": "text/x-python",
   "name": "python",
   "nbconvert_exporter": "python",
   "pygments_lexer": "ipython3",
   "version": "3.10.13"
  }
 },
 "nbformat": 4,
 "nbformat_minor": 5
}
