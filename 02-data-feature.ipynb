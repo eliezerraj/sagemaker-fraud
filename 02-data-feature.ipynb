{
 "cells": [
  {
   "cell_type": "code",
   "execution_count": 15,
   "id": "8dbb7e74-d79f-4b07-83d7-112870d4a09a",
   "metadata": {},
   "outputs": [],
   "source": [
    "from sagemaker import Session\n",
    "import sagemaker\n",
    "from sagemaker import get_execution_role\n",
    "from sagemaker.workflow.parameters import ( \n",
    " ParameterInteger, \n",
    " ParameterString, \n",
    " ParameterFloat) "
   ]
  },
  {
   "cell_type": "code",
   "execution_count": 16,
   "id": "a8ca3c54-2a84-4ca3-b59d-6910862fe569",
   "metadata": {},
   "outputs": [
    {
     "name": "stdout",
     "output_type": "stream",
     "text": [
      "sagemaker.config INFO - Not applying SDK defaults from location: /etc/xdg/sagemaker/config.yaml\n",
      "sagemaker.config INFO - Not applying SDK defaults from location: /home/sagemaker-user/.config/sagemaker/config.yaml\n"
     ]
    }
   ],
   "source": [
    "# Define IAM role\n",
    "role = get_execution_role()\n",
    "processing_instance_count = ParameterInteger(name=\"ProcessingInstanceCount\", default_value=1)"
   ]
  },
  {
   "cell_type": "code",
   "execution_count": 17,
   "id": "577862f9-da86-4460-9ba8-f7d7da5cc4a8",
   "metadata": {},
   "outputs": [],
   "source": [
    "bucket_name = 'eliezerraj-908671954593-dataset'\n",
    "prefix_name = 'payment'\n",
    "file_name = 'payment.csv'\n",
    "\n",
    "train_path = f\"s3://{bucket_name}/{prefix_name}/train\"\n",
    "validation_path = f\"s3://{bucket_name}/{prefix_name}/validation\"\n",
    "test_path = f\"s3://{bucket_name}/{prefix_name}/test\""
   ]
  },
  {
   "cell_type": "code",
   "execution_count": 18,
   "id": "1993fd4d-2bd9-461e-a640-d4fde1ac3bb1",
   "metadata": {},
   "outputs": [],
   "source": [
    "from sagemaker.sklearn.processing import SKLearnProcessor\n",
    "from sagemaker.processing import ProcessingInput, ProcessingOutput\n",
    "from sagemaker import get_execution_role"
   ]
  },
  {
   "cell_type": "code",
   "execution_count": 19,
   "id": "5aab4da0-33ac-427b-b1db-2e50ae46b889",
   "metadata": {},
   "outputs": [
    {
     "data": {
      "text/plain": [
       "'s3://eliezerraj-908671954593-dataset/payment/payment.csv'"
      ]
     },
     "execution_count": 19,
     "metadata": {},
     "output_type": "execute_result"
    }
   ],
   "source": [
    "# sess = Session()\n",
    "# input_source = sess.upload_data(file_name, bucket=bucket_name, key_prefix=prefix_name)\n",
    "# input_source\n",
    "\n",
    "input_source = 's3://{}/{}/{}'.format(bucket_name, prefix_name, file_name)\n",
    "input_source"
   ]
  },
  {
   "cell_type": "code",
   "execution_count": 20,
   "id": "14ec7a64-212b-4123-8f5e-8d86ff97f7aa",
   "metadata": {},
   "outputs": [
    {
     "data": {
      "text/plain": [
       "'s3://eliezerraj-908671954593-dataset/payment/requirements.txt'"
      ]
     },
     "execution_count": 20,
     "metadata": {},
     "output_type": "execute_result"
    }
   ],
   "source": [
    "data_location = 's3://{}/{}/{}'.format(bucket_name,\n",
    "                                       prefix_name,\n",
    "                                       'requirements.txt')\n",
    "data_location"
   ]
  },
  {
   "cell_type": "code",
   "execution_count": 21,
   "id": "cac802b6-8916-41e5-a9b0-a28f54374d1a",
   "metadata": {},
   "outputs": [
    {
     "name": "stdout",
     "output_type": "stream",
     "text": [
      "sagemaker.config INFO - Not applying SDK defaults from location: /etc/xdg/sagemaker/config.yaml\n",
      "sagemaker.config INFO - Not applying SDK defaults from location: /home/sagemaker-user/.config/sagemaker/config.yaml\n"
     ]
    },
    {
     "name": "stderr",
     "output_type": "stream",
     "text": [
      "INFO:sagemaker.image_uris:Defaulting to only available Python version: py3\n"
     ]
    }
   ],
   "source": [
    "framework_version = \"1.0-1\"\n",
    "sklearn_processor = SKLearnProcessor(\n",
    "    framework_version=framework_version,\n",
    "    role=role,\n",
    "    instance_type=\"ml.m5.large\",\n",
    "    instance_count=1,\n",
    "    base_job_name='mlops-payment-feature-eng'\n",
    ")"
   ]
  },
  {
   "cell_type": "code",
   "execution_count": 22,
   "id": "faa0e555-dcc5-4608-a323-2b3b1fdf5f08",
   "metadata": {},
   "outputs": [
    {
     "name": "stderr",
     "output_type": "stream",
     "text": [
      "INFO:sagemaker:Creating processing-job with name mlops-payment-feature-eng-2024-04-02-20-06-58-682\n"
     ]
    },
    {
     "name": "stdout",
     "output_type": "stream",
     "text": [
      "............................\u001b[34mCollecting imbalanced-learn\n",
      "  Downloading imbalanced_learn-0.12.2-py3-none-any.whl.metadata (8.2 kB)\u001b[0m\n",
      "\u001b[34mRequirement already satisfied: numpy>=1.17.3 in /miniconda3/lib/python3.8/site-packages (from imbalanced-learn) (1.24.1)\u001b[0m\n",
      "\u001b[34mRequirement already satisfied: scipy>=1.5.0 in /miniconda3/lib/python3.8/site-packages (from imbalanced-learn) (1.8.0)\u001b[0m\n",
      "\u001b[34mRequirement already satisfied: scikit-learn>=1.0.2 in /miniconda3/lib/python3.8/site-packages (from imbalanced-learn) (1.0.2)\u001b[0m\n",
      "\u001b[34mRequirement already satisfied: joblib>=1.1.1 in /miniconda3/lib/python3.8/site-packages (from imbalanced-learn) (1.3.2)\u001b[0m\n",
      "\u001b[34mRequirement already satisfied: threadpoolctl>=2.0.0 in /miniconda3/lib/python3.8/site-packages (from imbalanced-learn) (3.2.0)\u001b[0m\n",
      "\u001b[34mDownloading imbalanced_learn-0.12.2-py3-none-any.whl (257 kB)\n",
      "   ━━━━━━━━━━━━━━━━━━━━━━━━━━━━━━━━━━━━━━━━ 258.0/258.0 kB 7.4 MB/s eta 0:00:00\u001b[0m\n",
      "\u001b[34mInstalling collected packages: imbalanced-learn\u001b[0m\n",
      "\u001b[34mSuccessfully installed imbalanced-learn-0.12.2\u001b[0m\n",
      "\u001b[34mWARNING: Running pip as the 'root' user can result in broken permissions and conflicting behaviour with the system package manager. It is recommended to use a virtual environment instead: https://pip.pypa.io/warnings/venv\u001b[0m\n",
      "\u001b[34m/opt/ml/processing/input/code/feat-v02.py:58: SettingWithCopyWarning: \u001b[0m\n",
      "\u001b[34mA value is trying to be set on a copy of a slice from a DataFrame\u001b[0m\n",
      "\u001b[34mSee the caveats in the documentation: https://pandas.pydata.org/pandas-docs/stable/user_guide/indexing.html#returning-a-view-versus-a-copy\n",
      "  df[\"distance\"][ind] = distance\u001b[0m\n",
      "\u001b[34mdatetime64[ns, pytz.FixedOffset(-180)]\u001b[0m\n",
      "\u001b[34mtrain_data:  (26989, 13)\u001b[0m\n",
      "\u001b[34mvalidation_data:  (7712, 13)\u001b[0m\n",
      "\u001b[34mtest_data:  (3856, 13)\u001b[0m\n",
      "\u001b[34mFraudulent transactions are 8.30% of the train_data.\u001b[0m\n",
      "\u001b[34mFraudulent transactions are 7.65% of the test_data.\u001b[0m\n",
      "\u001b[34mFraudulent transactions are 3.83% of thevalidation_data.\u001b[0m\n",
      "\u001b[34mFraudulent transactions AFTER SMOTE are 50.00% of the train_data.\u001b[0m\n",
      "\u001b[34m## Processing completed. Exiting.\u001b[0m\n",
      "\n"
     ]
    }
   ],
   "source": [
    "processor_args = sklearn_processor.run(\n",
    "    inputs=[\n",
    "        ProcessingInput(source=input_source,\n",
    "                        destination=\"/opt/ml/processing/input\"),\n",
    "        ProcessingInput(source=data_location,\n",
    "                        destination=\"/opt/ml/processing/input/req/\")\n",
    "    ],\n",
    "    outputs=[\n",
    "        ProcessingOutput(output_name=\"train\", \n",
    "                         source=\"/opt/ml/processing/train\",\n",
    "                         destination=f\"s3://{bucket_name}/{prefix_name}/output/train\"),\n",
    "        ProcessingOutput(output_name=\"validation\",\n",
    "                         source=\"/opt/ml/processing/validation\",\n",
    "                         destination=f\"s3://{bucket_name}/{prefix_name}/output/validation\"),\n",
    "        ProcessingOutput(output_name=\"test\",\n",
    "                         source=\"/opt/ml/processing/test\",\n",
    "                         destination=f\"s3://{bucket_name}/{prefix_name}/output/test\")],\n",
    "    code=f\"feat-v02.py\",  # <- this gets uploaded as /opt/ml/processing/input/code\n",
    ")"
   ]
  },
  {
   "cell_type": "code",
   "execution_count": null,
   "id": "c64e29d6-7d16-4070-8cfb-d56e37e495fe",
   "metadata": {},
   "outputs": [],
   "source": []
  }
 ],
 "metadata": {
  "kernelspec": {
   "display_name": "Python 3 (ipykernel)",
   "language": "python",
   "name": "python3"
  },
  "language_info": {
   "codemirror_mode": {
    "name": "ipython",
    "version": 3
   },
   "file_extension": ".py",
   "mimetype": "text/x-python",
   "name": "python",
   "nbconvert_exporter": "python",
   "pygments_lexer": "ipython3",
   "version": "3.10.13"
  }
 },
 "nbformat": 4,
 "nbformat_minor": 5
}
