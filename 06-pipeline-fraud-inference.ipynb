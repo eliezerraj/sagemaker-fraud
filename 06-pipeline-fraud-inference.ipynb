{
 "cells": [
  {
   "cell_type": "markdown",
   "id": "56145699-55d0-4279-8363-ec7d74a84bfb",
   "metadata": {},
   "source": [
    "### Import statements and declare parameters and constants"
   ]
  },
  {
   "cell_type": "code",
   "execution_count": 8,
   "id": "a6c68330-b940-4d1c-870a-9095f33ab16c",
   "metadata": {},
   "outputs": [
    {
     "name": "stdout",
     "output_type": "stream",
     "text": [
      "sagemaker.config INFO - Not applying SDK defaults from location: /etc/xdg/sagemaker/config.yaml\n",
      "sagemaker.config INFO - Not applying SDK defaults from location: /home/sagemaker-user/.config/sagemaker/config.yaml\n",
      "sagemaker.config INFO - Not applying SDK defaults from location: /etc/xdg/sagemaker/config.yaml\n",
      "sagemaker.config INFO - Not applying SDK defaults from location: /home/sagemaker-user/.config/sagemaker/config.yaml\n",
      "sagemaker.config INFO - Not applying SDK defaults from location: /etc/xdg/sagemaker/config.yaml\n",
      "sagemaker.config INFO - Not applying SDK defaults from location: /home/sagemaker-user/.config/sagemaker/config.yaml\n"
     ]
    }
   ],
   "source": [
    "import boto3 \n",
    "import pandas as pd \n",
    "import sagemaker\n",
    "from sagemaker.workflow.pipeline_context import PipelineSession \n",
    "\n",
    "s3_client = boto3.resource('s3')\n",
    "pipeline_name = f\"sagemaker-mlops-fraud-inference-pipeline\" \n",
    "\n",
    "import sagemaker\n",
    "\n",
    "sagemaker_session = sagemaker.Session()\n",
    "region = sagemaker_session.boto_region_name \n",
    "role = sagemaker.get_execution_role()\n",
    "pipeline_session = PipelineSession()\n",
    "default_bucket = sagemaker_session.default_bucket()\n",
    "model_package_group_name = f\"FraudModelPackageGroup\""
   ]
  },
  {
   "cell_type": "code",
   "execution_count": 9,
   "id": "d79090f1-d25b-4a41-a977-d042c03cae57",
   "metadata": {},
   "outputs": [
    {
     "name": "stdout",
     "output_type": "stream",
     "text": [
      "input_dataset :  s3://eliezerraj-908671954593-dataset/payment/payment.csv\n",
      "batch_data_path :  s3://eliezerraj-908671954593-dataset/payment/data/batch/batch.csv\n",
      "model_path :  s3://eliezerraj-908671954593-dataset/payment/output\n"
     ]
    }
   ],
   "source": [
    "from sagemaker.workflow.parameters import ( \n",
    " ParameterInteger, \n",
    " ParameterString, \n",
    " ParameterFloat) \n",
    "\n",
    "bucket_name = 'eliezerraj-908671954593-dataset'\n",
    "prefix_name = 'payment'\n",
    "file_name = 'payment.csv'\n",
    "\n",
    "input_dataset = 's3://{}/{}/{}'.format(bucket_name, prefix_name, file_name)\n",
    "model_path = f\"s3://{bucket_name}/{prefix_name}/output\"\n",
    "batch_data_path = \"s3://{}/{}/data/batch/batch.csv\".format(bucket_name, prefix_name,)\n",
    "\n",
    "print(\"input_dataset : \",input_dataset)\n",
    "print(\"batch_data_path : \",batch_data_path)\n",
    "print(\"model_path : \",model_path)\n",
    "\n",
    "base_job_prefix = \"fraud-model\"\n",
    "\n",
    "processing_instance_count = ParameterInteger(name=\"ProcessingInstanceCount\", default_value=1)\n",
    "\n",
    "processing_instance_type = ParameterString( name=\"ProcessingInstanceType\", default_value=\"ml.m4.xlarge\")\n",
    "transform_instance_type = ParameterString(name=\"TransformInstanceType\", default_value=\"ml.m4.xlarge\")\n",
    "\n",
    "transform_instance_count = ParameterInteger(name=\"TransformInstanceCount\", default_value=1)\n",
    "\n",
    "model_approval_status = ParameterString( name=\"ModelApprovalStatus\", default_value=\"PendingManualApproval\")"
   ]
  },
  {
   "cell_type": "markdown",
   "id": "60ee7265-6336-4cf0-836b-d858dc048cdc",
   "metadata": {},
   "source": [
    "### Get info about aproved models"
   ]
  },
  {
   "cell_type": "code",
   "execution_count": 11,
   "id": "8054f93c-86ee-469e-aced-ec0d4a03a640",
   "metadata": {},
   "outputs": [
    {
     "name": "stdout",
     "output_type": "stream",
     "text": [
      "latest_approved_model_package_arn:  arn:aws:sagemaker:us-east-2:908671954593:model-package/FraudModelPackageGroup/4\n",
      "model_artifact_uri:  s3://eliezerraj-908671954593-dataset/payment/output/y17j1cxmga28-HyperPar-6guVCDEOrA-002-0521b70b/output/model.tar.gz\n",
      "image_uri:  257758044811.dkr.ecr.us-east-2.amazonaws.com/sagemaker-xgboost:1.0-1-cpu-py3\n"
     ]
    }
   ],
   "source": [
    "sm_client = boto3.client(\"sagemaker\") \n",
    "\n",
    "# get a list of approved model packages from the model package group you specified earlier\n",
    "approved_model_packages = sm_client.list_model_packages(\n",
    "      ModelApprovalStatus='Approved',\n",
    "      ModelPackageGroupName=model_package_group_name,\n",
    "      SortBy='CreationTime',\n",
    "      SortOrder='Descending'\n",
    "  )\n",
    "\n",
    "# find the latest approved model package\n",
    "try:\n",
    "    latest_approved_model_package_arn = approved_model_packages['ModelPackageSummaryList'][0]['ModelPackageArn']\n",
    "except Exception as e:\n",
    "    print(\"Failed to retrieve an approved model package:\", e)\n",
    "\n",
    "print(\"latest_approved_model_package_arn: \",latest_approved_model_package_arn)\n",
    "\n",
    "# retrieve required information about the model\n",
    "latest_approved_model_package_descr =  sm_client.describe_model_package(ModelPackageName = latest_approved_model_package_arn)\n",
    "\n",
    "# model artifact uri (tar.gz file)\n",
    "model_artifact_uri = latest_approved_model_package_descr['InferenceSpecification']['Containers'][0]['ModelDataUrl']\n",
    "# sagemaker image in ecr\n",
    "image_uri = latest_approved_model_package_descr['InferenceSpecification']['Containers'][0]['Image']\n",
    "\n",
    "print(\"model_artifact_uri: \",model_artifact_uri)\n",
    "print(\"image_uri: \",image_uri)"
   ]
  },
  {
   "cell_type": "code",
   "execution_count": 5,
   "id": "cc6f0a92-5db5-435a-bd22-7c5bcbf7ba98",
   "metadata": {},
   "outputs": [],
   "source": [
    "### Step 5: Define create model step"
   ]
  },
  {
   "cell_type": "code",
   "execution_count": 6,
   "id": "90ef4609-b444-4fd8-b810-9b3209fc58c1",
   "metadata": {},
   "outputs": [
    {
     "name": "stdout",
     "output_type": "stream",
     "text": [
      "step_create_model:  ModelStep(name='FraudPublishModelEC2', steps=[CreateModelStep(name='FraudPublishModelEC2-CreateModel', display_name=None, description=None, step_type=<StepTypeEnum.CREATE_MODEL: 'Model'>, depends_on=None)])\n"
     ]
    },
    {
     "name": "stderr",
     "output_type": "stream",
     "text": [
      "/opt/conda/lib/python3.10/site-packages/sagemaker/workflow/pipeline_context.py:297: UserWarning: Running within a PipelineSession, there will be No Wait, No Logs, and No Job being started.\n",
      "  warnings.warn(\n"
     ]
    }
   ],
   "source": [
    "from sagemaker import Model\n",
    "from sagemaker.inputs import CreateModelInput\n",
    "from sagemaker.workflow.model_step import ModelStep\n",
    "from time import gmtime, strftime\n",
    "\n",
    "model_name = \"xgboost-ec2-fraud-v3-\" + strftime(\"%Y-%m-%d-%H-%M-%S\", gmtime())\n",
    "\n",
    "env_vars = {\"SAGEMAKER_CONTAINER_LOG_LEVEL\": \"20\", \n",
    "            \"SAGEMAKER_ENABLE_CLOUDWATCH_METRICS\": \"false\"}\n",
    "\n",
    "model = Model(\n",
    "            name=model_name,\n",
    "            image_uri=image_uri,\n",
    "            model_data=model_artifact_uri,\n",
    "            sagemaker_session=pipeline_session,\n",
    "            role=role,\n",
    "            env=env_vars \n",
    "        )\n",
    "\n",
    "step_create_model = ModelStep(\n",
    "                name=\"FraudPublishModelEC2\",\n",
    "                step_args=model.create(instance_type=\"ml.m4.large\",\n",
    "                                       accelerator_type=\"ml.eia1.medium\"),\n",
    ")\n",
    "\n",
    "print(\"step_create_model: \", step_create_model)"
   ]
  },
  {
   "cell_type": "code",
   "execution_count": 7,
   "id": "8b3570b2-a105-4939-844b-388861f4b0e2",
   "metadata": {},
   "outputs": [
    {
     "name": "stdout",
     "output_type": "stream",
     "text": [
      "step_create_model_serveless:  ModelStep(name='FraudPublishModelServeless', steps=[CreateModelStep(name='FraudPublishModelServeless-CreateModel', display_name=None, description=None, step_type=<StepTypeEnum.CREATE_MODEL: 'Model'>, depends_on=None)])\n"
     ]
    }
   ],
   "source": [
    "from sagemaker import Model\n",
    "from sagemaker.inputs import CreateModelInput\n",
    "from sagemaker.workflow.model_step import ModelStep\n",
    "from time import gmtime, strftime\n",
    "\n",
    "model_name = \"xgboost-serverless-fraud-v3-\" + strftime(\"%Y-%m-%d-%H-%M-%S\", gmtime())\n",
    "\n",
    "env_vars = {\"SAGEMAKER_CONTAINER_LOG_LEVEL\": \"20\", \n",
    "            \"SAGEMAKER_ENABLE_CLOUDWATCH_METRICS\": \"false\"}\n",
    "\n",
    "model = Model(\n",
    "            name=model_name,\n",
    "            image_uri=image_uri,\n",
    "            model_data=model_artifact_uri,\n",
    "            sagemaker_session=pipeline_session,\n",
    "            role=role,\n",
    "            env=env_vars \n",
    "        )\n",
    "\n",
    "step_create_model_serveless = ModelStep(\n",
    "                                        name=\"FraudPublishModelServeless\",\n",
    "                                        step_args=model.create(instance_type=\"SingleModel\"),\n",
    ")\n",
    "\n",
    "print(\"step_create_model_serveless: \", step_create_model_serveless)"
   ]
  },
  {
   "cell_type": "code",
   "execution_count": 54,
   "id": "b04af4fb-6e10-4e05-bb90-5785defd78ae",
   "metadata": {},
   "outputs": [
    {
     "name": "stdout",
     "output_type": "stream",
     "text": [
      "sagemaker.config INFO - Not applying SDK defaults from location: /etc/xdg/sagemaker/config.yaml\n",
      "sagemaker.config INFO - Not applying SDK defaults from location: /home/sagemaker-user/.config/sagemaker/config.yaml\n"
     ]
    }
   ],
   "source": [
    "from sagemaker.workflow.pipeline import Pipeline\n",
    "\n",
    "pipeline = Pipeline(\n",
    "    name=pipeline_name,\n",
    "    parameters=[\n",
    "        processing_instance_type,\n",
    "        processing_instance_count,\n",
    "        transform_instance_type,\n",
    "        transform_instance_count,\n",
    "    ],\n",
    "    steps=[ step_create_model,\n",
    "            step_create_model_serveless],\n",
    ") "
   ]
  },
  {
   "cell_type": "code",
   "execution_count": 53,
   "id": "b6beab9a-486d-4d42-aa31-cea00a140032",
   "metadata": {},
   "outputs": [
    {
     "name": "stderr",
     "output_type": "stream",
     "text": [
      "Popping out 'ModelName' from the pipeline definition by default since it will be overridden at pipeline execution time. Please utilize the PipelineDefinitionConfig to persist this field in the pipeline definition if desired.\n",
      "Popping out 'ModelName' from the pipeline definition by default since it will be overridden at pipeline execution time. Please utilize the PipelineDefinitionConfig to persist this field in the pipeline definition if desired.\n",
      "Popping out 'ModelName' from the pipeline definition by default since it will be overridden at pipeline execution time. Please utilize the PipelineDefinitionConfig to persist this field in the pipeline definition if desired.\n",
      "Popping out 'ModelName' from the pipeline definition by default since it will be overridden at pipeline execution time. Please utilize the PipelineDefinitionConfig to persist this field in the pipeline definition if desired.\n"
     ]
    },
    {
     "data": {
      "text/plain": [
       "_PipelineExecution(arn='arn:aws:sagemaker:us-east-2:908671954593:pipeline/sagemaker-mlops-fraud-inference-pipeline/execution/628edctlpdhr', sagemaker_session=<sagemaker.session.Session object at 0x7fc53e6e92d0>)"
      ]
     },
     "execution_count": 53,
     "metadata": {},
     "output_type": "execute_result"
    }
   ],
   "source": [
    "# Create a new or update existing Pipeline\n",
    "pipeline.upsert(role_arn=role)\n",
    "# start Pipeline execution\n",
    "pipeline.start()"
   ]
  },
  {
   "cell_type": "code",
   "execution_count": null,
   "id": "7bf5e10d-623e-4a52-9279-aad5e2d989df",
   "metadata": {},
   "outputs": [],
   "source": []
  }
 ],
 "metadata": {
  "kernelspec": {
   "display_name": "Python 3 (ipykernel)",
   "language": "python",
   "name": "python3"
  },
  "language_info": {
   "codemirror_mode": {
    "name": "ipython",
    "version": 3
   },
   "file_extension": ".py",
   "mimetype": "text/x-python",
   "name": "python",
   "nbconvert_exporter": "python",
   "pygments_lexer": "ipython3",
   "version": "3.10.13"
  }
 },
 "nbformat": 4,
 "nbformat_minor": 5
}
