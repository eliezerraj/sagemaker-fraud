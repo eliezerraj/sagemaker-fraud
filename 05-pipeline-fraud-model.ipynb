{
 "cells": [
  {
   "cell_type": "markdown",
   "id": "62a28c57-5865-480f-8ffd-a762e2eda60b",
   "metadata": {},
   "source": [
    "### Import statements and declare parameters and constants"
   ]
  },
  {
   "cell_type": "code",
   "execution_count": 2,
   "id": "c366e35e-3d7c-4b10-9a85-534b9271512d",
   "metadata": {},
   "outputs": [
    {
     "name": "stdout",
     "output_type": "stream",
     "text": [
      "Requirement already satisfied: boto3 in /opt/conda/lib/python3.10/site-packages (1.28.64)\n",
      "Collecting boto3\n",
      "  Using cached boto3-1.34.88-py3-none-any.whl.metadata (6.6 kB)\n",
      "Requirement already satisfied: fsspec in /opt/conda/lib/python3.10/site-packages (2023.6.0)\n",
      "Collecting fsspec\n",
      "  Using cached fsspec-2024.3.1-py3-none-any.whl.metadata (6.8 kB)\n",
      "Requirement already satisfied: s3fs in /opt/conda/lib/python3.10/site-packages (2024.3.1)\n",
      "Collecting botocore<1.35.0,>=1.34.88 (from boto3)\n",
      "  Using cached botocore-1.34.88-py3-none-any.whl.metadata (5.7 kB)\n",
      "Requirement already satisfied: jmespath<2.0.0,>=0.7.1 in /opt/conda/lib/python3.10/site-packages (from boto3) (1.0.1)\n",
      "Collecting s3transfer<0.11.0,>=0.10.0 (from boto3)\n",
      "  Using cached s3transfer-0.10.1-py3-none-any.whl.metadata (1.7 kB)\n",
      "Requirement already satisfied: aiobotocore<3.0.0,>=2.5.4 in /opt/conda/lib/python3.10/site-packages (from s3fs) (2.7.0)\n",
      "Requirement already satisfied: aiohttp!=4.0.0a0,!=4.0.0a1 in /opt/conda/lib/python3.10/site-packages (from s3fs) (3.9.3)\n",
      "INFO: pip is looking at multiple versions of aiobotocore to determine which version is compatible with other requirements. This could take a while.\n",
      "Collecting aiobotocore<3.0.0,>=2.5.4 (from s3fs)\n",
      "  Using cached aiobotocore-2.12.3-py3-none-any.whl.metadata (21 kB)\n",
      "  Using cached aiobotocore-2.12.2-py3-none-any.whl.metadata (21 kB)\n",
      "  Using cached aiobotocore-2.12.1-py3-none-any.whl.metadata (21 kB)\n",
      "  Using cached aiobotocore-2.12.0-py3-none-any.whl.metadata (21 kB)\n",
      "  Using cached aiobotocore-2.11.2-py3-none-any.whl.metadata (21 kB)\n",
      "  Using cached aiobotocore-2.11.1-py3-none-any.whl.metadata (21 kB)\n",
      "  Using cached aiobotocore-2.11.0-py3-none-any.whl.metadata (21 kB)\n",
      "INFO: pip is still looking at multiple versions of aiobotocore to determine which version is compatible with other requirements. This could take a while.\n",
      "  Using cached aiobotocore-2.10.0-py3-none-any.whl.metadata (20 kB)\n",
      "  Using cached aiobotocore-2.9.1-py3-none-any.whl.metadata (20 kB)\n",
      "  Using cached aiobotocore-2.9.0-py3-none-any.whl.metadata (20 kB)\n",
      "  Using cached aiobotocore-2.8.0-py3-none-any.whl.metadata (20 kB)\n",
      "  Using cached aiobotocore-2.6.0-py3-none-any.whl.metadata (19 kB)\n",
      "INFO: This is taking longer than usual. You might need to provide the dependency resolver with stricter constraints to reduce runtime. See https://pip.pypa.io/warnings/backtracking for guidance. If you want to abort this run, press Ctrl + C.\n",
      "  Using cached aiobotocore-2.5.4-py3-none-any.whl.metadata (19 kB)\n",
      "Collecting s3fs\n",
      "  Using cached s3fs-2024.3.1-py3-none-any.whl.metadata (1.6 kB)\n",
      "Requirement already satisfied: python-dateutil<3.0.0,>=2.1 in /opt/conda/lib/python3.10/site-packages (from botocore<1.35.0,>=1.34.88->boto3) (2.8.2)\n",
      "Requirement already satisfied: urllib3!=2.2.0,<3,>=1.25.4 in /opt/conda/lib/python3.10/site-packages (from botocore<1.35.0,>=1.34.88->boto3) (1.26.18)\n",
      "  Using cached s3fs-2024.3.0-py3-none-any.whl.metadata (1.6 kB)\n",
      "Collecting fsspec\n",
      "  Using cached fsspec-2024.3.0-py3-none-any.whl.metadata (6.8 kB)\n",
      "Collecting s3fs\n",
      "  Using cached s3fs-2024.2.0-py3-none-any.whl.metadata (1.6 kB)\n",
      "Collecting fsspec\n",
      "  Using cached fsspec-2024.2.0-py3-none-any.whl.metadata (6.8 kB)\n",
      "Collecting s3fs\n",
      "  Using cached s3fs-2023.12.2-py3-none-any.whl.metadata (1.6 kB)\n",
      "Collecting fsspec\n",
      "  Using cached fsspec-2023.12.2-py3-none-any.whl.metadata (6.8 kB)\n",
      "Collecting s3fs\n",
      "  Using cached s3fs-2023.12.1-py3-none-any.whl.metadata (1.6 kB)\n",
      "Collecting fsspec\n",
      "  Using cached fsspec-2023.12.1-py3-none-any.whl.metadata (6.8 kB)\n",
      "Collecting s3fs\n",
      "  Using cached s3fs-2023.10.0-py3-none-any.whl.metadata (1.6 kB)\n",
      "Collecting fsspec\n",
      "  Using cached fsspec-2023.10.0-py3-none-any.whl.metadata (6.8 kB)\n",
      "Collecting s3fs\n",
      "  Using cached s3fs-2023.9.2-py3-none-any.whl.metadata (1.6 kB)\n",
      "Collecting fsspec\n",
      "  Using cached fsspec-2023.9.2-py3-none-any.whl.metadata (6.7 kB)\n",
      "Collecting s3fs\n",
      "  Using cached s3fs-2023.9.1-py3-none-any.whl.metadata (1.6 kB)\n",
      "Collecting fsspec\n",
      "  Using cached fsspec-2023.9.1-py3-none-any.whl.metadata (6.7 kB)\n",
      "Collecting s3fs\n",
      "  Using cached s3fs-2023.9.0-py3-none-any.whl.metadata (1.6 kB)\n",
      "Collecting fsspec\n",
      "  Using cached fsspec-2023.9.0-py3-none-any.whl.metadata (6.7 kB)\n",
      "Collecting s3fs\n",
      "  Using cached s3fs-2023.6.0-py3-none-any.whl.metadata (1.6 kB)\n",
      "\u001b[31mERROR: Could not install packages due to an OSError: [Errno 2] No such file or directory: '/opt/conda/lib/python3.10/site-packages/fsspec-2023.6.0.dist-info/METADATA'\n",
      "\u001b[0m\u001b[31m\n",
      "\u001b[0m"
     ]
    }
   ],
   "source": [
    "!pip install --upgrade boto3 fsspec s3fs"
   ]
  },
  {
   "cell_type": "markdown",
   "id": "21e419f1-e996-45e0-90c1-737ada60e734",
   "metadata": {},
   "source": [
    "### Pipeline Begin"
   ]
  },
  {
   "cell_type": "code",
   "execution_count": 15,
   "id": "bff74e9c-bcfa-4586-9153-b012c72732ec",
   "metadata": {},
   "outputs": [
    {
     "name": "stdout",
     "output_type": "stream",
     "text": [
      "sagemaker.config INFO - Not applying SDK defaults from location: /etc/xdg/sagemaker/config.yaml\n",
      "sagemaker.config INFO - Not applying SDK defaults from location: /home/sagemaker-user/.config/sagemaker/config.yaml\n",
      "sagemaker.config INFO - Not applying SDK defaults from location: /etc/xdg/sagemaker/config.yaml\n",
      "sagemaker.config INFO - Not applying SDK defaults from location: /home/sagemaker-user/.config/sagemaker/config.yaml\n",
      "sagemaker.config INFO - Not applying SDK defaults from location: /etc/xdg/sagemaker/config.yaml\n",
      "sagemaker.config INFO - Not applying SDK defaults from location: /home/sagemaker-user/.config/sagemaker/config.yaml\n"
     ]
    }
   ],
   "source": [
    "import boto3 \n",
    "import pandas as pd \n",
    "import sagemaker\n",
    "import os\n",
    "from sagemaker.workflow.pipeline_context import PipelineSession \n",
    "\n",
    "s3_client = boto3.resource('s3')\n",
    "pipeline_name = f\"sagemaker-mlops-fraud-pipeline\" \n",
    "\n",
    "import sagemaker\n",
    "\n",
    "sagemaker_session = sagemaker.Session()\n",
    "region = sagemaker_session.boto_region_name \n",
    "role = sagemaker.get_execution_role()\n",
    "pipeline_session = PipelineSession()\n",
    "default_bucket = sagemaker_session.default_bucket()\n",
    "model_package_group_name = f\"FraudModelPackageGroup\""
   ]
  },
  {
   "cell_type": "markdown",
   "id": "b174ec1d-8e38-41b3-a80d-1ba40d93fafe",
   "metadata": {},
   "source": [
    "### Collect and prepare data"
   ]
  },
  {
   "cell_type": "markdown",
   "id": "d7046323-93bd-417e-90db-d79adf752145",
   "metadata": {},
   "source": [
    "# Load data from v1"
   ]
  },
  {
   "cell_type": "code",
   "execution_count": 16,
   "id": "498e88e5-b213-4557-aed2-750338310747",
   "metadata": {},
   "outputs": [],
   "source": [
    "#bucket_name = 'eliezerraj-908671954593-dataset'\n",
    "#prefix_name = 'payment'\n",
    "#file_name = 'payment.csv'\n",
    "\n",
    "#input_dataset = 's3://{}/{}/{}'.format(bucket_name, prefix_name, file_name)\n",
    "#input_requirement = 's3://{}/{}/{}'.format(bucket_name,prefix_name,'requirements.txt')\n",
    "#model_path = f\"s3://{bucket_name}/{prefix_name}/output\"\n",
    "\n",
    "#print(\"input_dataset : \",input_dataset)\n",
    "#print(\"input_requirement : \",input_requirement)\n",
    "#print(\"model_path : \",model_path)\n",
    "\n",
    "#store_data = pd.read_csv(input_dataset)\n",
    "\n",
    "#from sagemaker.workflow.parameters import ( \n",
    "#                         ParameterInteger, \n",
    "#                         ParameterString, \n",
    "#                         ParameterFloat) \n",
    "\n",
    "#auc_score_threshold = 0.75\n",
    "#base_job_prefix = \"fraud-model\"\n",
    "\n",
    "#processing_instance_count = ParameterInteger(name=\"ProcessingInstanceCount\",\n",
    "#                                             default_value=1)\n",
    "#processing_instance_type = ParameterString(name=\"ProcessingInstanceType\",\n",
    "#                                           default_value=\"ml.m4.xlarge\")\n",
    "#training_instance_type = ParameterString(name=\"TrainingInstanceType\",\n",
    "#                                         default_value=\"ml.m4.xlarge\")\n",
    "\n",
    "#model_approval_status = ParameterString(name=\"ModelApprovalStatus\",\n",
    "#                                        default_value=\"PendingManualApproval\")"
   ]
  },
  {
   "cell_type": "markdown",
   "id": "3611d35a-5f15-4e8c-b169-b7cceb1baa47",
   "metadata": {},
   "source": [
    "# Load data from v2"
   ]
  },
  {
   "cell_type": "code",
   "execution_count": 17,
   "id": "3de83bf6-6ecf-436f-879e-188b2f63c4bb",
   "metadata": {},
   "outputs": [
    {
     "name": "stdout",
     "output_type": "stream",
     "text": [
      "---------------------------------\n",
      "input_dataset :  s3://eliezerraj-908671954593-dataset/payment/payment.csv\n",
      "input_requirement :  s3://eliezerraj-908671954593-dataset/payment/requirements.txt\n",
      "model_path :  s3://eliezerraj-908671954593-dataset/payment/output\n",
      "Content of file 'payment/glue-job/run-1713493427814-part-r-00000':\n",
      "Shape of chunk '(2589, 25)':\n",
      "---------------------------------\n",
      "Content of file 'payment/glue-job/run-1713493427814-part-r-00001':\n",
      "Shape of chunk '(5179, 25)':\n",
      "---------------------------------\n",
      "Content of file 'payment/glue-job/run-1713493427814-part-r-00002':\n",
      "Shape of chunk '(7769, 25)':\n",
      "---------------------------------\n",
      "Content of file 'payment/glue-job/run-1713493427814-part-r-00003':\n",
      "Shape of chunk '(10359, 25)':\n",
      "---------------------------------\n",
      "Content of file 'payment/glue-job/run-1713493427814-part-r-00004':\n",
      "Shape of chunk '(12949, 25)':\n",
      "---------------------------------\n",
      "Content of file 'payment/glue-job/run-1713493427814-part-r-00005':\n",
      "Shape of chunk '(15539, 25)':\n",
      "---------------------------------\n",
      "Content of file 'payment/glue-job/run-1713493427814-part-r-00006':\n",
      "Shape of chunk '(18129, 25)':\n",
      "---------------------------------\n",
      "Content of file 'payment/glue-job/run-1713493427814-part-r-00007':\n",
      "Shape of chunk '(20719, 25)':\n",
      "---------------------------------\n",
      "Content of file 'payment/glue-job/run-1713493427814-part-r-00008':\n",
      "Shape of chunk '(23309, 25)':\n",
      "---------------------------------\n",
      "Content of file 'payment/glue-job/run-1713493427814-part-r-00009':\n",
      "Shape of chunk '(25899, 25)':\n",
      "---------------------------------\n",
      "Content of file 'payment/glue-job/run-1713493427814-part-r-00010':\n",
      "Shape of chunk '(28489, 25)':\n",
      "---------------------------------\n",
      "Content of file 'payment/glue-job/run-1713493427814-part-r-00011':\n",
      "Shape of chunk '(31079, 25)':\n",
      "---------------------------------\n",
      "Content of file 'payment/glue-job/run-1713493427814-part-r-00012':\n",
      "Shape of chunk '(33669, 25)':\n",
      "---------------------------------\n",
      "Content of file 'payment/glue-job/run-1713493427814-part-r-00013':\n",
      "Shape of chunk '(36259, 25)':\n",
      "---------------------------------\n",
      "Content of file 'payment/glue-job/run-1713493427814-part-r-00014':\n",
      "Shape of chunk '(38849, 25)':\n",
      "---------------------------------\n",
      "Content of file 'payment/glue-job/run-1713493427814-part-r-00015':\n",
      "Shape of chunk '(41439, 25)':\n",
      "---------------------------------\n",
      "Content of file 'payment/glue-job/run-1713493427814-part-r-00016':\n",
      "Shape of chunk '(44028, 25)':\n",
      "---------------------------------\n",
      "Content of file 'payment/glue-job/run-1713493427814-part-r-00017':\n",
      "Shape of chunk '(46617, 25)':\n",
      "---------------------------------\n",
      "Content of file 'payment/glue-job/run-1713493427814-part-r-00018':\n",
      "Shape of chunk '(49206, 25)':\n",
      "---------------------------------\n",
      "Content of file 'payment/glue-job/run-1713493427814-part-r-00019':\n",
      "Shape of chunk '(51795, 25)':\n",
      "---------------------------------\n",
      "---------------------------------\n",
      "Shape of dataframe '(51795, 25)':\n"
     ]
    }
   ],
   "source": [
    "s3 = boto3.client('s3')\n",
    "\n",
    "bucket_name = 'eliezerraj-908671954593-dataset'\n",
    "prefix_name = 'payment/glue-job/'\n",
    "prefix_save_dataset_name = 'payment'\n",
    "file_name = 'payment.csv'\n",
    "\n",
    "input_dataset = 's3://{}/{}/{}'.format(bucket_name, prefix_save_dataset_name, file_name)\n",
    "input_requirement = 's3://{}/{}/{}'.format(bucket_name, prefix_save_dataset_name, 'requirements.txt')\n",
    "model_path = f\"s3://{bucket_name}/{prefix_save_dataset_name}/output\"\n",
    "\n",
    "print(\"---------------------------------\")\n",
    "print(\"input_dataset : \",input_dataset)\n",
    "print(\"input_requirement : \",input_requirement)\n",
    "print(\"model_path : \", model_path)\n",
    "\n",
    "# List objects in the specified bucket and prefix\n",
    "response = s3.list_objects_v2(Bucket=bucket_name, Prefix=prefix_name)\n",
    "\n",
    "# Extract the list of file keys from the response\n",
    "file_keys = [obj['Key'] for obj in response.get('Contents', [])]\n",
    "\n",
    "# Read each file\n",
    "df = pd.DataFrame()\n",
    "\n",
    "for obj_key in file_keys[1:]:\n",
    "    # Read the object content\n",
    "    obj_content = s3.get_object(Bucket=bucket_name, Key=obj_key)['Body'].read()\n",
    "    print(f\"Content of file '{obj_key}':\")\n",
    "\n",
    "    data_location = 's3://{}/{}'.format(bucket_name, obj_key)\n",
    "\n",
    "    df_temp = pd.read_csv(data_location)\n",
    "    df = pd.concat([df, df_temp], ignore_index=True)\n",
    "    print(f\"Shape of chunk '{df.shape}':\")\n",
    "    print(\"---------------------------------\")\n",
    "\n",
    "print(\"---------------------------------\")\n",
    "print(f\"Shape of dataframe '{df.shape}':\")\n",
    "df.to_csv('payment.csv', index=False, header=True)\n",
    "boto3.Session().resource('s3').Bucket(bucket_name).Object(os.path.join(prefix_save_dataset_name, 'payment.csv')).upload_file('payment.csv')"
   ]
  },
  {
   "cell_type": "code",
   "execution_count": 21,
   "id": "89c01d37-7c3e-440f-af00-23629b619dbc",
   "metadata": {},
   "outputs": [],
   "source": [
    "store_data = pd.read_csv(input_dataset)\n",
    "\n",
    "from sagemaker.workflow.parameters import ( \n",
    "                         ParameterInteger, \n",
    "                         ParameterString, \n",
    "                         ParameterFloat) \n",
    "\n",
    "auc_score_threshold = 0.75\n",
    "base_job_prefix = \"fraud-model\"\n",
    "\n",
    "processing_instance_count = ParameterInteger(name=\"ProcessingInstanceCount\",\n",
    "                                             default_value=1)\n",
    "processing_instance_type = ParameterString(name=\"ProcessingInstanceType\",\n",
    "                                           default_value=\"ml.m4.xlarge\")\n",
    "training_instance_type = ParameterString(name=\"TrainingInstanceType\",\n",
    "                                         default_value=\"ml.m4.xlarge\")\n",
    "model_approval_status = ParameterString(name=\"ModelApprovalStatus\",\n",
    "                                        default_value=\"PendingManualApproval\")"
   ]
  },
  {
   "cell_type": "code",
   "execution_count": 22,
   "id": "9ea2f145-dcf2-4fad-b20b-a40a7a6703e9",
   "metadata": {},
   "outputs": [],
   "source": [
    "#!pygmentize \"feat-v02.py\""
   ]
  },
  {
   "cell_type": "markdown",
   "id": "9f25ef74-ac4f-4f87-b505-12b69244d14a",
   "metadata": {},
   "source": [
    "### Step 1: Define Processing Step"
   ]
  },
  {
   "cell_type": "code",
   "execution_count": 23,
   "id": "3749202a-3188-4f8e-9852-543ec9d95b15",
   "metadata": {},
   "outputs": [
    {
     "name": "stdout",
     "output_type": "stream",
     "text": [
      "step_process :  ProcessingStep(name='FeaturingEngineering-FraudModel', display_name=None, description=None, step_type=<StepTypeEnum.PROCESSING: 'Processing'>, depends_on=None)\n"
     ]
    },
    {
     "name": "stderr",
     "output_type": "stream",
     "text": [
      "/opt/conda/lib/python3.10/site-packages/sagemaker/workflow/pipeline_context.py:297: UserWarning: Running within a PipelineSession, there will be No Wait, No Logs, and No Job being started.\n",
      "  warnings.warn(\n"
     ]
    }
   ],
   "source": [
    "# Define Processing Step for Feature Engineering\n",
    "from sagemaker.sklearn.processing import SKLearnProcessor\n",
    "from sagemaker.processing import ProcessingInput, ProcessingOutput\n",
    "from sagemaker.workflow.steps import ProcessingStep\n",
    "\n",
    "framework_version = \"1.0-1\"\n",
    "\n",
    "sklearn_processor = SKLearnProcessor(\n",
    "    framework_version=framework_version,\n",
    "    instance_type=\"ml.m4.xlarge\",\n",
    "    instance_count=processing_instance_count,\n",
    "    base_job_name=\"mlops-pipeline-fraud-feature-eng\",\n",
    "    role=role,\n",
    "    sagemaker_session=pipeline_session,\n",
    ")\n",
    "\n",
    "processor_args = sklearn_processor.run(\n",
    "    inputs=[\n",
    "        ProcessingInput(source=input_dataset,\n",
    "                        destination=\"/opt/ml/processing/input\"),\n",
    "        ProcessingInput(source=input_requirement,\n",
    "                        destination=\"/opt/ml/processing/input/req/\")\n",
    "    ],\n",
    "    outputs=[\n",
    "        ProcessingOutput(output_name=\"train\",\n",
    "                         source=\"/opt/ml/processing/train\",\n",
    "                         destination=f\"s3://{bucket_name}/{prefix_name}/output/train\"),\n",
    "        ProcessingOutput(output_name=\"validation\",\n",
    "                         source=\"/opt/ml/processing/validation\",\n",
    "                         destination=f\"s3://{bucket_name}/{prefix_name}/output/validation\"),\n",
    "        ProcessingOutput(output_name=\"test\",\n",
    "                         source=\"/opt/ml/processing/test\",\n",
    "                         destination=f\"s3://{bucket_name}/{prefix_name}/output/test\")\n",
    "    ],\n",
    "    code=f\"feat-v02.py\",\n",
    ")\n",
    "\n",
    "step_process = ProcessingStep(\n",
    "    name=\"FeaturingEngineering-FraudModel\",\n",
    "    step_args=processor_args\n",
    ")\n",
    "\n",
    "print(\"step_process : \", step_process)"
   ]
  },
  {
   "cell_type": "markdown",
   "id": "a6076ba4-baa9-45ac-afb1-3bed6519424d",
   "metadata": {},
   "source": [
    "### Step 2: Define HyperParameter Tuning  Step"
   ]
  },
  {
   "cell_type": "code",
   "execution_count": 24,
   "id": "31856f90-f0c6-485e-af02-020c866def5c",
   "metadata": {},
   "outputs": [
    {
     "name": "stderr",
     "output_type": "stream",
     "text": [
      "The input argument instance_type of function (sagemaker.image_uris.retrieve) is a pipeline variable (<class 'sagemaker.workflow.parameters.ParameterString'>), which is interpreted in pipeline execution time only. As the function needs to evaluate the argument value in SDK compile time, the default_value of this Parameter object will be used to override it. Please make sure the default_value is valid.\n"
     ]
    }
   ],
   "source": [
    "from sagemaker.estimator import Estimator\n",
    "from sagemaker.inputs import TrainingInput\n",
    "from sagemaker.tuner import (\n",
    "    IntegerParameter,\n",
    "    CategoricalParameter,\n",
    "    ContinuousParameter,\n",
    "    HyperparameterTuner,\n",
    ")\n",
    "from sagemaker.workflow.steps import TuningStep\n",
    "\n",
    "image_uri = sagemaker.image_uris.retrieve(\n",
    "                                            framework=\"xgboost\",\n",
    "                                            region=region,\n",
    "                                            version=\"1.0-1\",\n",
    "                                            py_version=\"py3\",\n",
    "                                            instance_type=training_instance_type,\n",
    ")\n",
    "fixed_hyperparameters = {\n",
    "                        \"eval_metric\": \"auc\",\n",
    "                        \"objective\": \"binary:logistic\",\n",
    "                        \"num_round\": \"100\",\n",
    "                        \"rate_drop\": \"0.3\",\n",
    "                        \"tweedie_variance_power\": \"1.4\"\n",
    "}\n",
    "xgb_train = Estimator(\n",
    "                        image_uri=image_uri,\n",
    "                        instance_type=training_instance_type,\n",
    "                        instance_count=1,\n",
    "                        hyperparameters=fixed_hyperparameters,\n",
    "                        output_path=model_path,\n",
    "                        base_job_name=f\"fraud-train\",\n",
    "                        sagemaker_session=pipeline_session,\n",
    "                        role=role,\n",
    ")"
   ]
  },
  {
   "cell_type": "code",
   "execution_count": 25,
   "id": "2bca06d0-be48-452a-ac20-78000d244dfb",
   "metadata": {},
   "outputs": [
    {
     "name": "stdout",
     "output_type": "stream",
     "text": [
      "step_tuning :  TuningStep(name='HyperParameterTuning-FraudModel', display_name=None, description=None, step_type=<StepTypeEnum.TUNING: 'Tuning'>, depends_on=None)\n"
     ]
    }
   ],
   "source": [
    "hyperparameter_ranges = {\n",
    "                        \"eta\": ContinuousParameter(0, 1),\n",
    "                        \"min_child_weight\": ContinuousParameter(1, 10),\n",
    "                        \"alpha\": ContinuousParameter(0, 2),\n",
    "                        \"max_depth\": IntegerParameter(1, 10),\n",
    "                        }\n",
    "\n",
    "objective_metric_name = \"validation:auc\"\n",
    "\n",
    "tuner = HyperparameterTuner(\n",
    "    xgb_train,\n",
    "    objective_metric_name,\n",
    "    hyperparameter_ranges,\n",
    "    max_jobs=2,\n",
    "    max_parallel_jobs=2,\n",
    ")\n",
    "\n",
    "hpo_args = tuner.fit(\n",
    "    inputs={\n",
    "        \"train\": TrainingInput(\n",
    "            s3_data=step_process.properties.ProcessingOutputConfig.Outputs[\"train\"].S3Output.S3Uri, \n",
    "            content_type=\"text/csv\",\n",
    "        ),\n",
    "        \"validation\": TrainingInput(\n",
    "            s3_data=step_process.properties.ProcessingOutputConfig.Outputs[\"validation\"].S3Output.S3Uri, \n",
    "            content_type=\"text/csv\",\n",
    "        ),\n",
    "    }\n",
    ")\n",
    "\n",
    "step_tuning = TuningStep(name=\"HyperParameterTuning-FraudModel\", step_args=hpo_args)\n",
    "\n",
    "print(\"step_tuning : \", step_tuning)"
   ]
  },
  {
   "cell_type": "markdown",
   "id": "e8dde761-bd85-42ee-b47b-e7edc62fa004",
   "metadata": {},
   "source": [
    "### Step 3: Define the evaluation script and model evaluation step"
   ]
  },
  {
   "cell_type": "code",
   "execution_count": 26,
   "id": "68efec80-adfb-4817-820c-d524069d1d20",
   "metadata": {},
   "outputs": [],
   "source": [
    "#!pygmentize \"evaluate-fraud.py\""
   ]
  },
  {
   "cell_type": "code",
   "execution_count": 27,
   "id": "14df8eae-af74-4f41-84ee-3b8f3e04895d",
   "metadata": {},
   "outputs": [
    {
     "name": "stdout",
     "output_type": "stream",
     "text": [
      "step_eval :  ProcessingStep(name='EvalModel-FraudModel', display_name=None, description=None, step_type=<StepTypeEnum.PROCESSING: 'Processing'>, depends_on=None)\n"
     ]
    }
   ],
   "source": [
    "# define model evaluation step to evaluate the trained model\n",
    "from sagemaker.processing import ScriptProcessor\n",
    "script_eval = ScriptProcessor(\n",
    "    image_uri=image_uri,\n",
    "    command=[\"python3\"],\n",
    "    instance_type=processing_instance_type,\n",
    "    instance_count=1,\n",
    "    base_job_name=\"script-fraud-eval\",\n",
    "    role=role,\n",
    "    sagemaker_session=pipeline_session,\n",
    ")\n",
    "\n",
    "eval_args = script_eval.run(\n",
    "     inputs=[\n",
    "            ProcessingInput(\n",
    "                source=step_tuning.get_top_model_s3_uri(top_k=0, s3_bucket=f\"{bucket_name}/{prefix_name}\", prefix=\"output\"),\n",
    "                destination=\"/opt/ml/processing/model\"\n",
    "            ),\n",
    "            ProcessingInput(\n",
    "                source=step_process.properties.ProcessingOutputConfig.Outputs[\"test\"].S3Output.S3Uri,\n",
    "                destination=\"/opt/ml/processing/test\"\n",
    "            )\n",
    "        ],\n",
    "    outputs=[\n",
    "            ProcessingOutput(output_name=\"evaluation\", \n",
    "                             source=\"/opt/ml/processing/evaluation\",\n",
    "                             destination=f\"s3://{bucket_name}/{prefix_name}/output/evaluation\"),\n",
    "        ],\n",
    "    code=f\"evaluate-fraud.py\",\n",
    ")\n",
    "\n",
    "from sagemaker.workflow.properties import PropertyFile\n",
    "\n",
    "evaluation_report = PropertyFile(\n",
    "    name=\"FraudModelEvaluationReport\", output_name=\"evaluation\", path=\"evaluation.json\"\n",
    ")\n",
    "\n",
    "step_eval = ProcessingStep(\n",
    "    name=\"EvalModel-FraudModel\",\n",
    "    step_args=eval_args,\n",
    "    property_files=[evaluation_report],\n",
    ")\n",
    "\n",
    "print(\"step_eval : \", step_eval)"
   ]
  },
  {
   "cell_type": "markdown",
   "id": "b90b0526-1a4c-4676-bd4f-40dfb8b431ed",
   "metadata": {},
   "source": [
    "### Step 4: Define a register model step"
   ]
  },
  {
   "cell_type": "code",
   "execution_count": 28,
   "id": "a62ec546-ef50-4e07-9f14-2fc4734e25fb",
   "metadata": {},
   "outputs": [
    {
     "name": "stderr",
     "output_type": "stream",
     "text": [
      "WARNING:sagemaker.workflow.utilities:Popping out 'ProcessingJobName' from the pipeline definition by default since it will be overridden at pipeline execution time. Please utilize the PipelineDefinitionConfig to persist this field in the pipeline definition if desired.\n"
     ]
    },
    {
     "name": "stdout",
     "output_type": "stream",
     "text": [
      "step_register :  ModelStep(name='RegisterModel-FraudModel', steps=[_RegisterModelStep(name='RegisterModel-FraudModel-RegisterModel', display_name=None, description=None, step_type=<StepTypeEnum.REGISTER_MODEL: 'RegisterModel'>, depends_on=None)])\n"
     ]
    }
   ],
   "source": [
    "from sagemaker import Model\n",
    "from sagemaker.workflow.model_step import ModelStep\n",
    "\n",
    "model = Model(\n",
    "    image_uri=image_uri,\n",
    "    model_data=step_tuning.get_top_model_s3_uri(top_k=0,s3_bucket=f\"{bucket_name}/{prefix_name}\",prefix=\"output\"),\n",
    "    sagemaker_session=pipeline_session,\n",
    "    role=role,\n",
    ")\n",
    "\n",
    "from sagemaker.model_metrics import MetricsSource, ModelMetrics\n",
    "from time import gmtime, strftime\n",
    "\n",
    "model_name = \"xgboost-fraud-v3-\" + strftime(\"%Y-%m-%d-%H-%M-%S\", gmtime())\n",
    "\n",
    "model_metrics = ModelMetrics(\n",
    "    model_statistics=MetricsSource(\n",
    "        s3_uri=\"{}/evaluation.json\".format(\n",
    "            step_eval.arguments[\"ProcessingOutputConfig\"][\"Outputs\"][0][\"S3Output\"][\"S3Uri\"]\n",
    "        ),\n",
    "        content_type=\"application/json\",\n",
    "    )\n",
    ")\n",
    "register_args = model.register(\n",
    "                                content_types=[\"text/csv\"],\n",
    "                                response_types=[\"text/csv\"],\n",
    "                                inference_instances=[\"ml.t2.medium\", \"ml.m5.large\"],\n",
    "                                transform_instances=[\"ml.m4.xlarge\"],\n",
    "                                model_package_group_name=model_package_group_name,\n",
    "                                approval_status=model_approval_status,\n",
    "                                model_metrics=model_metrics,\n",
    ")\n",
    "\n",
    "step_register = ModelStep(\n",
    "    name=\"RegisterModel-FraudModel\",\n",
    "    step_args=register_args\n",
    ")\n",
    "\n",
    "print(\"step_register : \", step_register)"
   ]
  },
  {
   "cell_type": "markdown",
   "id": "9c5d91dd-3af7-4db0-9a87-3ee48d668879",
   "metadata": {},
   "source": [
    "### Step 5: Define a condition step to check AUC score"
   ]
  },
  {
   "cell_type": "code",
   "execution_count": 29,
   "id": "0efca206-c6cd-4a54-93ca-cce428faddfe",
   "metadata": {},
   "outputs": [],
   "source": [
    "from sagemaker.workflow.conditions import ConditionGreaterThan\n",
    "from sagemaker.workflow.condition_step import ConditionStep\n",
    "from sagemaker.workflow.functions import JsonGet\n",
    "cond_lte = ConditionGreaterThan(\n",
    "    left=JsonGet(\n",
    "        step_name=step_eval.name,\n",
    "        property_file=evaluation_report,\n",
    "        json_path=\"classification_metrics.auc_score.value\",\n",
    "    ),\n",
    "    right=auc_score_threshold,\n",
    ")\n",
    "\n",
    "step_cond = ConditionStep(\n",
    "    name=\"CheckAUCScore-FraudFraud\",\n",
    "    conditions=[cond_lte],\n",
    "    if_steps=[step_register],\n",
    ")"
   ]
  },
  {
   "cell_type": "markdown",
   "id": "ce4a57cb-5eab-46fd-b4f5-cdedffb0c7f8",
   "metadata": {},
   "source": [
    "### Build and Trigger the pipeline run"
   ]
  },
  {
   "cell_type": "code",
   "execution_count": 30,
   "id": "b54a287d-ce56-4874-b27d-0a4cf617508a",
   "metadata": {},
   "outputs": [
    {
     "name": "stdout",
     "output_type": "stream",
     "text": [
      "sagemaker.config INFO - Not applying SDK defaults from location: /etc/xdg/sagemaker/config.yaml\n",
      "sagemaker.config INFO - Not applying SDK defaults from location: /home/sagemaker-user/.config/sagemaker/config.yaml\n"
     ]
    },
    {
     "name": "stderr",
     "output_type": "stream",
     "text": [
      "WARNING:sagemaker.workflow.utilities:Popping out 'ProcessingJobName' from the pipeline definition by default since it will be overridden at pipeline execution time. Please utilize the PipelineDefinitionConfig to persist this field in the pipeline definition if desired.\n",
      "WARNING:sagemaker.estimator:No finished training job found associated with this estimator. Please make sure this estimator is only used for building workflow config\n",
      "WARNING:sagemaker.estimator:No finished training job found associated with this estimator. Please make sure this estimator is only used for building workflow config\n",
      "WARNING:sagemaker.workflow.utilities:Popping out 'HyperParameterTuningJobName' from the pipeline definition by default since it will be overridden at pipeline execution time. Please utilize the PipelineDefinitionConfig to persist this field in the pipeline definition if desired.\n",
      "WARNING:sagemaker.workflow.utilities:Popping out 'ProcessingJobName' from the pipeline definition by default since it will be overridden at pipeline execution time. Please utilize the PipelineDefinitionConfig to persist this field in the pipeline definition if desired.\n",
      "WARNING:sagemaker.workflow._utils:Popping out 'CertifyForMarketplace' from the pipeline definition since it will be overridden in pipeline execution time.\n",
      "WARNING:sagemaker.workflow.utilities:Popping out 'ModelPackageName' from the pipeline definition by default since it will be overridden at pipeline execution time. Please utilize the PipelineDefinitionConfig to persist this field in the pipeline definition if desired.\n"
     ]
    },
    {
     "name": "stdout",
     "output_type": "stream",
     "text": [
      "{'Version': '2020-12-01', 'Metadata': {}, 'Parameters': [{'Name': 'ProcessingInstanceCount', 'Type': 'Integer', 'DefaultValue': 1}, {'Name': 'ProcessingInstanceType', 'Type': 'String', 'DefaultValue': 'ml.m4.xlarge'}, {'Name': 'TrainingInstanceType', 'Type': 'String', 'DefaultValue': 'ml.m4.xlarge'}, {'Name': 'ModelApprovalStatus', 'Type': 'String', 'DefaultValue': 'PendingManualApproval'}], 'PipelineExperimentConfig': {'ExperimentName': {'Get': 'Execution.PipelineName'}, 'TrialName': {'Get': 'Execution.PipelineExecutionId'}}, 'Steps': [{'Name': 'FeaturingEngineering-FraudModel', 'Type': 'Processing', 'Arguments': {'ProcessingResources': {'ClusterConfig': {'InstanceType': 'ml.m4.xlarge', 'InstanceCount': {'Get': 'Parameters.ProcessingInstanceCount'}, 'VolumeSizeInGB': 30}}, 'AppSpecification': {'ImageUri': '257758044811.dkr.ecr.us-east-2.amazonaws.com/sagemaker-scikit-learn:1.0-1-cpu-py3', 'ContainerEntrypoint': ['python3', '/opt/ml/processing/input/code/feat-v02.py']}, 'RoleArn': 'arn:aws:iam::908671954593:role/service-role/AmazonSageMaker-ExecutionRole-20240324T175412', 'ProcessingInputs': [{'InputName': 'input-1', 'AppManaged': False, 'S3Input': {'S3Uri': 's3://eliezerraj-908671954593-dataset/payment/payment.csv', 'LocalPath': '/opt/ml/processing/input', 'S3DataType': 'S3Prefix', 'S3InputMode': 'File', 'S3DataDistributionType': 'FullyReplicated', 'S3CompressionType': 'None'}}, {'InputName': 'input-2', 'AppManaged': False, 'S3Input': {'S3Uri': 's3://eliezerraj-908671954593-dataset/payment/requirements.txt', 'LocalPath': '/opt/ml/processing/input/req/', 'S3DataType': 'S3Prefix', 'S3InputMode': 'File', 'S3DataDistributionType': 'FullyReplicated', 'S3CompressionType': 'None'}}, {'InputName': 'code', 'AppManaged': False, 'S3Input': {'S3Uri': 's3://sagemaker-us-east-2-908671954593/sagemaker-mlops-fraud-pipeline/code/19ca14fa3a5ae8efe60d0174783956a0/feat-v02.py', 'LocalPath': '/opt/ml/processing/input/code', 'S3DataType': 'S3Prefix', 'S3InputMode': 'File', 'S3DataDistributionType': 'FullyReplicated', 'S3CompressionType': 'None'}}], 'ProcessingOutputConfig': {'Outputs': [{'OutputName': 'train', 'AppManaged': False, 'S3Output': {'S3Uri': 's3://eliezerraj-908671954593-dataset/payment/glue-job//output/train', 'LocalPath': '/opt/ml/processing/train', 'S3UploadMode': 'EndOfJob'}}, {'OutputName': 'validation', 'AppManaged': False, 'S3Output': {'S3Uri': 's3://eliezerraj-908671954593-dataset/payment/glue-job//output/validation', 'LocalPath': '/opt/ml/processing/validation', 'S3UploadMode': 'EndOfJob'}}, {'OutputName': 'test', 'AppManaged': False, 'S3Output': {'S3Uri': 's3://eliezerraj-908671954593-dataset/payment/glue-job//output/test', 'LocalPath': '/opt/ml/processing/test', 'S3UploadMode': 'EndOfJob'}}]}}}, {'Name': 'HyperParameterTuning-FraudModel', 'Type': 'Tuning', 'Arguments': {'HyperParameterTuningJobConfig': {'Strategy': 'Bayesian', 'ResourceLimits': {'MaxNumberOfTrainingJobs': 2, 'MaxParallelTrainingJobs': 2}, 'TrainingJobEarlyStoppingType': 'Off', 'HyperParameterTuningJobObjective': {'Type': 'Maximize', 'MetricName': 'validation:auc'}, 'ParameterRanges': {'ContinuousParameterRanges': [{'Name': 'eta', 'MinValue': '0', 'MaxValue': '1', 'ScalingType': 'Auto'}, {'Name': 'min_child_weight', 'MinValue': '1', 'MaxValue': '10', 'ScalingType': 'Auto'}, {'Name': 'alpha', 'MinValue': '0', 'MaxValue': '2', 'ScalingType': 'Auto'}], 'CategoricalParameterRanges': [], 'IntegerParameterRanges': [{'Name': 'max_depth', 'MinValue': '1', 'MaxValue': '10', 'ScalingType': 'Auto'}]}}, 'TrainingJobDefinition': {'StaticHyperParameters': {'eval_metric': 'auc', 'objective': 'binary:logistic', 'num_round': '100', 'rate_drop': '0.3', 'tweedie_variance_power': '1.4'}, 'RoleArn': 'arn:aws:iam::908671954593:role/service-role/AmazonSageMaker-ExecutionRole-20240324T175412', 'OutputDataConfig': {'S3OutputPath': 's3://eliezerraj-908671954593-dataset/payment/output'}, 'StoppingCondition': {'MaxRuntimeInSeconds': 86400}, 'HyperParameterTuningResourceConfig': {'InstanceCount': 1, 'InstanceType': {'Get': 'Parameters.TrainingInstanceType'}, 'VolumeSizeInGB': 30}, 'AlgorithmSpecification': {'TrainingInputMode': 'File', 'TrainingImage': '257758044811.dkr.ecr.us-east-2.amazonaws.com/sagemaker-xgboost:1.0-1-cpu-py3'}, 'InputDataConfig': [{'DataSource': {'S3DataSource': {'S3DataType': 'S3Prefix', 'S3Uri': {'Get': \"Steps.FeaturingEngineering-FraudModel.ProcessingOutputConfig.Outputs['train'].S3Output.S3Uri\"}, 'S3DataDistributionType': 'FullyReplicated'}}, 'ContentType': 'text/csv', 'ChannelName': 'train'}, {'DataSource': {'S3DataSource': {'S3DataType': 'S3Prefix', 'S3Uri': {'Get': \"Steps.FeaturingEngineering-FraudModel.ProcessingOutputConfig.Outputs['validation'].S3Output.S3Uri\"}, 'S3DataDistributionType': 'FullyReplicated'}}, 'ContentType': 'text/csv', 'ChannelName': 'validation'}]}}}, {'Name': 'EvalModel-FraudModel', 'Type': 'Processing', 'Arguments': {'ProcessingResources': {'ClusterConfig': {'InstanceType': {'Get': 'Parameters.ProcessingInstanceType'}, 'InstanceCount': 1, 'VolumeSizeInGB': 30}}, 'AppSpecification': {'ImageUri': '257758044811.dkr.ecr.us-east-2.amazonaws.com/sagemaker-xgboost:1.0-1-cpu-py3', 'ContainerEntrypoint': ['python3', '/opt/ml/processing/input/code/evaluate-fraud.py']}, 'RoleArn': 'arn:aws:iam::908671954593:role/service-role/AmazonSageMaker-ExecutionRole-20240324T175412', 'ProcessingInputs': [{'InputName': 'input-1', 'AppManaged': False, 'S3Input': {'S3Uri': {'Std:Join': {'On': '/', 'Values': ['s3:/', 'eliezerraj-908671954593-dataset/payment/glue-job/', 'output', {'Get': 'Steps.HyperParameterTuning-FraudModel.TrainingJobSummaries[0].TrainingJobName'}, 'output/model.tar.gz']}}, 'LocalPath': '/opt/ml/processing/model', 'S3DataType': 'S3Prefix', 'S3InputMode': 'File', 'S3DataDistributionType': 'FullyReplicated', 'S3CompressionType': 'None'}}, {'InputName': 'input-2', 'AppManaged': False, 'S3Input': {'S3Uri': {'Get': \"Steps.FeaturingEngineering-FraudModel.ProcessingOutputConfig.Outputs['test'].S3Output.S3Uri\"}, 'LocalPath': '/opt/ml/processing/test', 'S3DataType': 'S3Prefix', 'S3InputMode': 'File', 'S3DataDistributionType': 'FullyReplicated', 'S3CompressionType': 'None'}}, {'InputName': 'code', 'AppManaged': False, 'S3Input': {'S3Uri': 's3://sagemaker-us-east-2-908671954593/sagemaker-mlops-fraud-pipeline/code/0d20b0222aca72bf0bd2a8a09950f673/evaluate-fraud.py', 'LocalPath': '/opt/ml/processing/input/code', 'S3DataType': 'S3Prefix', 'S3InputMode': 'File', 'S3DataDistributionType': 'FullyReplicated', 'S3CompressionType': 'None'}}], 'ProcessingOutputConfig': {'Outputs': [{'OutputName': 'evaluation', 'AppManaged': False, 'S3Output': {'S3Uri': 's3://eliezerraj-908671954593-dataset/payment/glue-job//output/evaluation', 'LocalPath': '/opt/ml/processing/evaluation', 'S3UploadMode': 'EndOfJob'}}]}}, 'PropertyFiles': [{'PropertyFileName': 'FraudModelEvaluationReport', 'OutputName': 'evaluation', 'FilePath': 'evaluation.json'}]}, {'Name': 'CheckAUCScore-FraudFraud', 'Type': 'Condition', 'Arguments': {'Conditions': [{'Type': 'GreaterThan', 'LeftValue': {'Std:JsonGet': {'PropertyFile': {'Get': 'Steps.EvalModel-FraudModel.PropertyFiles.FraudModelEvaluationReport'}, 'Path': 'classification_metrics.auc_score.value'}}, 'RightValue': 0.75}], 'IfSteps': [{'Name': 'RegisterModel-FraudModel-RegisterModel', 'Type': 'RegisterModel', 'Arguments': {'ModelPackageGroupName': 'FraudModelPackageGroup', 'ModelMetrics': {'ModelQuality': {'Statistics': {'ContentType': 'application/json', 'S3Uri': 's3://eliezerraj-908671954593-dataset/payment/glue-job//output/evaluation/evaluation.json'}}, 'Bias': {}, 'Explainability': {}}, 'InferenceSpecification': {'Containers': [{'Image': '257758044811.dkr.ecr.us-east-2.amazonaws.com/sagemaker-xgboost:1.0-1-cpu-py3', 'Environment': {}, 'ModelDataUrl': {'Std:Join': {'On': '/', 'Values': ['s3:/', 'eliezerraj-908671954593-dataset/payment/glue-job/', 'output', {'Get': 'Steps.HyperParameterTuning-FraudModel.TrainingJobSummaries[0].TrainingJobName'}, 'output/model.tar.gz']}}}], 'SupportedContentTypes': ['text/csv'], 'SupportedResponseMIMETypes': ['text/csv'], 'SupportedRealtimeInferenceInstanceTypes': ['ml.t2.medium', 'ml.m5.large'], 'SupportedTransformInstanceTypes': ['ml.m4.xlarge']}, 'ModelApprovalStatus': {'Get': 'Parameters.ModelApprovalStatus'}, 'SkipModelValidation': 'None'}}], 'ElseSteps': []}}]}\n"
     ]
    }
   ],
   "source": [
    "import json\n",
    "from sagemaker.workflow.pipeline import Pipeline\n",
    "\n",
    "pipeline = Pipeline(\n",
    "    name=pipeline_name,\n",
    "    parameters=[\n",
    "        processing_instance_count,\n",
    "        processing_instance_type,\n",
    "        training_instance_type,\n",
    "        model_approval_status,\n",
    "        input_dataset,\n",
    "        auc_score_threshold,\n",
    "    ],\n",
    "    steps=[step_process,\n",
    "           step_tuning,\n",
    "           step_eval,\n",
    "           step_cond],\n",
    ")\n",
    "\n",
    "definition = json.loads(pipeline.definition())\n",
    "\n",
    "print(definition)"
   ]
  },
  {
   "cell_type": "code",
   "execution_count": 40,
   "id": "7d3360bf-d623-474b-84f5-bf5598e50dfe",
   "metadata": {},
   "outputs": [
    {
     "name": "stderr",
     "output_type": "stream",
     "text": [
      "WARNING:sagemaker.workflow.utilities:Popping out 'ProcessingJobName' from the pipeline definition by default since it will be overridden at pipeline execution time. Please utilize the PipelineDefinitionConfig to persist this field in the pipeline definition if desired.\n",
      "WARNING:sagemaker.estimator:No finished training job found associated with this estimator. Please make sure this estimator is only used for building workflow config\n",
      "WARNING:sagemaker.estimator:No finished training job found associated with this estimator. Please make sure this estimator is only used for building workflow config\n",
      "WARNING:sagemaker.workflow.utilities:Popping out 'HyperParameterTuningJobName' from the pipeline definition by default since it will be overridden at pipeline execution time. Please utilize the PipelineDefinitionConfig to persist this field in the pipeline definition if desired.\n",
      "WARNING:sagemaker.workflow.utilities:Popping out 'ProcessingJobName' from the pipeline definition by default since it will be overridden at pipeline execution time. Please utilize the PipelineDefinitionConfig to persist this field in the pipeline definition if desired.\n",
      "WARNING:sagemaker.workflow.utilities:Popping out 'ModelPackageName' from the pipeline definition by default since it will be overridden at pipeline execution time. Please utilize the PipelineDefinitionConfig to persist this field in the pipeline definition if desired.\n",
      "WARNING:sagemaker.workflow.utilities:Popping out 'ProcessingJobName' from the pipeline definition by default since it will be overridden at pipeline execution time. Please utilize the PipelineDefinitionConfig to persist this field in the pipeline definition if desired.\n",
      "WARNING:sagemaker.estimator:No finished training job found associated with this estimator. Please make sure this estimator is only used for building workflow config\n",
      "WARNING:sagemaker.estimator:No finished training job found associated with this estimator. Please make sure this estimator is only used for building workflow config\n",
      "WARNING:sagemaker.workflow.utilities:Popping out 'HyperParameterTuningJobName' from the pipeline definition by default since it will be overridden at pipeline execution time. Please utilize the PipelineDefinitionConfig to persist this field in the pipeline definition if desired.\n",
      "WARNING:sagemaker.workflow.utilities:Popping out 'ProcessingJobName' from the pipeline definition by default since it will be overridden at pipeline execution time. Please utilize the PipelineDefinitionConfig to persist this field in the pipeline definition if desired.\n",
      "WARNING:sagemaker.workflow.utilities:Popping out 'ModelPackageName' from the pipeline definition by default since it will be overridden at pipeline execution time. Please utilize the PipelineDefinitionConfig to persist this field in the pipeline definition if desired.\n"
     ]
    },
    {
     "data": {
      "text/plain": [
       "_PipelineExecution(arn='arn:aws:sagemaker:us-east-2:908671954593:pipeline/sagemaker-mlops-fraud-pipeline/execution/y17j1cxmga28', sagemaker_session=<sagemaker.session.Session object at 0x7f75775d58d0>)"
      ]
     },
     "execution_count": 40,
     "metadata": {},
     "output_type": "execute_result"
    }
   ],
   "source": [
    "# Create a new or update existing Pipeline\n",
    "pipeline.upsert(role_arn=role)\n",
    "# start Pipeline execution\n",
    "pipeline.start()"
   ]
  },
  {
   "cell_type": "code",
   "execution_count": null,
   "id": "d47a0d9a-88c6-4449-8d75-d8cd2d9a46dd",
   "metadata": {},
   "outputs": [],
   "source": []
  },
  {
   "cell_type": "code",
   "execution_count": null,
   "id": "2d776f0a-f504-41be-89e2-2af4d4923d8a",
   "metadata": {},
   "outputs": [],
   "source": []
  }
 ],
 "metadata": {
  "kernelspec": {
   "display_name": "Python 3 (ipykernel)",
   "language": "python",
   "name": "python3"
  },
  "language_info": {
   "codemirror_mode": {
    "name": "ipython",
    "version": 3
   },
   "file_extension": ".py",
   "mimetype": "text/x-python",
   "name": "python",
   "nbconvert_exporter": "python",
   "pygments_lexer": "ipython3",
   "version": "3.10.13"
  }
 },
 "nbformat": 4,
 "nbformat_minor": 5
}
