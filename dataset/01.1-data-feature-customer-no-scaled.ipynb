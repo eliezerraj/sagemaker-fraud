{
 "cells": [
  {
   "cell_type": "markdown",
   "id": "38918144-6910-4b1c-9087-1ef3947846c3",
   "metadata": {},
   "source": [
    "# Load Libraries"
   ]
  },
  {
   "cell_type": "code",
   "execution_count": 1,
   "id": "fb2380e9-85b5-439d-a815-875683a5d89e",
   "metadata": {},
   "outputs": [
    {
     "name": "stdout",
     "output_type": "stream",
     "text": [
      "sagemaker.config INFO - Not applying SDK defaults from location: /etc/xdg/sagemaker/config.yaml\n",
      "sagemaker.config INFO - Not applying SDK defaults from location: /home/sagemaker-user/.config/sagemaker/config.yaml\n",
      "sagemaker.config INFO - Not applying SDK defaults from location: /etc/xdg/sagemaker/config.yaml\n",
      "sagemaker.config INFO - Not applying SDK defaults from location: /home/sagemaker-user/.config/sagemaker/config.yaml\n"
     ]
    }
   ],
   "source": [
    "# pip3 install s3fs\n",
    "from sagemaker import Session\n",
    "import sagemaker\n",
    "import boto3\n",
    "import re\n",
    "from sagemaker import get_execution_role\n",
    "import numpy as np\n",
    "import pandas as pd\n",
    "import os\n",
    "\n",
    "from sagemaker import get_execution_role\n",
    "\n",
    "role = get_execution_role()"
   ]
  },
  {
   "cell_type": "markdown",
   "id": "5a946ef7-8403-45a2-b6a4-6f99efb31345",
   "metadata": {},
   "source": [
    "# Load File"
   ]
  },
  {
   "cell_type": "code",
   "execution_count": 2,
   "id": "559e7e0a-c80b-492d-8255-1e5cc3e73b59",
   "metadata": {},
   "outputs": [
    {
     "name": "stdout",
     "output_type": "stream",
     "text": [
      "---------------------------------\n",
      "Shape of dataframe '(10127, 7)':\n"
     ]
    }
   ],
   "source": [
    "bucket_name = 'eliezerraj-908671954593-dataset'\n",
    "prefix_name = 'customer'\n",
    "file_name = 'customer_profile.csv'\n",
    "\n",
    "data_location = 's3://{}/{}/{}'.format(bucket_name, prefix_name, file_name)\n",
    "\n",
    "df = pd.read_csv(data_location)\n",
    "\n",
    "print(\"---------------------------------\")\n",
    "print(f\"Shape of dataframe '{df.shape}':\")\n",
    "\n",
    "df.to_csv(file_name, index=False, header=True)"
   ]
  },
  {
   "cell_type": "markdown",
   "id": "c7dcc142-e4f4-43d4-aac1-1f9478f4537d",
   "metadata": {},
   "source": [
    "# Featuring Engeniring"
   ]
  },
  {
   "cell_type": "code",
   "execution_count": 3,
   "id": "c9b25fb5-3b1d-4f1e-a503-6e27aa77a036",
   "metadata": {},
   "outputs": [],
   "source": [
    "from sagemaker.sklearn.processing import SKLearnProcessor\n",
    "from sagemaker.processing import ProcessingInput, ProcessingOutput\n",
    "from sagemaker import get_execution_role\n",
    "\n",
    "from sagemaker import Session\n",
    "import sagemaker\n",
    "from sagemaker import get_execution_role\n",
    "from sagemaker.workflow.parameters import ( \n",
    " ParameterInteger,\n",
    " ParameterString,\n",
    " ParameterFloat)"
   ]
  },
  {
   "cell_type": "code",
   "execution_count": 4,
   "id": "f4afae59-e1de-48c3-9984-d4b643d91c82",
   "metadata": {},
   "outputs": [],
   "source": [
    "processing_instance_count = ParameterInteger(name=\"ProcessingInstanceCount\", default_value=1)"
   ]
  },
  {
   "cell_type": "code",
   "execution_count": 5,
   "id": "edb93dd4-8235-435e-bccd-b6c980dfb149",
   "metadata": {},
   "outputs": [
    {
     "name": "stdout",
     "output_type": "stream",
     "text": [
      "sagemaker.config INFO - Not applying SDK defaults from location: /etc/xdg/sagemaker/config.yaml\n",
      "sagemaker.config INFO - Not applying SDK defaults from location: /home/sagemaker-user/.config/sagemaker/config.yaml\n"
     ]
    }
   ],
   "source": [
    "framework_version = \"1.0-1\"\n",
    "sklearn_processor = SKLearnProcessor(\n",
    "    framework_version=framework_version,\n",
    "    role=role,\n",
    "    instance_type=\"ml.m5.large\",\n",
    "    instance_count=1,\n",
    "    base_job_name='mlops-customer-feature-eng'\n",
    ")"
   ]
  },
  {
   "cell_type": "code",
   "execution_count": 6,
   "id": "f04550d4-8652-4b4d-be05-8696ad058b2f",
   "metadata": {},
   "outputs": [],
   "source": [
    "bucket_name = 'eliezerraj-908671954593-dataset'\n",
    "prefix_name = 'customer/notebook'\n",
    "file_name = 'customer_profile.csv'"
   ]
  },
  {
   "cell_type": "code",
   "execution_count": 7,
   "id": "47f0c827-1f7f-4867-9085-6be49a8632a0",
   "metadata": {},
   "outputs": [
    {
     "name": "stdout",
     "output_type": "stream",
     "text": [
      "---------------------------------\n",
      "bucket_name 'eliezerraj-908671954593-dataset':\n",
      "prefix_name 'customer/notebook':\n",
      "input_source 's3://eliezerraj-908671954593-dataset/customer/notebook/customer_profile.csv':\n",
      "data_location 's3://eliezerraj-908671954593-dataset/customer/notebook/requirements.txt':\n"
     ]
    }
   ],
   "source": [
    "input_source = 's3://{}/{}/{}'.format(bucket_name, prefix_name, file_name)\n",
    "data_location = 's3://{}/{}/{}'.format(bucket_name, prefix_name, 'requirements.txt')\n",
    "\n",
    "# Load Files\n",
    "boto3.Session().resource('s3').Bucket(bucket_name).Object(os.path.join(prefix_name, 'requirements.txt')).upload_file('requirements.txt')\n",
    "boto3.Session().resource('s3').Bucket(bucket_name).Object(os.path.join(prefix_name, file_name)).upload_file(file_name)\n",
    "\n",
    "print(\"---------------------------------\")\n",
    "print(f\"bucket_name '{bucket_name}':\")\n",
    "print(f\"prefix_name '{prefix_name}':\")\n",
    "print(f\"input_source '{input_source}':\")\n",
    "print(f\"data_location '{data_location}':\")"
   ]
  },
  {
   "cell_type": "code",
   "execution_count": 8,
   "id": "529ada33-ee68-4c54-a1dc-b806b0994e60",
   "metadata": {},
   "outputs": [
    {
     "name": "stderr",
     "output_type": "stream",
     "text": [
      "INFO:sagemaker:Creating processing-job with name mlops-customer-feature-eng-2024-04-28-20-54-53-599\n"
     ]
    },
    {
     "name": "stdout",
     "output_type": "stream",
     "text": [
      ".............................\u001b[34mCollecting fsspec\n",
      "  Downloading fsspec-2024.3.1-py3-none-any.whl.metadata (6.8 kB)\u001b[0m\n",
      "\u001b[34mDownloading fsspec-2024.3.1-py3-none-any.whl (171 kB)\n",
      "   ━━━━━━━━━━━━━━━━━━━━━━━━━━━━━━━━━━━━━━━━ 172.0/172.0 kB 5.1 MB/s eta 0:00:00\u001b[0m\n",
      "\u001b[34mInstalling collected packages: fsspec\u001b[0m\n",
      "\u001b[34mSuccessfully installed fsspec-2024.3.1\u001b[0m\n",
      "\u001b[34mWARNING: Running pip as the 'root' user can result in broken permissions and conflicting behaviour with the system package manager. It is recommended to use a virtual environment instead: https://pip.pypa.io/warnings/venv\u001b[0m\n",
      "\u001b[34mCollecting s3fs\n",
      "  Downloading s3fs-2024.3.1-py3-none-any.whl.metadata (1.6 kB)\u001b[0m\n",
      "\u001b[34mCollecting aiobotocore<3.0.0,>=2.5.4 (from s3fs)\n",
      "  Downloading aiobotocore-2.12.3-py3-none-any.whl.metadata (21 kB)\u001b[0m\n",
      "\u001b[34mRequirement already satisfied: fsspec==2024.3.1 in /miniconda3/lib/python3.8/site-packages (from s3fs) (2024.3.1)\u001b[0m\n",
      "\u001b[34mCollecting aiohttp!=4.0.0a0,!=4.0.0a1 (from s3fs)\n",
      "  Downloading aiohttp-3.9.5-cp38-cp38-manylinux_2_17_x86_64.manylinux2014_x86_64.whl.metadata (7.5 kB)\u001b[0m\n",
      "\u001b[34mCollecting botocore<1.34.70,>=1.34.41 (from aiobotocore<3.0.0,>=2.5.4->s3fs)\n",
      "  Downloading botocore-1.34.69-py3-none-any.whl.metadata (5.7 kB)\u001b[0m\n",
      "\u001b[34mCollecting wrapt<2.0.0,>=1.10.10 (from aiobotocore<3.0.0,>=2.5.4->s3fs)\n",
      "  Downloading wrapt-1.16.0-cp38-cp38-manylinux_2_5_x86_64.manylinux1_x86_64.manylinux_2_17_x86_64.manylinux2014_x86_64.whl.metadata (6.6 kB)\u001b[0m\n",
      "\u001b[34mCollecting aioitertools<1.0.0,>=0.5.1 (from aiobotocore<3.0.0,>=2.5.4->s3fs)\n",
      "  Downloading aioitertools-0.11.0-py3-none-any.whl.metadata (3.3 kB)\u001b[0m\n",
      "\u001b[34mCollecting aiosignal>=1.1.2 (from aiohttp!=4.0.0a0,!=4.0.0a1->s3fs)\n",
      "  Downloading aiosignal-1.3.1-py3-none-any.whl.metadata (4.0 kB)\u001b[0m\n",
      "\u001b[34mCollecting attrs>=17.3.0 (from aiohttp!=4.0.0a0,!=4.0.0a1->s3fs)\n",
      "  Downloading attrs-23.2.0-py3-none-any.whl.metadata (9.5 kB)\u001b[0m\n",
      "\u001b[34mCollecting frozenlist>=1.1.1 (from aiohttp!=4.0.0a0,!=4.0.0a1->s3fs)\n",
      "  Downloading frozenlist-1.4.1-cp38-cp38-manylinux_2_5_x86_64.manylinux1_x86_64.manylinux_2_17_x86_64.manylinux2014_x86_64.whl.metadata (12 kB)\u001b[0m\n",
      "\u001b[34mCollecting multidict<7.0,>=4.5 (from aiohttp!=4.0.0a0,!=4.0.0a1->s3fs)\n",
      "  Downloading multidict-6.0.5-cp38-cp38-manylinux_2_17_x86_64.manylinux2014_x86_64.whl.metadata (4.2 kB)\u001b[0m\n",
      "\u001b[34mCollecting yarl<2.0,>=1.0 (from aiohttp!=4.0.0a0,!=4.0.0a1->s3fs)\n",
      "  Downloading yarl-1.9.4-cp38-cp38-manylinux_2_17_x86_64.manylinux2014_x86_64.whl.metadata (31 kB)\u001b[0m\n",
      "\u001b[34mCollecting async-timeout<5.0,>=4.0 (from aiohttp!=4.0.0a0,!=4.0.0a1->s3fs)\n",
      "  Downloading async_timeout-4.0.3-py3-none-any.whl.metadata (4.2 kB)\u001b[0m\n",
      "\u001b[34mCollecting typing_extensions>=4.0 (from aioitertools<1.0.0,>=0.5.1->aiobotocore<3.0.0,>=2.5.4->s3fs)\n",
      "  Downloading typing_extensions-4.11.0-py3-none-any.whl.metadata (3.0 kB)\u001b[0m\n",
      "\u001b[34mRequirement already satisfied: jmespath<2.0.0,>=0.7.1 in /miniconda3/lib/python3.8/site-packages (from botocore<1.34.70,>=1.34.41->aiobotocore<3.0.0,>=2.5.4->s3fs) (1.0.1)\u001b[0m\n",
      "\u001b[34mRequirement already satisfied: python-dateutil<3.0.0,>=2.1 in /miniconda3/lib/python3.8/site-packages (from botocore<1.34.70,>=1.34.41->aiobotocore<3.0.0,>=2.5.4->s3fs) (2.8.1)\u001b[0m\n",
      "\u001b[34mRequirement already satisfied: urllib3<1.27,>=1.25.4 in /miniconda3/lib/python3.8/site-packages (from botocore<1.34.70,>=1.34.41->aiobotocore<3.0.0,>=2.5.4->s3fs) (1.26.18)\u001b[0m\n",
      "\u001b[34mRequirement already satisfied: idna>=2.0 in /miniconda3/lib/python3.8/site-packages (from yarl<2.0,>=1.0->aiohttp!=4.0.0a0,!=4.0.0a1->s3fs) (3.4)\u001b[0m\n",
      "\u001b[34mRequirement already satisfied: six>=1.5 in /miniconda3/lib/python3.8/site-packages (from python-dateutil<3.0.0,>=2.1->botocore<1.34.70,>=1.34.41->aiobotocore<3.0.0,>=2.5.4->s3fs) (1.15.0)\u001b[0m\n",
      "\u001b[34mDownloading s3fs-2024.3.1-py3-none-any.whl (29 kB)\u001b[0m\n",
      "\u001b[34mDownloading aiobotocore-2.12.3-py3-none-any.whl (76 kB)\n",
      "   ━━━━━━━━━━━━━━━━━━━━━━━━━━━━━━━━━━━━━━━━ 76.5/76.5 kB 3.4 MB/s eta 0:00:00\u001b[0m\n",
      "\u001b[34mDownloading aiohttp-3.9.5-cp38-cp38-manylinux_2_17_x86_64.manylinux2014_x86_64.whl (1.3 MB)\n",
      "   ━━━━━━━━━━━━━━━━━━━━━━━━━━━━━━━━━━━━━━━━ 1.3/1.3 MB 24.4 MB/s eta 0:00:00\u001b[0m\n",
      "\u001b[34mDownloading aioitertools-0.11.0-py3-none-any.whl (23 kB)\u001b[0m\n",
      "\u001b[34mDownloading aiosignal-1.3.1-py3-none-any.whl (7.6 kB)\u001b[0m\n",
      "\u001b[34mDownloading async_timeout-4.0.3-py3-none-any.whl (5.7 kB)\u001b[0m\n",
      "\u001b[34mDownloading attrs-23.2.0-py3-none-any.whl (60 kB)\n",
      "   ━━━━━━━━━━━━━━━━━━━━━━━━━━━━━━━━━━━━━━━━ 60.8/60.8 kB 7.0 MB/s eta 0:00:00\u001b[0m\n",
      "\u001b[34mDownloading botocore-1.34.69-py3-none-any.whl (12.0 MB)\n",
      "   ━━━━━━━━━━━━━━━━━━━━━━━━━━━━━━━━━━━━━━━━ 12.0/12.0 MB 89.6 MB/s eta 0:00:00\u001b[0m\n",
      "\u001b[34mDownloading frozenlist-1.4.1-cp38-cp38-manylinux_2_5_x86_64.manylinux1_x86_64.manylinux_2_17_x86_64.manylinux2014_x86_64.whl (240 kB)\n",
      "   ━━━━━━━━━━━━━━━━━━━━━━━━━━━━━━━━━━━━━━━━ 240.9/240.9 kB 26.0 MB/s eta 0:00:00\u001b[0m\n",
      "\u001b[34mDownloading multidict-6.0.5-cp38-cp38-manylinux_2_17_x86_64.manylinux2014_x86_64.whl (129 kB)\n",
      "   ━━━━━━━━━━━━━━━━━━━━━━━━━━━━━━━━━━━━━━━━ 129.3/129.3 kB 17.4 MB/s eta 0:00:00\u001b[0m\n",
      "\u001b[34mDownloading wrapt-1.16.0-cp38-cp38-manylinux_2_5_x86_64.manylinux1_x86_64.manylinux_2_17_x86_64.manylinux2014_x86_64.whl (83 kB)\n",
      "   ━━━━━━━━━━━━━━━━━━━━━━━━━━━━━━━━━━━━━━━━ 83.4/83.4 kB 10.7 MB/s eta 0:00:00\u001b[0m\n",
      "\u001b[34mDownloading yarl-1.9.4-cp38-cp38-manylinux_2_17_x86_64.manylinux2014_x86_64.whl (308 kB)\n",
      "   ━━━━━━━━━━━━━━━━━━━━━━━━━━━━━━━━━━━━━━━━ 308.8/308.8 kB 30.0 MB/s eta 0:00:00\u001b[0m\n",
      "\u001b[34mDownloading typing_extensions-4.11.0-py3-none-any.whl (34 kB)\u001b[0m\n",
      "\u001b[34mInstalling collected packages: wrapt, typing_extensions, multidict, frozenlist, attrs, async-timeout, yarl, botocore, aiosignal, aioitertools, aiohttp, aiobotocore, s3fs\u001b[0m\n",
      "\u001b[34m  Attempting uninstall: botocore\n",
      "    Found existing installation: botocore 1.31.85\n",
      "    Uninstalling botocore-1.31.85:\n",
      "      Successfully uninstalled botocore-1.31.85\u001b[0m\n",
      "\u001b[34mERROR: pip's dependency resolver does not currently take into account all the packages that are installed. This behaviour is the source of the following dependency conflicts.\u001b[0m\n",
      "\u001b[34mboto3 1.28.57 requires botocore<1.32.0,>=1.31.57, but you have botocore 1.34.69 which is incompatible.\u001b[0m\n",
      "\u001b[34msagemaker-sklearn-container 2.0 requires botocore<1.32.0,>=1.31.57, but you have botocore 1.34.69 which is incompatible.\u001b[0m\n",
      "\u001b[34mSuccessfully installed aiobotocore-2.12.3 aiohttp-3.9.5 aioitertools-0.11.0 aiosignal-1.3.1 async-timeout-4.0.3 attrs-23.2.0 botocore-1.34.69 frozenlist-1.4.1 multidict-6.0.5 s3fs-2024.3.1 typing_extensions-4.11.0 wrapt-1.16.0 yarl-1.9.4\u001b[0m\n",
      "\u001b[34mWARNING: Running pip as the 'root' user can result in broken permissions and conflicting behaviour with the system package manager. It is recommended to use a virtual environment instead: https://pip.pypa.io/warnings/venv\u001b[0m\n",
      "\u001b[34m-------------------- dataframe data  ----------------------------\u001b[0m\n",
      "\u001b[34m1. shape :  (10127, 7)\u001b[0m\n",
      "\u001b[34m-------------------- df_customera  ----------------------------\u001b[0m\n",
      "\u001b[34m2. df_customers :     CLIENTNUM  Customer_Age  ... Marital_Status  Income_Category\u001b[0m\n",
      "\u001b[34m0  768805383            45  ...        Married      $60K - $80K\u001b[0m\n",
      "\u001b[34m1  818770008            49  ...         Single   Less than $40K\u001b[0m\n",
      "\u001b[34m2  713982108            51  ...        Married     $80K - $120K\u001b[0m\n",
      "\u001b[34m[3 rows x 7 columns]\u001b[0m\n",
      "\u001b[34m-------------------- train dataframe  ----------------------------\u001b[0m\n",
      "\u001b[34m3. train_data :        Customer_Age  ...  Income_Category_Quality\u001b[0m\n",
      "\u001b[34m0                45  ...                        3\u001b[0m\n",
      "\u001b[34m1                49  ...                        1\u001b[0m\n",
      "\u001b[34m2                51  ...                        4\u001b[0m\n",
      "\u001b[34m3                40  ...                        1\u001b[0m\n",
      "\u001b[34m4                40  ...                        3\u001b[0m\n",
      "\u001b[34m...             ...  ...                      ...\u001b[0m\n",
      "\u001b[34m10122            50  ...                        2\u001b[0m\n",
      "\u001b[34m10123            41  ...                        2\u001b[0m\n",
      "\u001b[34m10124            44  ...                        1\u001b[0m\n",
      "\u001b[34m10125            30  ...                        2\u001b[0m\n",
      "\u001b[34m10126            43  ...                        1\u001b[0m\n",
      "\u001b[34m[10127 rows x 4 columns]\u001b[0m\n",
      "\u001b[34m-------------------- converting to float ----------------------------\u001b[0m\n",
      "\u001b[34m4. train_data.float32 :        Customer_Age  ...  Income_Category_Quality\u001b[0m\n",
      "\u001b[34m0              45.0  ...                      3.0\u001b[0m\n",
      "\u001b[34m1              49.0  ...                      1.0\u001b[0m\n",
      "\u001b[34m2              51.0  ...                      4.0\u001b[0m\n",
      "\u001b[34m3              40.0  ...                      1.0\u001b[0m\n",
      "\u001b[34m4              40.0  ...                      3.0\u001b[0m\n",
      "\u001b[34m...             ...  ...                      ...\u001b[0m\n",
      "\u001b[34m10122          50.0  ...                      2.0\u001b[0m\n",
      "\u001b[34m10123          41.0  ...                      2.0\u001b[0m\n",
      "\u001b[34m10124          44.0  ...                      1.0\u001b[0m\n",
      "\u001b[34m10125          30.0  ...                      2.0\u001b[0m\n",
      "\u001b[34m10126          43.0  ...                      1.0\u001b[0m\n",
      "\u001b[34m[10127 rows x 4 columns]\u001b[0m\n",
      "\u001b[34m## Processing completed. Exiting.\u001b[0m\n",
      "\n"
     ]
    }
   ],
   "source": [
    "processor_args = sklearn_processor.run(\n",
    "    inputs=[\n",
    "        ProcessingInput(source=input_source,\n",
    "                        destination=\"/opt/ml/processing/input\"),\n",
    "        ProcessingInput(source=data_location,\n",
    "                        destination=\"/opt/ml/processing/input/req/\")\n",
    "    ],\n",
    "    outputs=[\n",
    "        ProcessingOutput(output_name=\"train\",\n",
    "                         source=\"/opt/ml/processing/train\",\n",
    "                         destination=f\"s3://{bucket_name}/{prefix_name}/output/train\"),\n",
    "    ],\n",
    "    code=f\"feature-scaled-no-scaled.py\",\n",
    ")"
   ]
  },
  {
   "cell_type": "code",
   "execution_count": null,
   "id": "7470042b-8511-4adf-94e3-a1bd244608ef",
   "metadata": {},
   "outputs": [],
   "source": []
  },
  {
   "cell_type": "code",
   "execution_count": null,
   "id": "48ef5ac8-1c4f-4573-a6d3-299f7631eb87",
   "metadata": {},
   "outputs": [],
   "source": []
  },
  {
   "cell_type": "code",
   "execution_count": null,
   "id": "1f2ca693-77cf-4028-a41e-c83151e42d2d",
   "metadata": {},
   "outputs": [],
   "source": []
  }
 ],
 "metadata": {
  "kernelspec": {
   "display_name": "Python 3 (ipykernel)",
   "language": "python",
   "name": "python3"
  },
  "language_info": {
   "codemirror_mode": {
    "name": "ipython",
    "version": 3
   },
   "file_extension": ".py",
   "mimetype": "text/x-python",
   "name": "python",
   "nbconvert_exporter": "python",
   "pygments_lexer": "ipython3",
   "version": "3.10.13"
  }
 },
 "nbformat": 4,
 "nbformat_minor": 5
}
