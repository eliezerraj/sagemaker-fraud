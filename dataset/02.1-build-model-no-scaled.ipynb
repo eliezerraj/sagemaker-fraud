{
 "cells": [
  {
   "cell_type": "markdown",
   "id": "6b0f33af-851a-46f3-a893-9f97042f0b7a",
   "metadata": {},
   "source": [
    "# Load Libraries"
   ]
  },
  {
   "cell_type": "code",
   "execution_count": 1,
   "id": "c2860dfd-5c86-43c4-b191-e7ac3dfe7070",
   "metadata": {},
   "outputs": [
    {
     "name": "stdout",
     "output_type": "stream",
     "text": [
      "sagemaker.config INFO - Not applying SDK defaults from location: /etc/xdg/sagemaker/config.yaml\n",
      "sagemaker.config INFO - Not applying SDK defaults from location: /home/sagemaker-user/.config/sagemaker/config.yaml\n"
     ]
    }
   ],
   "source": [
    "# pip3 install s3fs\n",
    "from sagemaker import Session\n",
    "import sagemaker\n",
    "import boto3\n",
    "import re\n",
    "from sagemaker import get_execution_role\n",
    "import numpy as np\n",
    "import pandas as pd\n",
    "import os"
   ]
  },
  {
   "cell_type": "code",
   "execution_count": 2,
   "id": "48268df7-2cfe-4189-b3de-f66f5326c8af",
   "metadata": {},
   "outputs": [
    {
     "name": "stdout",
     "output_type": "stream",
     "text": [
      "sagemaker.config INFO - Not applying SDK defaults from location: /etc/xdg/sagemaker/config.yaml\n",
      "sagemaker.config INFO - Not applying SDK defaults from location: /home/sagemaker-user/.config/sagemaker/config.yaml\n",
      "---------------------------------\n",
      "bucket_name 'eliezerraj-908671954593-dataset':\n",
      "prefix_name 'customer/notebook/output':\n",
      "data_location 's3://eliezerraj-908671954593-dataset/customer/notebook/output/train':\n",
      "output_path 's3://eliezerraj-908671954593-dataset/customer/notebook/output':\n"
     ]
    }
   ],
   "source": [
    "role = get_execution_role()\n",
    "\n",
    "bucket_name = 'eliezerraj-908671954593-dataset'\n",
    "prefix_name = 'customer/notebook/output'\n",
    "output_path = f's3://{bucket_name}/{prefix_name}'\n",
    "data_location = f\"s3://{bucket_name}/{prefix_name}/train\"\n",
    "\n",
    "train_data_file = f's3://{bucket_name}/{prefix_name}/train/train_data.csv'\n",
    "\n",
    "print(\"---------------------------------\")\n",
    "print(f\"bucket_name '{bucket_name}':\")\n",
    "print(f\"prefix_name '{prefix_name}':\")\n",
    "print(f\"data_location '{data_location}':\")\n",
    "print(f\"output_path '{output_path}':\")"
   ]
  },
  {
   "cell_type": "code",
   "execution_count": 3,
   "id": "64004664-949d-4f18-9b31-a50a234895d1",
   "metadata": {
    "scrolled": true
   },
   "outputs": [
    {
     "data": {
      "text/html": [
       "<div>\n",
       "<style scoped>\n",
       "    .dataframe tbody tr th:only-of-type {\n",
       "        vertical-align: middle;\n",
       "    }\n",
       "\n",
       "    .dataframe tbody tr th {\n",
       "        vertical-align: top;\n",
       "    }\n",
       "\n",
       "    .dataframe thead th {\n",
       "        text-align: right;\n",
       "    }\n",
       "</style>\n",
       "<table border=\"1\" class=\"dataframe\">\n",
       "  <thead>\n",
       "    <tr style=\"text-align: right;\">\n",
       "      <th></th>\n",
       "      <th>0</th>\n",
       "      <th>1</th>\n",
       "      <th>2</th>\n",
       "      <th>3</th>\n",
       "    </tr>\n",
       "  </thead>\n",
       "  <tbody>\n",
       "    <tr>\n",
       "      <th>0</th>\n",
       "      <td>45.0</td>\n",
       "      <td>3.0</td>\n",
       "      <td>1.0</td>\n",
       "      <td>3.0</td>\n",
       "    </tr>\n",
       "    <tr>\n",
       "      <th>1</th>\n",
       "      <td>49.0</td>\n",
       "      <td>5.0</td>\n",
       "      <td>3.0</td>\n",
       "      <td>1.0</td>\n",
       "    </tr>\n",
       "    <tr>\n",
       "      <th>2</th>\n",
       "      <td>51.0</td>\n",
       "      <td>3.0</td>\n",
       "      <td>3.0</td>\n",
       "      <td>4.0</td>\n",
       "    </tr>\n",
       "    <tr>\n",
       "      <th>3</th>\n",
       "      <td>40.0</td>\n",
       "      <td>4.0</td>\n",
       "      <td>1.0</td>\n",
       "      <td>1.0</td>\n",
       "    </tr>\n",
       "    <tr>\n",
       "      <th>4</th>\n",
       "      <td>40.0</td>\n",
       "      <td>3.0</td>\n",
       "      <td>0.0</td>\n",
       "      <td>3.0</td>\n",
       "    </tr>\n",
       "    <tr>\n",
       "      <th>...</th>\n",
       "      <td>...</td>\n",
       "      <td>...</td>\n",
       "      <td>...</td>\n",
       "      <td>...</td>\n",
       "    </tr>\n",
       "    <tr>\n",
       "      <th>10122</th>\n",
       "      <td>50.0</td>\n",
       "      <td>2.0</td>\n",
       "      <td>3.0</td>\n",
       "      <td>2.0</td>\n",
       "    </tr>\n",
       "    <tr>\n",
       "      <th>10123</th>\n",
       "      <td>41.0</td>\n",
       "      <td>2.0</td>\n",
       "      <td>0.0</td>\n",
       "      <td>2.0</td>\n",
       "    </tr>\n",
       "    <tr>\n",
       "      <th>10124</th>\n",
       "      <td>44.0</td>\n",
       "      <td>1.0</td>\n",
       "      <td>1.0</td>\n",
       "      <td>1.0</td>\n",
       "    </tr>\n",
       "    <tr>\n",
       "      <th>10125</th>\n",
       "      <td>30.0</td>\n",
       "      <td>2.0</td>\n",
       "      <td>3.0</td>\n",
       "      <td>2.0</td>\n",
       "    </tr>\n",
       "    <tr>\n",
       "      <th>10126</th>\n",
       "      <td>43.0</td>\n",
       "      <td>2.0</td>\n",
       "      <td>3.0</td>\n",
       "      <td>1.0</td>\n",
       "    </tr>\n",
       "  </tbody>\n",
       "</table>\n",
       "<p>10127 rows × 4 columns</p>\n",
       "</div>"
      ],
      "text/plain": [
       "          0    1    2    3\n",
       "0      45.0  3.0  1.0  3.0\n",
       "1      49.0  5.0  3.0  1.0\n",
       "2      51.0  3.0  3.0  4.0\n",
       "3      40.0  4.0  1.0  1.0\n",
       "4      40.0  3.0  0.0  3.0\n",
       "...     ...  ...  ...  ...\n",
       "10122  50.0  2.0  3.0  2.0\n",
       "10123  41.0  2.0  0.0  2.0\n",
       "10124  44.0  1.0  1.0  1.0\n",
       "10125  30.0  2.0  3.0  2.0\n",
       "10126  43.0  2.0  3.0  1.0\n",
       "\n",
       "[10127 rows x 4 columns]"
      ]
     },
     "execution_count": 3,
     "metadata": {},
     "output_type": "execute_result"
    }
   ],
   "source": [
    "#from sklearn.preprocessing import StandardScaler\n",
    "#scaler = StandardScaler()\n",
    "\n",
    "#df_data = pd.read_csv(train_data_file, skiprows = 1, header=None)\n",
    "#df_data_scaled = scaler.fit_transform(df_data).astype('float32')\n",
    "#df_data_scaled\n",
    "\n",
    "# Id the dataset is already scaled\n",
    "df_data = pd.read_csv(train_data_file, header=None)\n",
    "df_data"
   ]
  },
  {
   "cell_type": "code",
   "execution_count": 4,
   "id": "1747b2ca-3cf2-4f5e-b053-aeca86e6ac4e",
   "metadata": {},
   "outputs": [
    {
     "data": {
      "text/plain": [
       "array([[45.,  3.,  1.,  3.],\n",
       "       [49.,  5.,  3.,  1.],\n",
       "       [51.,  3.,  3.,  4.],\n",
       "       ...,\n",
       "       [44.,  1.,  1.,  1.],\n",
       "       [30.,  2.,  3.,  2.],\n",
       "       [43.,  2.,  3.,  1.]], dtype=float32)"
      ]
     },
     "execution_count": 4,
     "metadata": {},
     "output_type": "execute_result"
    }
   ],
   "source": [
    "df_data_k = df_data.astype('float32').to_numpy()\n",
    "df_data_k"
   ]
  },
  {
   "cell_type": "markdown",
   "id": "b542b90d-02ab-4c59-9736-dbb2d00102d7",
   "metadata": {},
   "source": [
    "# Build Model"
   ]
  },
  {
   "cell_type": "code",
   "execution_count": 5,
   "id": "af697393-889f-46ce-8b7c-23534c2486f1",
   "metadata": {},
   "outputs": [
    {
     "name": "stdout",
     "output_type": "stream",
     "text": [
      "sagemaker.config INFO - Not applying SDK defaults from location: /etc/xdg/sagemaker/config.yaml\n",
      "sagemaker.config INFO - Not applying SDK defaults from location: /home/sagemaker-user/.config/sagemaker/config.yaml\n"
     ]
    }
   ],
   "source": [
    "from sagemaker import KMeans\n",
    "\n",
    "kmeans = KMeans(role=role,\n",
    "                instance_count=1,\n",
    "                instance_type='ml.m4.xlarge',\n",
    "                data_location=data_location,\n",
    "                output_path=output_path,\n",
    "                init_method='kmeans++',\n",
    "                k=5,\n",
    "                epochs=5)"
   ]
  },
  {
   "cell_type": "code",
   "execution_count": 6,
   "id": "8d5361ca-a315-4eac-b8e6-3735e608e03b",
   "metadata": {},
   "outputs": [
    {
     "name": "stderr",
     "output_type": "stream",
     "text": [
      "INFO:sagemaker.image_uris:Same images used for training and inference. Defaulting to image scope: inference.\n",
      "INFO:sagemaker.image_uris:Ignoring unnecessary instance type: None.\n",
      "INFO:sagemaker:Creating training-job with name: kmeans-2024-04-29-00-04-39-283\n"
     ]
    },
    {
     "name": "stdout",
     "output_type": "stream",
     "text": [
      "2024-04-29 00:04:39 Starting - Starting the training job...\n",
      "2024-04-29 00:04:53 Starting - Preparing the instances for training...\n",
      "2024-04-29 00:05:27 Downloading - Downloading input data...\n",
      "2024-04-29 00:05:57 Downloading - Downloading the training image.........\n",
      "2024-04-29 00:07:37 Training - Training image download completed. Training in progress.\n",
      "2024-04-29 00:07:37 Uploading - Uploading generated training model\u001b[34mDocker entrypoint called with argument(s): train\u001b[0m\n",
      "\u001b[34mRunning default environment configuration script\u001b[0m\n",
      "\u001b[34m[04/29/2024 00:07:32 INFO 140116863772480] Reading default configuration from /opt/amazon/lib/python3.8/site-packages/algorithm/resources/default-input.json: {'init_method': 'random', 'mini_batch_size': '5000', 'epochs': '1', 'extra_center_factor': 'auto', 'local_lloyd_max_iter': '300', 'local_lloyd_tol': '0.0001', 'local_lloyd_init_method': 'kmeans++', 'local_lloyd_num_trials': 'auto', 'half_life_time_size': '0', 'eval_metrics': '[\"msd\"]', 'force_dense': 'true', '_disable_wait_to_read': 'false', '_enable_profiler': 'false', '_kvstore': 'auto', '_log_level': 'info', '_num_gpus': 'auto', '_num_kv_servers': '1', '_num_slices': '1', '_tuning_objective_metric': ''}\u001b[0m\n",
      "\u001b[34m[04/29/2024 00:07:32 INFO 140116863772480] Merging with provided configuration from /opt/ml/input/config/hyperparameters.json: {'epochs': '5', 'feature_dim': '4', 'force_dense': 'True', 'init_method': 'kmeans++', 'k': '5'}\u001b[0m\n",
      "\u001b[34m[04/29/2024 00:07:32 INFO 140116863772480] Final configuration: {'init_method': 'kmeans++', 'mini_batch_size': '5000', 'epochs': '5', 'extra_center_factor': 'auto', 'local_lloyd_max_iter': '300', 'local_lloyd_tol': '0.0001', 'local_lloyd_init_method': 'kmeans++', 'local_lloyd_num_trials': 'auto', 'half_life_time_size': '0', 'eval_metrics': '[\"msd\"]', 'force_dense': 'True', '_disable_wait_to_read': 'false', '_enable_profiler': 'false', '_kvstore': 'auto', '_log_level': 'info', '_num_gpus': 'auto', '_num_kv_servers': '1', '_num_slices': '1', '_tuning_objective_metric': '', 'feature_dim': '4', 'k': '5'}\u001b[0m\n",
      "\u001b[34m/opt/amazon/lib/python3.8/site-packages/mxnet/model.py:97: SyntaxWarning: \"is\" with a literal. Did you mean \"==\"?\n",
      "  if num_device is 1 and 'dist' not in kvstore:\u001b[0m\n",
      "\u001b[34m[04/29/2024 00:07:35 WARNING 140116863772480] Loggers have already been setup.\u001b[0m\n",
      "\u001b[34m[04/29/2024 00:07:35 INFO 140116863772480] Final configuration: {'init_method': 'kmeans++', 'mini_batch_size': '5000', 'epochs': '5', 'extra_center_factor': 'auto', 'local_lloyd_max_iter': '300', 'local_lloyd_tol': '0.0001', 'local_lloyd_init_method': 'kmeans++', 'local_lloyd_num_trials': 'auto', 'half_life_time_size': '0', 'eval_metrics': '[\"msd\"]', 'force_dense': 'True', '_disable_wait_to_read': 'false', '_enable_profiler': 'false', '_kvstore': 'auto', '_log_level': 'info', '_num_gpus': 'auto', '_num_kv_servers': '1', '_num_slices': '1', '_tuning_objective_metric': '', 'feature_dim': '4', 'k': '5'}\u001b[0m\n",
      "\u001b[34m[04/29/2024 00:07:35 WARNING 140116863772480] Loggers have already been setup.\u001b[0m\n",
      "\u001b[34mProcess 8 is a worker.\u001b[0m\n",
      "\u001b[34m[04/29/2024 00:07:35 INFO 140116863772480] Using default worker.\u001b[0m\n",
      "\u001b[34m[04/29/2024 00:07:35 INFO 140116863772480] Loaded iterator creator application/x-recordio-protobuf for content type ('application/x-recordio-protobuf', '1.0')\u001b[0m\n",
      "\u001b[34m[04/29/2024 00:07:35 INFO 140116863772480] Create Store: local\u001b[0m\n",
      "\u001b[34m/opt/amazon/python3.8/lib/python3.8/subprocess.py:848: RuntimeWarning: line buffering (buffering=1) isn't supported in binary mode, the default buffer size will be used\n",
      "  self.stdout = io.open(c2pread, 'rb', bufsize)\u001b[0m\n",
      "\u001b[34m[04/29/2024 00:07:35 INFO 140116863772480] nvidia-smi: took 0.032 seconds to run.\u001b[0m\n",
      "\u001b[34m[04/29/2024 00:07:35 INFO 140116863772480] nvidia-smi identified 0 GPUs.\u001b[0m\n",
      "\u001b[34m[04/29/2024 00:07:35 INFO 140116863772480] Number of GPUs being used: 0\u001b[0m\n",
      "\u001b[34m[04/29/2024 00:07:35 INFO 140116863772480] Checkpoint loading and saving are disabled.\u001b[0m\n",
      "\u001b[34m[04/29/2024 00:07:35 INFO 140116863772480] Setting up with params: {'init_method': 'kmeans++', 'mini_batch_size': '5000', 'epochs': '5', 'extra_center_factor': 'auto', 'local_lloyd_max_iter': '300', 'local_lloyd_tol': '0.0001', 'local_lloyd_init_method': 'kmeans++', 'local_lloyd_num_trials': 'auto', 'half_life_time_size': '0', 'eval_metrics': '[\"msd\"]', 'force_dense': 'True', '_disable_wait_to_read': 'false', '_enable_profiler': 'false', '_kvstore': 'auto', '_log_level': 'info', '_num_gpus': 'auto', '_num_kv_servers': '1', '_num_slices': '1', '_tuning_objective_metric': '', 'feature_dim': '4', 'k': '5'}\u001b[0m\n",
      "\u001b[34m[04/29/2024 00:07:35 INFO 140116863772480] 'extra_center_factor' was set to 'auto', evaluated to 10.\u001b[0m\n",
      "\u001b[34m[04/29/2024 00:07:35 INFO 140116863772480] Number of GPUs being used: 0\u001b[0m\n",
      "\u001b[34m[04/29/2024 00:07:35 INFO 140116863772480] number of center slices 1\u001b[0m\n",
      "\u001b[34m#metrics {\"StartTime\": 1714349255.087769, \"EndTime\": 1714349255.0878034, \"Dimensions\": {\"Algorithm\": \"AWS/KMeansWebscale\", \"Host\": \"algo-1\", \"Operation\": \"training\", \"Meta\": \"init_train_data_iter\"}, \"Metrics\": {\"Total Records Seen\": {\"sum\": 5000.0, \"count\": 1, \"min\": 5000, \"max\": 5000}, \"Total Batches Seen\": {\"sum\": 1.0, \"count\": 1, \"min\": 1, \"max\": 1}, \"Max Records Seen Between Resets\": {\"sum\": 5000.0, \"count\": 1, \"min\": 5000, \"max\": 5000}, \"Max Batches Seen Between Resets\": {\"sum\": 1.0, \"count\": 1, \"min\": 1, \"max\": 1}, \"Reset Count\": {\"sum\": 0.0, \"count\": 1, \"min\": 0, \"max\": 0}, \"Number of Records Since Last Reset\": {\"sum\": 5000.0, \"count\": 1, \"min\": 5000, \"max\": 5000}, \"Number of Batches Since Last Reset\": {\"sum\": 1.0, \"count\": 1, \"min\": 1, \"max\": 1}}}\u001b[0m\n",
      "\u001b[34m[2024-04-29 00:07:35.088] [tensorio] [info] epoch_stats={\"data_pipeline\": \"/opt/ml/input/data/train\", \"epoch\": 0, \"duration\": 30, \"num_examples\": 1, \"num_bytes\": 200000}\u001b[0m\n",
      "\u001b[34m[2024-04-29 00:07:35.119] [tensorio] [info] epoch_stats={\"data_pipeline\": \"/opt/ml/input/data/train\", \"epoch\": 1, \"duration\": 30, \"num_examples\": 3, \"num_bytes\": 405080}\u001b[0m\n",
      "\u001b[34m[04/29/2024 00:07:35 INFO 140116863772480] processed a total of 10127 examples\u001b[0m\n",
      "\u001b[34m[04/29/2024 00:07:35 INFO 140116863772480] #progress_metric: host=algo-1, completed 20.0 % of epochs\u001b[0m\n",
      "\u001b[34m#metrics {\"StartTime\": 1714349255.0882103, \"EndTime\": 1714349255.1197321, \"Dimensions\": {\"Algorithm\": \"AWS/KMeansWebscale\", \"Host\": \"algo-1\", \"Operation\": \"training\", \"epoch\": 0, \"Meta\": \"training_data_iter\"}, \"Metrics\": {\"Total Records Seen\": {\"sum\": 15127.0, \"count\": 1, \"min\": 15127, \"max\": 15127}, \"Total Batches Seen\": {\"sum\": 4.0, \"count\": 1, \"min\": 4, \"max\": 4}, \"Max Records Seen Between Resets\": {\"sum\": 10127.0, \"count\": 1, \"min\": 10127, \"max\": 10127}, \"Max Batches Seen Between Resets\": {\"sum\": 3.0, \"count\": 1, \"min\": 3, \"max\": 3}, \"Reset Count\": {\"sum\": 1.0, \"count\": 1, \"min\": 1, \"max\": 1}, \"Number of Records Since Last Reset\": {\"sum\": 10127.0, \"count\": 1, \"min\": 10127, \"max\": 10127}, \"Number of Batches Since Last Reset\": {\"sum\": 3.0, \"count\": 1, \"min\": 3, \"max\": 3}}}\u001b[0m\n",
      "\u001b[34m[04/29/2024 00:07:35 INFO 140116863772480] #throughput_metric: host=algo-1, train throughput=318901.12623691757 records/second\u001b[0m\n",
      "\u001b[34m[2024-04-29 00:07:35.149] [tensorio] [info] epoch_stats={\"data_pipeline\": \"/opt/ml/input/data/train\", \"epoch\": 3, \"duration\": 29, \"num_examples\": 3, \"num_bytes\": 405080}\u001b[0m\n",
      "\u001b[34m[04/29/2024 00:07:35 INFO 140116863772480] processed a total of 10127 examples\u001b[0m\n",
      "\u001b[34m[04/29/2024 00:07:35 INFO 140116863772480] #progress_metric: host=algo-1, completed 40.0 % of epochs\u001b[0m\n",
      "\u001b[34m#metrics {\"StartTime\": 1714349255.1201284, \"EndTime\": 1714349255.1500194, \"Dimensions\": {\"Algorithm\": \"AWS/KMeansWebscale\", \"Host\": \"algo-1\", \"Operation\": \"training\", \"epoch\": 1, \"Meta\": \"training_data_iter\"}, \"Metrics\": {\"Total Records Seen\": {\"sum\": 25254.0, \"count\": 1, \"min\": 25254, \"max\": 25254}, \"Total Batches Seen\": {\"sum\": 7.0, \"count\": 1, \"min\": 7, \"max\": 7}, \"Max Records Seen Between Resets\": {\"sum\": 10127.0, \"count\": 1, \"min\": 10127, \"max\": 10127}, \"Max Batches Seen Between Resets\": {\"sum\": 3.0, \"count\": 1, \"min\": 3, \"max\": 3}, \"Reset Count\": {\"sum\": 2.0, \"count\": 1, \"min\": 2, \"max\": 2}, \"Number of Records Since Last Reset\": {\"sum\": 10127.0, \"count\": 1, \"min\": 10127, \"max\": 10127}, \"Number of Batches Since Last Reset\": {\"sum\": 3.0, \"count\": 1, \"min\": 3, \"max\": 3}}}\u001b[0m\n",
      "\u001b[34m[04/29/2024 00:07:35 INFO 140116863772480] #throughput_metric: host=algo-1, train throughput=336921.6832553343 records/second\u001b[0m\n",
      "\u001b[34m[2024-04-29 00:07:35.176] [tensorio] [info] epoch_stats={\"data_pipeline\": \"/opt/ml/input/data/train\", \"epoch\": 5, \"duration\": 25, \"num_examples\": 3, \"num_bytes\": 405080}\u001b[0m\n",
      "\u001b[34m[04/29/2024 00:07:35 INFO 140116863772480] processed a total of 10127 examples\u001b[0m\n",
      "\u001b[34m[04/29/2024 00:07:35 INFO 140116863772480] #progress_metric: host=algo-1, completed 60.0 % of epochs\u001b[0m\n",
      "\u001b[34m#metrics {\"StartTime\": 1714349255.1504376, \"EndTime\": 1714349255.177172, \"Dimensions\": {\"Algorithm\": \"AWS/KMeansWebscale\", \"Host\": \"algo-1\", \"Operation\": \"training\", \"epoch\": 2, \"Meta\": \"training_data_iter\"}, \"Metrics\": {\"Total Records Seen\": {\"sum\": 35381.0, \"count\": 1, \"min\": 35381, \"max\": 35381}, \"Total Batches Seen\": {\"sum\": 10.0, \"count\": 1, \"min\": 10, \"max\": 10}, \"Max Records Seen Between Resets\": {\"sum\": 10127.0, \"count\": 1, \"min\": 10127, \"max\": 10127}, \"Max Batches Seen Between Resets\": {\"sum\": 3.0, \"count\": 1, \"min\": 3, \"max\": 3}, \"Reset Count\": {\"sum\": 3.0, \"count\": 1, \"min\": 3, \"max\": 3}, \"Number of Records Since Last Reset\": {\"sum\": 10127.0, \"count\": 1, \"min\": 10127, \"max\": 10127}, \"Number of Batches Since Last Reset\": {\"sum\": 3.0, \"count\": 1, \"min\": 3, \"max\": 3}}}\u001b[0m\n",
      "\u001b[34m[04/29/2024 00:07:35 INFO 140116863772480] #throughput_metric: host=algo-1, train throughput=375924.5650765555 records/second\u001b[0m\n",
      "\u001b[34m[2024-04-29 00:07:35.208] [tensorio] [info] epoch_stats={\"data_pipeline\": \"/opt/ml/input/data/train\", \"epoch\": 7, \"duration\": 30, \"num_examples\": 3, \"num_bytes\": 405080}\u001b[0m\n",
      "\u001b[34m[04/29/2024 00:07:35 INFO 140116863772480] processed a total of 10127 examples\u001b[0m\n",
      "\u001b[34m[04/29/2024 00:07:35 INFO 140116863772480] #progress_metric: host=algo-1, completed 80.0 % of epochs\u001b[0m\n",
      "\u001b[34m#metrics {\"StartTime\": 1714349255.177549, \"EndTime\": 1714349255.2090387, \"Dimensions\": {\"Algorithm\": \"AWS/KMeansWebscale\", \"Host\": \"algo-1\", \"Operation\": \"training\", \"epoch\": 3, \"Meta\": \"training_data_iter\"}, \"Metrics\": {\"Total Records Seen\": {\"sum\": 45508.0, \"count\": 1, \"min\": 45508, \"max\": 45508}, \"Total Batches Seen\": {\"sum\": 13.0, \"count\": 1, \"min\": 13, \"max\": 13}, \"Max Records Seen Between Resets\": {\"sum\": 10127.0, \"count\": 1, \"min\": 10127, \"max\": 10127}, \"Max Batches Seen Between Resets\": {\"sum\": 3.0, \"count\": 1, \"min\": 3, \"max\": 3}, \"Reset Count\": {\"sum\": 4.0, \"count\": 1, \"min\": 4, \"max\": 4}, \"Number of Records Since Last Reset\": {\"sum\": 10127.0, \"count\": 1, \"min\": 10127, \"max\": 10127}, \"Number of Batches Since Last Reset\": {\"sum\": 3.0, \"count\": 1, \"min\": 3, \"max\": 3}}}\u001b[0m\n",
      "\u001b[34m[04/29/2024 00:07:35 INFO 140116863772480] #throughput_metric: host=algo-1, train throughput=319897.849870838 records/second\u001b[0m\n",
      "\u001b[34m[2024-04-29 00:07:35.238] [tensorio] [info] epoch_stats={\"data_pipeline\": \"/opt/ml/input/data/train\", \"epoch\": 9, \"duration\": 28, \"num_examples\": 3, \"num_bytes\": 405080}\u001b[0m\n",
      "\u001b[34m[04/29/2024 00:07:35 INFO 140116863772480] processed a total of 10127 examples\u001b[0m\n",
      "\u001b[34m[04/29/2024 00:07:35 INFO 140116863772480] #progress_metric: host=algo-1, completed 100.0 % of epochs\u001b[0m\n",
      "\u001b[34m#metrics {\"StartTime\": 1714349255.2093909, \"EndTime\": 1714349255.238973, \"Dimensions\": {\"Algorithm\": \"AWS/KMeansWebscale\", \"Host\": \"algo-1\", \"Operation\": \"training\", \"epoch\": 4, \"Meta\": \"training_data_iter\"}, \"Metrics\": {\"Total Records Seen\": {\"sum\": 55635.0, \"count\": 1, \"min\": 55635, \"max\": 55635}, \"Total Batches Seen\": {\"sum\": 16.0, \"count\": 1, \"min\": 16, \"max\": 16}, \"Max Records Seen Between Resets\": {\"sum\": 10127.0, \"count\": 1, \"min\": 10127, \"max\": 10127}, \"Max Batches Seen Between Resets\": {\"sum\": 3.0, \"count\": 1, \"min\": 3, \"max\": 3}, \"Reset Count\": {\"sum\": 5.0, \"count\": 1, \"min\": 5, \"max\": 5}, \"Number of Records Since Last Reset\": {\"sum\": 10127.0, \"count\": 1, \"min\": 10127, \"max\": 10127}, \"Number of Batches Since Last Reset\": {\"sum\": 3.0, \"count\": 1, \"min\": 3, \"max\": 3}}}\u001b[0m\n",
      "\u001b[34m[04/29/2024 00:07:35 INFO 140116863772480] #throughput_metric: host=algo-1, train throughput=340467.6018820587 records/second\u001b[0m\n",
      "\u001b[34m[04/29/2024 00:07:35 WARNING 140116863772480] wait_for_all_workers will not sync workers since the kv store is not running distributed\u001b[0m\n",
      "\u001b[34m[04/29/2024 00:07:35 INFO 140116863772480] shrinking 50 centers into 5\u001b[0m\n",
      "\u001b[34m[04/29/2024 00:07:35 INFO 140116863772480] local kmeans attempt #0. Current mean square distance 0.000000\u001b[0m\n",
      "\u001b[34m[04/29/2024 00:07:35 INFO 140116863772480] local kmeans attempt #1. Current mean square distance 0.000000\u001b[0m\n",
      "\u001b[34m[04/29/2024 00:07:35 INFO 140116863772480] local kmeans attempt #2. Current mean square distance 0.000000\u001b[0m\n",
      "\u001b[34m[04/29/2024 00:07:35 INFO 140116863772480] local kmeans attempt #3. Current mean square distance 0.000000\u001b[0m\n",
      "\u001b[34m[04/29/2024 00:07:35 INFO 140116863772480] local kmeans attempt #4. Current mean square distance 0.000000\u001b[0m\n",
      "\u001b[34m[04/29/2024 00:07:35 INFO 140116863772480] local kmeans attempt #5. Current mean square distance 0.000000\u001b[0m\n",
      "\u001b[34m[04/29/2024 00:07:35 INFO 140116863772480] local kmeans attempt #6. Current mean square distance 0.000000\u001b[0m\n",
      "\u001b[34m[04/29/2024 00:07:35 INFO 140116863772480] local kmeans attempt #7. Current mean square distance 0.000000\u001b[0m\n",
      "\u001b[34m[04/29/2024 00:07:35 INFO 140116863772480] local kmeans attempt #8. Current mean square distance 0.000000\u001b[0m\n",
      "\u001b[34m[04/29/2024 00:07:35 INFO 140116863772480] local kmeans attempt #9. Current mean square distance 0.000000\u001b[0m\n",
      "\u001b[34m[04/29/2024 00:07:35 INFO 140116863772480] finished shrinking process. Mean Square Distance = 0\u001b[0m\n",
      "\u001b[34m[04/29/2024 00:07:35 INFO 140116863772480] #quality_metric: host=algo-1, train msd <loss>=0.0\u001b[0m\n",
      "\u001b[34m[04/29/2024 00:07:35 INFO 140116863772480] predict compute msd took: 25.8261%, (0.037362 secs)\u001b[0m\n",
      "\u001b[34m[04/29/2024 00:07:35 INFO 140116863772480] batch data loading with context took: 21.4481%, (0.031029 secs)\u001b[0m\n",
      "\u001b[34m[04/29/2024 00:07:35 INFO 140116863772480] compute all data-center distances: inner product took: 16.0604%, (0.023234 secs)\u001b[0m\n",
      "\u001b[34m[04/29/2024 00:07:35 INFO 140116863772480] gradient: cluster size  took: 15.5668%, (0.022520 secs)\u001b[0m\n",
      "\u001b[34m[04/29/2024 00:07:35 INFO 140116863772480] gradient: cluster center took: 6.4357%, (0.009310 secs)\u001b[0m\n",
      "\u001b[34m[04/29/2024 00:07:35 INFO 140116863772480] update state and report convergance took: 4.0444%, (0.005851 secs)\u001b[0m\n",
      "\u001b[34m[04/29/2024 00:07:35 INFO 140116863772480] compute all data-center distances: point norm took: 2.9531%, (0.004272 secs)\u001b[0m\n",
      "\u001b[34m[04/29/2024 00:07:35 INFO 140116863772480] collect from kv store took: 2.3920%, (0.003460 secs)\u001b[0m\n",
      "\u001b[34m[04/29/2024 00:07:35 INFO 140116863772480] gradient: one_hot took: 1.8748%, (0.002712 secs)\u001b[0m\n",
      "\u001b[34m[04/29/2024 00:07:35 INFO 140116863772480] compute all data-center distances: center norm took: 1.3395%, (0.001938 secs)\u001b[0m\n",
      "\u001b[34m[04/29/2024 00:07:35 INFO 140116863772480] splitting centers key-value pair took: 1.1755%, (0.001701 secs)\u001b[0m\n",
      "\u001b[34m[04/29/2024 00:07:35 INFO 140116863772480] update set-up time took: 0.6482%, (0.000938 secs)\u001b[0m\n",
      "\u001b[34m[04/29/2024 00:07:35 INFO 140116863772480] predict minus dist took: 0.2353%, (0.000340 secs)\u001b[0m\n",
      "\u001b[34m[04/29/2024 00:07:35 INFO 140116863772480] TOTAL took: 0.1446688175201416\u001b[0m\n",
      "\u001b[34m[04/29/2024 00:07:35 INFO 140116863772480] Number of GPUs being used: 0\u001b[0m\n",
      "\u001b[34m#metrics {\"StartTime\": 1714349255.0566347, \"EndTime\": 1714349255.3888125, \"Dimensions\": {\"Algorithm\": \"AWS/KMeansWebscale\", \"Host\": \"algo-1\", \"Operation\": \"training\"}, \"Metrics\": {\"initialize.time\": {\"sum\": 24.59406852722168, \"count\": 1, \"min\": 24.59406852722168, \"max\": 24.59406852722168}, \"epochs\": {\"sum\": 5.0, \"count\": 1, \"min\": 5, \"max\": 5}, \"update.time\": {\"sum\": 148.18954467773438, \"count\": 5, \"min\": 26.543378829956055, \"max\": 31.302213668823242}, \"_shrink.time\": {\"sum\": 147.20630645751953, \"count\": 1, \"min\": 147.20630645751953, \"max\": 147.20630645751953}, \"finalize.time\": {\"sum\": 149.17254447937012, \"count\": 1, \"min\": 149.17254447937012, \"max\": 149.17254447937012}, \"model.serialize.time\": {\"sum\": 0.18978118896484375, \"count\": 1, \"min\": 0.18978118896484375, \"max\": 0.18978118896484375}}}\u001b[0m\n",
      "\u001b[34m[04/29/2024 00:07:35 INFO 140116863772480] Test data is not provided.\u001b[0m\n",
      "\u001b[34m#metrics {\"StartTime\": 1714349255.3889318, \"EndTime\": 1714349255.3893082, \"Dimensions\": {\"Algorithm\": \"AWS/KMeansWebscale\", \"Host\": \"algo-1\", \"Operation\": \"training\"}, \"Metrics\": {\"setuptime\": {\"sum\": 2.4547576904296875, \"count\": 1, \"min\": 2.4547576904296875, \"max\": 2.4547576904296875}, \"totaltime\": {\"sum\": 384.76109504699707, \"count\": 1, \"min\": 384.76109504699707, \"max\": 384.76109504699707}}}\u001b[0m\n",
      "\n",
      "2024-04-29 00:07:53 Completed - Training job completed\n",
      "Training seconds: 147\n",
      "Billable seconds: 147\n"
     ]
    }
   ],
   "source": [
    "kmeans.fit(kmeans.record_set(df_data_k))"
   ]
  },
  {
   "cell_type": "markdown",
   "id": "3e3879a6-5eeb-47ee-bbfd-e2ed141d12ec",
   "metadata": {},
   "source": [
    "# NOT WORK WITH INFERENCE - Deploy model - create endpoint"
   ]
  },
  {
   "cell_type": "code",
   "execution_count": 35,
   "id": "b714cfc8-c10b-4fb6-93e7-83c76e5800b7",
   "metadata": {},
   "outputs": [
    {
     "name": "stdout",
     "output_type": "stream",
     "text": [
      "model_output_path :  s3://eliezerraj-908671954593-dataset/customer/notebook/output/kmeans-2024-04-28-21-42-39-435/output/model.tar.gz\n"
     ]
    }
   ],
   "source": [
    "# Get folder model.tar.z\n",
    "\n",
    "job_name = kmeans.latest_training_job.name\n",
    "model_output_path = f's3://{bucket_name}/{prefix_name}/{job_name}/output/model.tar.gz'\n",
    "\n",
    "print(\"model_output_path : \", model_output_path)"
   ]
  },
  {
   "cell_type": "code",
   "execution_count": 36,
   "id": "15cbe981-2e5b-48c4-b1eb-526a63ff4777",
   "metadata": {},
   "outputs": [
    {
     "name": "stdout",
     "output_type": "stream",
     "text": [
      "Model name: kmeans-serverless-customer-v2-2024-04-28-21-51-20\n"
     ]
    }
   ],
   "source": [
    "# Set the model name\n",
    "from time import gmtime, strftime\n",
    "\n",
    "client = boto3.client(service_name=\"sagemaker\")\n",
    "region = boto3.Session().region_name\n",
    "\n",
    "model_name = \"kmeans-serverless-customer-v2-\" + strftime(\"%Y-%m-%d-%H-%M-%S\", gmtime())\n",
    "print(\"Model name: \" + model_name)"
   ]
  },
  {
   "cell_type": "code",
   "execution_count": 37,
   "id": "d1e348c5-45ee-425f-bb00-e248aca4db82",
   "metadata": {},
   "outputs": [
    {
     "name": "stderr",
     "output_type": "stream",
     "text": [
      "INFO:sagemaker.image_uris:Same images used for training and inference. Defaulting to image scope: inference.\n",
      "WARNING:sagemaker.image_uris:Defaulting to the only supported framework/algorithm version: 1. Ignoring framework/algorithm version: latest.\n",
      "INFO:sagemaker.image_uris:Ignoring unnecessary instance type: None.\n"
     ]
    },
    {
     "name": "stdout",
     "output_type": "stream",
     "text": [
      "containere: 404615174143.dkr.ecr.us-east-2.amazonaws.com/kmeans:1\n"
     ]
    }
   ],
   "source": [
    "# Get the container image\n",
    "from sagemaker import image_uris\n",
    "container = image_uris.retrieve(\"kmeans\", region, \"latest\")\n",
    "\n",
    "print(\"containere: \" + container)"
   ]
  },
  {
   "cell_type": "code",
   "execution_count": 38,
   "id": "c74e7b05-4fef-4fdb-a0c3-38af1446a78f",
   "metadata": {},
   "outputs": [
    {
     "name": "stdout",
     "output_type": "stream",
     "text": [
      "Model Arn: arn:aws:sagemaker:us-east-2:908671954593:model/kmeans-serverless-customer-v2-2024-04-28-21-51-20\n"
     ]
    }
   ],
   "source": [
    "# Set environment variables\n",
    "byo_container_env_vars = {\"SAGEMAKER_CONTAINER_LOG_LEVEL\": \"20\"}\n",
    "\n",
    "create_model_response = client.create_model(\n",
    "    ModelName=model_name,\n",
    "    Containers=[\n",
    "        {\n",
    "            \"Image\": container,\n",
    "            \"Mode\": \"SingleModel\",\n",
    "            \"ModelDataUrl\": model_output_path,\n",
    "            \"Environment\": byo_container_env_vars,\n",
    "        }\n",
    "    ],\n",
    "    ExecutionRoleArn=role,\n",
    ")\n",
    "\n",
    "print(\"Model Arn: \" + create_model_response[\"ModelArn\"])"
   ]
  },
  {
   "cell_type": "markdown",
   "id": "3ef3da88-c41d-4462-b756-8db4d32fc482",
   "metadata": {},
   "source": [
    "# NOT WORK WITH INFERENCE Serverless endpoint_config"
   ]
  },
  {
   "cell_type": "code",
   "execution_count": 39,
   "id": "494e4d51-2edb-49bd-a635-4e3006866db0",
   "metadata": {},
   "outputs": [
    {
     "name": "stdout",
     "output_type": "stream",
     "text": [
      "Endpoint Configuration Arn: arn:aws:sagemaker:us-east-2:908671954593:endpoint-config/mlops-serverless-epc-customer-v2-2024-04-28-21-51-59\n"
     ]
    }
   ],
   "source": [
    "# Serveless endpoint config\n",
    "model_epc_name = \"mlops-serverless-epc-customer-v2-\" + strftime(\"%Y-%m-%d-%H-%M-%S\", gmtime())\n",
    "\n",
    "endpoint_config_response = client.create_endpoint_config(\n",
    "    EndpointConfigName=model_epc_name,\n",
    "    ProductionVariants=[\n",
    "        {\n",
    "            \"VariantName\": \"byoVariant\",\n",
    "            \"ModelName\": model_name,\n",
    "            \"ServerlessConfig\": {\n",
    "                \"MemorySizeInMB\": 4096,\n",
    "                \"MaxConcurrency\": 1,\n",
    "            },\n",
    "        },\n",
    "    ],\n",
    ")\n",
    "\n",
    "print(\"Endpoint Configuration Arn: \" + endpoint_config_response[\"EndpointConfigArn\"])"
   ]
  },
  {
   "cell_type": "code",
   "execution_count": 40,
   "id": "cb9aa670-0ecb-4bb7-a1ec-f6698683bdee",
   "metadata": {},
   "outputs": [
    {
     "name": "stdout",
     "output_type": "stream",
     "text": [
      "Endpoint Arn: arn:aws:sagemaker:us-east-2:908671954593:endpoint/kmeans-serverless-ep-customer-v2-2024-04-28-21-52-17\n"
     ]
    }
   ],
   "source": [
    "# Serveless endpoint\n",
    "endpoint_name = \"kmeans-serverless-ep-customer-v2-\" + strftime(\"%Y-%m-%d-%H-%M-%S\", gmtime())\n",
    "\n",
    "create_endpoint_response = client.create_endpoint(\n",
    "    EndpointName=endpoint_name,\n",
    "    EndpointConfigName=model_epc_name,\n",
    ")\n",
    "\n",
    "print(\"Endpoint Arn: \" + create_endpoint_response[\"EndpointArn\"])"
   ]
  },
  {
   "cell_type": "markdown",
   "id": "cf7c582e-55bf-4e48-b4ba-7b7c54d248a0",
   "metadata": {},
   "source": [
    "# Deploy INFERENCE EC2 Model, Endpoint Config and Endpoint"
   ]
  },
  {
   "cell_type": "code",
   "execution_count": 7,
   "id": "20a40646-f7e2-40da-a1f4-a10d43c81881",
   "metadata": {},
   "outputs": [
    {
     "name": "stderr",
     "output_type": "stream",
     "text": [
      "INFO:sagemaker.image_uris:Same images used for training and inference. Defaulting to image scope: inference.\n",
      "INFO:sagemaker.image_uris:Ignoring unnecessary instance type: None.\n",
      "INFO:sagemaker:Creating model with name: kmeans-2024-04-29-00-08-37-923\n",
      "INFO:sagemaker:Creating endpoint-config with name kmeans-2024-04-29-00-08-37-923\n",
      "INFO:sagemaker:Creating endpoint with name kmeans-2024-04-29-00-08-37-923\n"
     ]
    },
    {
     "name": "stdout",
     "output_type": "stream",
     "text": [
      "------!"
     ]
    },
    {
     "ename": "NameError",
     "evalue": "name 'endpoint_config_response' is not defined",
     "output_type": "error",
     "traceback": [
      "\u001b[0;31m---------------------------------------------------------------------------\u001b[0m",
      "\u001b[0;31mNameError\u001b[0m                                 Traceback (most recent call last)",
      "Cell \u001b[0;32mIn[7], line 4\u001b[0m\n\u001b[1;32m      1\u001b[0m \u001b[38;5;66;03m# EC2 endpoint\u001b[39;00m\n\u001b[1;32m      2\u001b[0m kmeans_predictor \u001b[38;5;241m=\u001b[39m kmeans\u001b[38;5;241m.\u001b[39mdeploy(initial_instance_count\u001b[38;5;241m=\u001b[39m\u001b[38;5;241m1\u001b[39m, instance_type\u001b[38;5;241m=\u001b[39m\u001b[38;5;124m\"\u001b[39m\u001b[38;5;124mml.m4.xlarge\u001b[39m\u001b[38;5;124m\"\u001b[39m)\n\u001b[0;32m----> 4\u001b[0m \u001b[38;5;28mprint\u001b[39m(\u001b[38;5;124m\"\u001b[39m\u001b[38;5;124mEndpoint Configuration Arn: \u001b[39m\u001b[38;5;124m\"\u001b[39m \u001b[38;5;241m+\u001b[39m \u001b[43mendpoint_config_response\u001b[49m[\u001b[38;5;124m\"\u001b[39m\u001b[38;5;124mEndpointConfigArn\u001b[39m\u001b[38;5;124m\"\u001b[39m])\n",
      "\u001b[0;31mNameError\u001b[0m: name 'endpoint_config_response' is not defined"
     ]
    }
   ],
   "source": [
    "# EC2 endpoint\n",
    "kmeans_predictor = kmeans.deploy(initial_instance_count=1, instance_type=\"ml.m4.xlarge\")"
   ]
  },
  {
   "cell_type": "code",
   "execution_count": 9,
   "id": "060f3e99-f9e4-4efe-af1f-b1ac3b870822",
   "metadata": {},
   "outputs": [],
   "source": [
    "# Install model\n",
    "kmeans_predictor.serializer = sagemaker.serializers.CSVSerializer()"
   ]
  },
  {
   "cell_type": "markdown",
   "id": "7928c498-b814-4d71-8218-202b92960431",
   "metadata": {},
   "source": [
    "# Inference Validation"
   ]
  },
  {
   "cell_type": "code",
   "execution_count": 53,
   "id": "1418b4fc-36e0-44de-9fb6-5fe76f62d0c2",
   "metadata": {},
   "outputs": [
    {
     "name": "stdout",
     "output_type": "stream",
     "text": [
      "df_data :            0    1    2    3\n",
      "0      45.0  3.0  1.0  3.0\n",
      "1      49.0  5.0  3.0  1.0\n",
      "2      51.0  3.0  3.0  4.0\n",
      "3      40.0  4.0  1.0  1.0\n",
      "4      40.0  3.0  0.0  3.0\n",
      "...     ...  ...  ...  ...\n",
      "10122  50.0  2.0  3.0  2.0\n",
      "10123  41.0  2.0  0.0  2.0\n",
      "10124  44.0  1.0  1.0  1.0\n",
      "10125  30.0  2.0  3.0  2.0\n",
      "10126  43.0  2.0  3.0  1.0\n",
      "\n",
      "[10127 rows x 4 columns]\n",
      "===> (CLUSTER )result for 4 posicion :  [2.0, 1.0, 1.0, 1.0]\n"
     ]
    }
   ],
   "source": [
    "print(\"df_data : \", df_data)\n",
    "\n",
    "result = kmeans_predictor.predict(df_data)\n",
    "clusters = [r.label[\"closest_cluster\"].float32_tensor.values[0] for r in result]\n",
    "\n",
    "print(\"===> (CLUSTER )result for 4 posicion : \", clusters[0:4])"
   ]
  },
  {
   "cell_type": "code",
   "execution_count": 54,
   "id": "3c889c9a-a9fe-425b-8ebc-00f37ceffae5",
   "metadata": {},
   "outputs": [
    {
     "data": {
      "text/html": [
       "<div>\n",
       "<style scoped>\n",
       "    .dataframe tbody tr th:only-of-type {\n",
       "        vertical-align: middle;\n",
       "    }\n",
       "\n",
       "    .dataframe tbody tr th {\n",
       "        vertical-align: top;\n",
       "    }\n",
       "\n",
       "    .dataframe thead th {\n",
       "        text-align: right;\n",
       "    }\n",
       "</style>\n",
       "<table border=\"1\" class=\"dataframe\">\n",
       "  <thead>\n",
       "    <tr style=\"text-align: right;\">\n",
       "      <th></th>\n",
       "      <th>Customer_Age</th>\n",
       "      <th>Dependent_count</th>\n",
       "      <th>Education_Level_Quality</th>\n",
       "      <th>Income_Category_Quality</th>\n",
       "      <th>CLUSTER</th>\n",
       "    </tr>\n",
       "  </thead>\n",
       "  <tbody>\n",
       "    <tr>\n",
       "      <th>0</th>\n",
       "      <td>45.0</td>\n",
       "      <td>3.0</td>\n",
       "      <td>1.0</td>\n",
       "      <td>3.0</td>\n",
       "      <td>2.0</td>\n",
       "    </tr>\n",
       "    <tr>\n",
       "      <th>1</th>\n",
       "      <td>49.0</td>\n",
       "      <td>5.0</td>\n",
       "      <td>3.0</td>\n",
       "      <td>1.0</td>\n",
       "      <td>1.0</td>\n",
       "    </tr>\n",
       "    <tr>\n",
       "      <th>2</th>\n",
       "      <td>51.0</td>\n",
       "      <td>3.0</td>\n",
       "      <td>3.0</td>\n",
       "      <td>4.0</td>\n",
       "      <td>1.0</td>\n",
       "    </tr>\n",
       "    <tr>\n",
       "      <th>3</th>\n",
       "      <td>40.0</td>\n",
       "      <td>4.0</td>\n",
       "      <td>1.0</td>\n",
       "      <td>1.0</td>\n",
       "      <td>1.0</td>\n",
       "    </tr>\n",
       "    <tr>\n",
       "      <th>4</th>\n",
       "      <td>40.0</td>\n",
       "      <td>3.0</td>\n",
       "      <td>0.0</td>\n",
       "      <td>3.0</td>\n",
       "      <td>1.0</td>\n",
       "    </tr>\n",
       "    <tr>\n",
       "      <th>...</th>\n",
       "      <td>...</td>\n",
       "      <td>...</td>\n",
       "      <td>...</td>\n",
       "      <td>...</td>\n",
       "      <td>...</td>\n",
       "    </tr>\n",
       "    <tr>\n",
       "      <th>95</th>\n",
       "      <td>64.0</td>\n",
       "      <td>1.0</td>\n",
       "      <td>3.0</td>\n",
       "      <td>1.0</td>\n",
       "      <td>1.0</td>\n",
       "    </tr>\n",
       "    <tr>\n",
       "      <th>96</th>\n",
       "      <td>45.0</td>\n",
       "      <td>3.0</td>\n",
       "      <td>3.0</td>\n",
       "      <td>2.0</td>\n",
       "      <td>2.0</td>\n",
       "    </tr>\n",
       "    <tr>\n",
       "      <th>97</th>\n",
       "      <td>53.0</td>\n",
       "      <td>3.0</td>\n",
       "      <td>5.0</td>\n",
       "      <td>2.0</td>\n",
       "      <td>1.0</td>\n",
       "    </tr>\n",
       "    <tr>\n",
       "      <th>98</th>\n",
       "      <td>56.0</td>\n",
       "      <td>3.0</td>\n",
       "      <td>2.0</td>\n",
       "      <td>5.0</td>\n",
       "      <td>1.0</td>\n",
       "    </tr>\n",
       "    <tr>\n",
       "      <th>99</th>\n",
       "      <td>47.0</td>\n",
       "      <td>2.0</td>\n",
       "      <td>0.0</td>\n",
       "      <td>4.0</td>\n",
       "      <td>1.0</td>\n",
       "    </tr>\n",
       "  </tbody>\n",
       "</table>\n",
       "<p>100 rows × 5 columns</p>\n",
       "</div>"
      ],
      "text/plain": [
       "    Customer_Age  Dependent_count  Education_Level_Quality  \\\n",
       "0           45.0              3.0                      1.0   \n",
       "1           49.0              5.0                      3.0   \n",
       "2           51.0              3.0                      3.0   \n",
       "3           40.0              4.0                      1.0   \n",
       "4           40.0              3.0                      0.0   \n",
       "..           ...              ...                      ...   \n",
       "95          64.0              1.0                      3.0   \n",
       "96          45.0              3.0                      3.0   \n",
       "97          53.0              3.0                      5.0   \n",
       "98          56.0              3.0                      2.0   \n",
       "99          47.0              2.0                      0.0   \n",
       "\n",
       "    Income_Category_Quality  CLUSTER  \n",
       "0                       3.0      2.0  \n",
       "1                       1.0      1.0  \n",
       "2                       4.0      1.0  \n",
       "3                       1.0      1.0  \n",
       "4                       3.0      1.0  \n",
       "..                      ...      ...  \n",
       "95                      1.0      1.0  \n",
       "96                      2.0      2.0  \n",
       "97                      2.0      1.0  \n",
       "98                      5.0      1.0  \n",
       "99                      4.0      1.0  \n",
       "\n",
       "[100 rows x 5 columns]"
      ]
     },
     "execution_count": 54,
     "metadata": {},
     "output_type": "execute_result"
    }
   ],
   "source": [
    "df_result_final = pd.read_csv(train_data_file, names=['Customer_Age', \n",
    "                                                      'Dependent_count', \n",
    "                                                      'Education_Level_Quality',\n",
    "                                                      'Income_Category_Quality'])\n",
    "df_result_final[\"CLUSTER\"] = clusters\n",
    "df_result_final.head(100)"
   ]
  },
  {
   "cell_type": "markdown",
   "id": "49476085-f546-412c-80f4-5f77d75b600c",
   "metadata": {},
   "source": [
    "# Add a new data"
   ]
  },
  {
   "cell_type": "code",
   "execution_count": 81,
   "id": "4ae9107b-06e6-4247-82eb-80321e63c8aa",
   "metadata": {},
   "outputs": [
    {
     "data": {
      "text/html": [
       "<div>\n",
       "<style scoped>\n",
       "    .dataframe tbody tr th:only-of-type {\n",
       "        vertical-align: middle;\n",
       "    }\n",
       "\n",
       "    .dataframe tbody tr th {\n",
       "        vertical-align: top;\n",
       "    }\n",
       "\n",
       "    .dataframe thead th {\n",
       "        text-align: right;\n",
       "    }\n",
       "</style>\n",
       "<table border=\"1\" class=\"dataframe\">\n",
       "  <thead>\n",
       "    <tr style=\"text-align: right;\">\n",
       "      <th></th>\n",
       "      <th>Customer_Age</th>\n",
       "      <th>Dependent_count</th>\n",
       "      <th>Education_Level_Quality</th>\n",
       "      <th>Income_Category_Quality</th>\n",
       "    </tr>\n",
       "  </thead>\n",
       "  <tbody>\n",
       "    <tr>\n",
       "      <th>0</th>\n",
       "      <td>40</td>\n",
       "      <td>3</td>\n",
       "      <td>0</td>\n",
       "      <td>3</td>\n",
       "    </tr>\n",
       "  </tbody>\n",
       "</table>\n",
       "</div>"
      ],
      "text/plain": [
       "   Customer_Age  Dependent_count  Education_Level_Quality  \\\n",
       "0            40                3                        0   \n",
       "\n",
       "   Income_Category_Quality  \n",
       "0                        3  "
      ]
     },
     "execution_count": 81,
     "metadata": {},
     "output_type": "execute_result"
    }
   ],
   "source": [
    "# new data customes\n",
    "\n",
    "df_new_customer_data = [{'Customer_Age': 40, \n",
    "                         'Dependent_count': 3, \n",
    "                         'Education_Level_Quality': 0, \n",
    "                         'Income_Category_Quality': 3 }]\n",
    "\n",
    "df_new_customer_data = pd.DataFrame(df_new_customer_data)\n",
    "df_new_customer_data"
   ]
  },
  {
   "cell_type": "code",
   "execution_count": 82,
   "id": "cbdec954-7326-4d60-9ae6-b4fe74f5f7b2",
   "metadata": {},
   "outputs": [
    {
     "data": {
      "text/html": [
       "<div>\n",
       "<style scoped>\n",
       "    .dataframe tbody tr th:only-of-type {\n",
       "        vertical-align: middle;\n",
       "    }\n",
       "\n",
       "    .dataframe tbody tr th {\n",
       "        vertical-align: top;\n",
       "    }\n",
       "\n",
       "    .dataframe thead th {\n",
       "        text-align: right;\n",
       "    }\n",
       "</style>\n",
       "<table border=\"1\" class=\"dataframe\">\n",
       "  <thead>\n",
       "    <tr style=\"text-align: right;\">\n",
       "      <th></th>\n",
       "      <th>0</th>\n",
       "      <th>1</th>\n",
       "      <th>2</th>\n",
       "      <th>3</th>\n",
       "    </tr>\n",
       "  </thead>\n",
       "  <tbody>\n",
       "    <tr>\n",
       "      <th>0</th>\n",
       "      <td>40.0</td>\n",
       "      <td>3.0</td>\n",
       "      <td>0.0</td>\n",
       "      <td>3.0</td>\n",
       "    </tr>\n",
       "    <tr>\n",
       "      <th>0</th>\n",
       "      <td>45.0</td>\n",
       "      <td>3.0</td>\n",
       "      <td>1.0</td>\n",
       "      <td>3.0</td>\n",
       "    </tr>\n",
       "    <tr>\n",
       "      <th>1</th>\n",
       "      <td>49.0</td>\n",
       "      <td>5.0</td>\n",
       "      <td>3.0</td>\n",
       "      <td>1.0</td>\n",
       "    </tr>\n",
       "  </tbody>\n",
       "</table>\n",
       "</div>"
      ],
      "text/plain": [
       "      0    1    2    3\n",
       "0  40.0  3.0  0.0  3.0\n",
       "0  45.0  3.0  1.0  3.0\n",
       "1  49.0  5.0  3.0  1.0"
      ]
     },
     "execution_count": 82,
     "metadata": {},
     "output_type": "execute_result"
    }
   ],
   "source": [
    "df_new_customer_data.columns=df_data.columns\n",
    "df_customer_test = pd.concat([df_new_customer_data, df_data], axis=0)\n",
    "df_customer_test.head(3)"
   ]
  },
  {
   "cell_type": "code",
   "execution_count": 83,
   "id": "492fb69b-8007-4581-87e2-f6355c044eb8",
   "metadata": {},
   "outputs": [],
   "source": [
    "new_customer_result_02 = kmeans_predictor.predict(df_customer_test)\n",
    "new_customer_clusters_02 = [r.label[\"closest_cluster\"].float32_tensor.values[0] for r in new_customer_result_02]"
   ]
  },
  {
   "cell_type": "code",
   "execution_count": 84,
   "id": "03e8f99a-49a6-44bc-bcf0-e6562fc40a09",
   "metadata": {},
   "outputs": [
    {
     "data": {
      "text/html": [
       "<div>\n",
       "<style scoped>\n",
       "    .dataframe tbody tr th:only-of-type {\n",
       "        vertical-align: middle;\n",
       "    }\n",
       "\n",
       "    .dataframe tbody tr th {\n",
       "        vertical-align: top;\n",
       "    }\n",
       "\n",
       "    .dataframe thead th {\n",
       "        text-align: right;\n",
       "    }\n",
       "</style>\n",
       "<table border=\"1\" class=\"dataframe\">\n",
       "  <thead>\n",
       "    <tr style=\"text-align: right;\">\n",
       "      <th></th>\n",
       "      <th>0</th>\n",
       "      <th>1</th>\n",
       "      <th>2</th>\n",
       "      <th>3</th>\n",
       "      <th>CLUSTER</th>\n",
       "    </tr>\n",
       "  </thead>\n",
       "  <tbody>\n",
       "    <tr>\n",
       "      <th>0</th>\n",
       "      <td>40.0</td>\n",
       "      <td>3.0</td>\n",
       "      <td>0.0</td>\n",
       "      <td>3.0</td>\n",
       "      <td>1.0</td>\n",
       "    </tr>\n",
       "    <tr>\n",
       "      <th>0</th>\n",
       "      <td>45.0</td>\n",
       "      <td>3.0</td>\n",
       "      <td>1.0</td>\n",
       "      <td>3.0</td>\n",
       "      <td>2.0</td>\n",
       "    </tr>\n",
       "    <tr>\n",
       "      <th>1</th>\n",
       "      <td>49.0</td>\n",
       "      <td>5.0</td>\n",
       "      <td>3.0</td>\n",
       "      <td>1.0</td>\n",
       "      <td>1.0</td>\n",
       "    </tr>\n",
       "    <tr>\n",
       "      <th>2</th>\n",
       "      <td>51.0</td>\n",
       "      <td>3.0</td>\n",
       "      <td>3.0</td>\n",
       "      <td>4.0</td>\n",
       "      <td>1.0</td>\n",
       "    </tr>\n",
       "    <tr>\n",
       "      <th>3</th>\n",
       "      <td>40.0</td>\n",
       "      <td>4.0</td>\n",
       "      <td>1.0</td>\n",
       "      <td>1.0</td>\n",
       "      <td>1.0</td>\n",
       "    </tr>\n",
       "    <tr>\n",
       "      <th>4</th>\n",
       "      <td>40.0</td>\n",
       "      <td>3.0</td>\n",
       "      <td>0.0</td>\n",
       "      <td>3.0</td>\n",
       "      <td>1.0</td>\n",
       "    </tr>\n",
       "    <tr>\n",
       "      <th>5</th>\n",
       "      <td>44.0</td>\n",
       "      <td>2.0</td>\n",
       "      <td>3.0</td>\n",
       "      <td>2.0</td>\n",
       "      <td>1.0</td>\n",
       "    </tr>\n",
       "    <tr>\n",
       "      <th>6</th>\n",
       "      <td>51.0</td>\n",
       "      <td>4.0</td>\n",
       "      <td>0.0</td>\n",
       "      <td>5.0</td>\n",
       "      <td>1.0</td>\n",
       "    </tr>\n",
       "    <tr>\n",
       "      <th>7</th>\n",
       "      <td>32.0</td>\n",
       "      <td>0.0</td>\n",
       "      <td>1.0</td>\n",
       "      <td>3.0</td>\n",
       "      <td>1.0</td>\n",
       "    </tr>\n",
       "    <tr>\n",
       "      <th>8</th>\n",
       "      <td>37.0</td>\n",
       "      <td>3.0</td>\n",
       "      <td>0.0</td>\n",
       "      <td>3.0</td>\n",
       "      <td>1.0</td>\n",
       "    </tr>\n",
       "    <tr>\n",
       "      <th>9</th>\n",
       "      <td>48.0</td>\n",
       "      <td>2.0</td>\n",
       "      <td>3.0</td>\n",
       "      <td>4.0</td>\n",
       "      <td>1.0</td>\n",
       "    </tr>\n",
       "  </tbody>\n",
       "</table>\n",
       "</div>"
      ],
      "text/plain": [
       "      0    1    2    3  CLUSTER\n",
       "0  40.0  3.0  0.0  3.0      1.0\n",
       "0  45.0  3.0  1.0  3.0      2.0\n",
       "1  49.0  5.0  3.0  1.0      1.0\n",
       "2  51.0  3.0  3.0  4.0      1.0\n",
       "3  40.0  4.0  1.0  1.0      1.0\n",
       "4  40.0  3.0  0.0  3.0      1.0\n",
       "5  44.0  2.0  3.0  2.0      1.0\n",
       "6  51.0  4.0  0.0  5.0      1.0\n",
       "7  32.0  0.0  1.0  3.0      1.0\n",
       "8  37.0  3.0  0.0  3.0      1.0\n",
       "9  48.0  2.0  3.0  4.0      1.0"
      ]
     },
     "execution_count": 84,
     "metadata": {},
     "output_type": "execute_result"
    }
   ],
   "source": [
    "df_customer_test[\"CLUSTER\"] = new_customer_clusters_02\n",
    "df_customer_test.head(11)"
   ]
  },
  {
   "cell_type": "code",
   "execution_count": 86,
   "id": "e31cb1b0-2036-4f07-8251-14ca2d079074",
   "metadata": {},
   "outputs": [
    {
     "name": "stderr",
     "output_type": "stream",
     "text": [
      "WARNING:sagemaker.deprecations:The endpoint attribute has been renamed in sagemaker>=2.\n",
      "See: https://sagemaker.readthedocs.io/en/stable/v2.html for details.\n"
     ]
    },
    {
     "name": "stdout",
     "output_type": "stream",
     "text": [
      "kmeans-2024-04-29-00-08-37-923\n"
     ]
    }
   ],
   "source": [
    "print(kmeans_predictor.endpoint)"
   ]
  },
  {
   "cell_type": "code",
   "execution_count": 87,
   "id": "72671f34-c097-41ba-be8b-51d8f9c825bb",
   "metadata": {},
   "outputs": [
    {
     "name": "stderr",
     "output_type": "stream",
     "text": [
      "INFO:sagemaker:Deleting endpoint configuration with name: kmeans-2024-04-29-00-08-37-923\n",
      "INFO:sagemaker:Deleting endpoint with name: kmeans-2024-04-29-00-08-37-923\n"
     ]
    }
   ],
   "source": [
    "kmeans_predictor.delete_endpoint()"
   ]
  },
  {
   "cell_type": "code",
   "execution_count": null,
   "id": "84a933c9-65ea-44c1-87b8-ae24ad6fcc0a",
   "metadata": {},
   "outputs": [],
   "source": []
  }
 ],
 "metadata": {
  "kernelspec": {
   "display_name": "Python 3 (ipykernel)",
   "language": "python",
   "name": "python3"
  },
  "language_info": {
   "codemirror_mode": {
    "name": "ipython",
    "version": 3
   },
   "file_extension": ".py",
   "mimetype": "text/x-python",
   "name": "python",
   "nbconvert_exporter": "python",
   "pygments_lexer": "ipython3",
   "version": "3.10.13"
  }
 },
 "nbformat": 4,
 "nbformat_minor": 5
}
